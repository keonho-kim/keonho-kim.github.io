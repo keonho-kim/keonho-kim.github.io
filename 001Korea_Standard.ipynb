{
 "metadata": {
  "language_info": {
   "codemirror_mode": {
    "name": "ipython",
    "version": 3
   },
   "file_extension": ".py",
   "mimetype": "text/x-python",
   "name": "python",
   "nbconvert_exporter": "python",
   "pygments_lexer": "ipython3",
   "version": "3.8.5-final"
  },
  "orig_nbformat": 2,
  "kernelspec": {
   "name": "python3",
   "display_name": "Python 3",
   "language": "python"
  }
 },
 "nbformat": 4,
 "nbformat_minor": 2,
 "cells": [
  {
   "cell_type": "code",
   "execution_count": 1,
   "metadata": {},
   "outputs": [],
   "source": [
    "import pandas as pd\n",
    "import re\n",
    "import os"
   ]
  },
  {
   "cell_type": "code",
   "execution_count": 2,
   "metadata": {},
   "outputs": [],
   "source": [
    "path = os.getcwd()\n",
    "industry_path = path + '\\Classification'"
   ]
  },
  {
   "cell_type": "code",
   "execution_count": 3,
   "metadata": {},
   "outputs": [],
   "source": [
    "f = pd.read_excel(\n",
    "    industry_path + \"\\korea_industry.xlsx\", \n",
    "    skiprows=[0, 1], \n",
    "    usecols = [1,3,5,7,9],\n",
    "    convert_float=False)"
   ]
  },
  {
   "cell_type": "code",
   "execution_count": 4,
   "metadata": {},
   "outputs": [],
   "source": [
    "'''\n",
    "컬럼명 바꾸기 \n",
    " 대분류 일수록 작은 숫자: 1 > 2 > 3 > 4\n",
    "'''\n",
    "cols = ['L1', 'L2', 'L3', 'L4', 'L5']\n",
    "f.set_axis(labels=cols, axis='columns', inplace=True)"
   ]
  },
  {
   "cell_type": "code",
   "execution_count": 5,
   "metadata": {},
   "outputs": [],
   "source": [
    "'''\n",
    " L1의 괄호 내 산업분류코드 (숫자) 제거하기\n",
    "'''\n",
    "for row in range(len(f)):\n",
    "    \n",
    "    if f['L1'][row] == None:\n",
    "        pass\n",
    "    \n",
    "    else:\n",
    "        text = str(f['L1'][row])\n",
    "        f['L1'][row] = re.sub(r'\\([^)]*\\)', '', text)"
   ]
  },
  {
   "cell_type": "code",
   "execution_count": 6,
   "metadata": {},
   "outputs": [],
   "source": [
    "'''\n",
    " L2의 ';' 이후의 텍스트 삭제하기\n",
    "'''\n",
    "\n",
    "for row in range(len(f)):\n",
    "    if f['L2'][row] == None:\n",
    "        pass\n",
    "    else:\n",
    "        text = str(f['L2'][row])\n",
    "        f['L2'][row] = text.split(';', 1)[0]"
   ]
  },
  {
   "cell_type": "code",
   "execution_count": 7,
   "metadata": {},
   "outputs": [],
   "source": [
    "''' \n",
    "빈 값 채우기\n",
    " 만일 값이 없으면 앞의 행 값을 입력하고,\n",
    " 아니라면 넘어감\n",
    "'''\n",
    "for col in list(f.columns):\n",
    "    for row in range(len(f)):\n",
    "        if str(f[col][row]).lower() == 'nan':\n",
    "            f[col][row] = f[col][row-1]\n",
    "        else:\n",
    "            pass"
   ]
  },
  {
   "cell_type": "code",
   "execution_count": 8,
   "metadata": {},
   "outputs": [],
   "source": [
    "f.to_csv(industry_path + \"\\classification.csv\")"
   ]
  }
 ]
}