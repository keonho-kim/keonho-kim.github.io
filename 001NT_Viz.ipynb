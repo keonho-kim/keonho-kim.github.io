{
 "cells": [
  {
   "cell_type": "code",
   "execution_count": 1,
   "metadata": {
    "ExecuteTime": {
     "end_time": "2021-01-24T03:08:15.428169Z",
     "start_time": "2021-01-24T03:08:13.900505Z"
    },
    "hide_input": false
   },
   "outputs": [],
   "source": [
    "import re\n",
    "import os\n",
    "import numpy as np\n",
    "from datetime import datetime, timedelta\n",
    "import pandas as pd\n",
    "import time\n",
    "\n",
    "try:\n",
    "    import FinanceDataReader as fdr\n",
    "    from pykrx import stock\n",
    "except:\n",
    "    os.system('pip install finance-datareader')\n",
    "    os.system('pip install pykrx')\n",
    "    import FinanceDataReader as fdr\n",
    "    from pykrx import stock\n",
    "\n",
    "try:\n",
    "    import plotly.graph_objects as go\n",
    "    import plotly.express as px\n",
    "    from plotly.subplots import make_subplots\n",
    "except:\n",
    "    os.system('pip install plotly')\n",
    "    import plotly.graph_objects as go\n",
    "    import plotly.express as px\n",
    "    from plotly.subplots import make_subplots\n",
    "    \n",
    "# pandas copy error 끄기\n",
    "pd.set_option('mode.chained_assignment',  None)\n",
    "pd.options.display.float_format = '{:.2f}'.format\n",
    "\n",
    "# 파일 경로 설정\n",
    "path = os.getcwd()\n",
    "clas_path = path +'\\\\Classification\\\\'\n",
    "img_path = path +'\\\\images\\\\'"
   ]
  },
  {
   "cell_type": "code",
   "execution_count": 2,
   "metadata": {
    "ExecuteTime": {
     "end_time": "2021-01-24T03:44:56.477417Z",
     "start_time": "2021-01-24T03:44:35.673710Z"
    }
   },
   "outputs": [
    {
     "output_type": "stream",
     "name": "stdout",
     "text": [
      "입력예시: 2020-01-01\n"
     ]
    }
   ],
   "source": [
    "# 날짜 설정\n",
    "print(\"입력예시: 2020-01-01\")\n",
    "previous = str(input(\"이전 거래일을 입력하세요: \").replace('-', ''))\n",
    "today = str(input(\"오늘 날짜를 입력하세요: \").replace('-', ''))\n",
    "\n",
    "# 표준산업분류 불러오기\n",
    "classification = pd.read_csv(clas_path +'\\classification.csv', usecols=['L1','L2','L3'])\n",
    "\n",
    "# 코스피 종목 정보 불러오기\n",
    "kospi_list = fdr.StockListing('KOSPI')\n",
    "    # 우선주, 투자신탁 제거\n",
    "kospi_list = kospi_list.dropna(axis=0).reset_index(drop=True)\n",
    "    # 코스피 종목 정보 추리기\n",
    "kospi_info= pd.DataFrame(kospi_list, columns = ['Symbol', 'Name', 'Sector'])\n",
    "\n",
    "\n",
    "# 상위 산업 추가하기\n",
    "\n",
    "# 띄워쓰기가 다른 경우가 있음 -> 띄워쓰기 전부 제거\n",
    "# 특수 문자 모두 제거\n",
    "\n",
    "for idx, row in classification.iterrows():\n",
    "    no_space = row['L3'].replace(' ', '')\n",
    "    row['L3'] = no_space\n",
    "\n",
    "    no_specials = re.sub('[-=+,#/\\?:^$.@*\\\"※~&%ㆍ!』\\\\‘|\\(\\)\\[\\]\\<\\>`\\'…》]', '', row['L3'])\n",
    "    row['L3'] = no_specials\n",
    "\n",
    "# 코스피 상위 산업 추가하기\n",
    "\n",
    "kospi_info['L2'] = None\n",
    "kospi_info['L1'] = None\n",
    "\n",
    "for idx, row in kospi_info.iterrows():\n",
    "    \n",
    "    sector = row['Sector'].replace(' ', '') # 코스피의 섹터도 동일하게 띄워쓰기 제거\n",
    "    sector = re.sub('[-=+,#/·\\?:^$.@*\\\"※~&%ㆍ!』\\\\‘|\\(\\)\\[\\]\\<\\>`\\'…》]', '', sector) # 모든 특수문자 제거\n",
    "\n",
    "    L1 = list(classification[classification['L3'] == sector]['L1'])\n",
    "    L2 = list(classification[classification['L3']== sector]['L2'])\n",
    "    \n",
    "    if len(L1) > 0:\n",
    "        kospi_info['L1'][idx] = L1[0]\n",
    "        kospi_info['L2'][idx] = L2[0]\n",
    "    else:\n",
    "        print(sector)"
   ]
  },
  {
   "cell_type": "code",
   "execution_count": 37,
   "metadata": {
    "ExecuteTime": {
     "end_time": "2021-01-24T03:45:05.277359Z",
     "start_time": "2021-01-24T03:44:56.481356Z"
    }
   },
   "outputs": [],
   "source": [
    "# 컬럼명 바꾸기\n",
    "kospi_info = kospi_info.rename(columns={'Symbol':'Ticker', 'Sector': 'L3'})\n",
    "\n",
    "kospi_ohlcv_pre = stock.get_market_ohlcv_by_ticker(previous, \"KOSPI\").reset_index(drop=False)\n",
    "kospi_ohlcv_pre = kospi_ohlcv_pre.rename(\n",
    "    columns = {\n",
    "        '티커':'Ticker',\n",
    "        '종목명':'Name',\n",
    "        '시가': 'Open',\n",
    "        '고가': 'High',\n",
    "        '저가': 'Low',\n",
    "        '종가': 'Close',\n",
    "        '거래량': 'Volume',\n",
    "        '거래대금': 'Transaction Volume'\n",
    "         }\n",
    "    )\n",
    "\n",
    "kospi_ohlcv_today = stock.get_market_ohlcv_by_ticker(today, \"KOSPI\").reset_index(drop=False)\n",
    "kospi_ohlcv_today = kospi_ohlcv_today.rename(\n",
    "    columns = {\n",
    "        '티커':'Ticker',\n",
    "        '종목명':'Name',\n",
    "        '시가': 'Open',\n",
    "        '고가': 'High',\n",
    "        '저가': 'Low',\n",
    "        '종가': 'Close',\n",
    "        '거래량': 'Volume',\n",
    "        '거래대금': 'Transaction Volume'\n",
    "         }\n",
    "    )\n",
    "\n",
    "\n",
    "market_cap_pre = stock.get_market_cap_by_ticker(previous, \"KOSPI\").reset_index(drop=False)\n",
    "\n",
    "market_cap_pre = market_cap_pre.rename(\n",
    "    columns = {\n",
    "        '티커':'Ticker',\n",
    "        '종가': 'Close',\n",
    "        '거래량': 'Volume',\n",
    "        '거래대금': 'Transaction Volume',\n",
    "        '시가총액': 'Market Cap',\n",
    "        '상장주식수': 'Share Outstanding'\n",
    "         }\n",
    "    )\n",
    "\n",
    "\n",
    "market_cap_today = stock.get_market_cap_by_ticker(today, \"KOSPI\").reset_index(drop=False)\n",
    "\n",
    "market_cap_today = market_cap_today.rename(\n",
    "    columns = {\n",
    "        '티커':'Ticker',\n",
    "        '종가': 'Close',\n",
    "        '거래량': 'Volume',\n",
    "        '거래대금': 'Transaction Volume',\n",
    "        '시가총액': 'Market Cap',\n",
    "        '상장주식수': 'Share Outstanding'\n",
    "         }\n",
    "    )\n",
    "\n",
    "\n",
    "\n",
    "# 코스피 데이터 병합\n",
    "kospi_info['Open'] = None\n",
    "kospi_info['Close'] = None\n",
    "kospi_info['Pr_Change'] = None\n",
    "kospi_info['Change'] = None\n",
    "kospi_info['MarCap_pre'] = None\n",
    "kospi_info['MarCap_today'] = None\n",
    "kospi_info['sqrtMarCap'] = None\n",
    "kospi_info['Status'] = None\n",
    "\n",
    "for idx, row in kospi_info.iterrows():\n",
    "    ticker = row['Ticker']\n",
    "    \n",
    "    stock_ohlcv_today = kospi_ohlcv_today[kospi_ohlcv_today['Ticker'] == ticker]\n",
    "\n",
    "    mcap_td = market_cap_today[market_cap_today[\"Ticker\"] == ticker]['Market Cap'].iloc[0]  \n",
    "    row['MarCap_today'] = int(mcap_td)\n",
    "\n",
    "    mcap_pr = market_cap_pre[market_cap_pre[\"Ticker\"] == ticker]['Market Cap'].iloc[0] \n",
    "    row['MarCap_pre'] = int(mcap_pr)\n",
    "       \n",
    "    if stock_ohlcv_today['Open'].iloc[0] != 0: # 거래정지가 아닌 경우\n",
    "        row['Open'] = stock_ohlcv_today['Open'].iloc[0]\n",
    "        row['Close'] = stock_ohlcv_today['Close'].iloc[0]\n",
    "        \n",
    "        # 전일 대비 가격 변동\n",
    "        pre_close = kospi_ohlcv_pre[kospi_ohlcv_pre['Ticker'] == ticker]['Close'].iloc[0]\n",
    "        ch = row['Close'] - pre_close\n",
    "        row['Pr_Change'] = ch\n",
    "        pch = round((row['Close'] - pre_close) / pre_close * 100, 2)\n",
    "        row['Change'] = pch\n",
    "        \n",
    "        row['sqrtMarCap'] = np.sqrt(int(mcap_td))\n",
    "        row['Status'] = 'Active'\n",
    "\n",
    "    else: # 거래정지\n",
    "        row['Open'] = stock_ohlcv_today['Close'].iloc[0]\n",
    "        row['Close'] = stock_ohlcv_today['Close'].iloc[0]\n",
    "        row['Change'] = 0\n",
    "        \n",
    "        row['sqrtMarCap'] = np.sqrt(int(mcap_td))\n",
    "        row['Status'] = 'Suspend'\n",
    "\n",
    "kospi_info['Market'] = 'KOSPI'\n",
    "kospi_info['Open'] = kospi_info['Open'].astype(float)\n",
    "kospi_info['Close'] = kospi_info['Close'].astype(float)\n",
    "kospi_info['Change'] = kospi_info['Change'].astype(float)\n",
    "kospi_info['MarCap_pre'] = kospi_info['MarCap_pre'].astype(float)\n",
    "kospi_info['MarCap_today'] = kospi_info['MarCap_today'].astype(float)\n",
    "kospi_info['sqrtMarCap'] = kospi_info['sqrtMarCap'].astype(float)"
   ]
  },
  {
   "cell_type": "code",
   "execution_count": 38,
   "metadata": {},
   "outputs": [
    {
     "output_type": "execute_result",
     "data": {
      "text/plain": [
       "     Ticker     Name               L3                L2  \\\n",
       "0    095570   AJ네트웍스  산업용 기계 및 장비 임대업               임대업   \n",
       "1    006840    AK홀딩스           기타 금융업               금융업   \n",
       "2    027410      BGF           기타 금융업               금융업   \n",
       "3    282330   BGF리테일           종합 소매업               소매업   \n",
       "4    138930  BNK금융지주           기타 금융업               금융업   \n",
       "..      ...      ...              ...               ...   \n",
       "759  079980      휴비스         화학섬유 제조업  화학 물질 및 화학제품 제조업   \n",
       "760  005010      휴스틸        1차 철강 제조업         1차 금속 제조업   \n",
       "761  069260      휴켐스      기타 화학제품 제조업  화학 물질 및 화학제품 제조업   \n",
       "762  000540     흥국화재              보험업          보험 및 연금업   \n",
       "763  003280     흥아해운           해상 운송업            수상 운송업   \n",
       "\n",
       "                           L1      Open     Close Pr_Change  Change  \\\n",
       "0    사업시설 관리, 사업 지원 및 임대 서비스업   4190.00   4210.00        35    0.84   \n",
       "1                    금융 및 보험업  25750.00  29100.00      3250   12.57   \n",
       "2                    금융 및 보험업   5020.00   5220.00       210    4.19   \n",
       "3                    도매 및 소매업 156500.00 152000.00     -4000   -2.56   \n",
       "4                    금융 및 보험업   5720.00   5610.00      -120   -2.09   \n",
       "..                        ...       ...       ...       ...     ...   \n",
       "759                       제조업   8080.00   8060.00        10    0.12   \n",
       "760                       제조업   7990.00   8010.00       100    1.26   \n",
       "761                       제조업  23950.00  23650.00       -50   -0.21   \n",
       "762                  금융 및 보험업   3390.00   3310.00      -105   -3.07   \n",
       "763                  운수 및 창고업    258.00    258.00      None    0.00   \n",
       "\n",
       "          MarCap_pre     MarCap_today  sqrtMarCap   Status           parent  \\\n",
       "0    195483081625.00  197121861950.00   443984.08   Active  산업용 기계 및 장비 임대업   \n",
       "1    342449451850.00  385504025100.00   620889.70   Active           기타 금융업   \n",
       "2    479541122910.00  499641649020.00   706853.34   Active           기타 금융업   \n",
       "3   2696289336000.00 2627153712000.00  1620849.69   Active           종합 소매업   \n",
       "4   1867608959580.00 1828496730060.00  1352219.19   Active           기타 금융업   \n",
       "..               ...              ...         ...      ...              ...   \n",
       "759  277725000000.00  278070000000.00   527323.43   Active         화학섬유 제조업   \n",
       "760   60287393880.00   61049560680.00   247082.09   Active        1차 철강 제조업   \n",
       "761  968822535600.00  966778606200.00   983249.01   Active      기타 화학제품 제조업   \n",
       "762  219388632675.00  212643154950.00   461132.47   Active              보험업   \n",
       "763   30117000222.00   30117000222.00   173542.50  Suspend           해상 운송업   \n",
       "\n",
       "    Market  \n",
       "0    KOSPI  \n",
       "1    KOSPI  \n",
       "2    KOSPI  \n",
       "3    KOSPI  \n",
       "4    KOSPI  \n",
       "..     ...  \n",
       "759  KOSPI  \n",
       "760  KOSPI  \n",
       "761  KOSPI  \n",
       "762  KOSPI  \n",
       "763  KOSPI  \n",
       "\n",
       "[764 rows x 15 columns]"
      ],
      "text/html": "<div>\n<style scoped>\n    .dataframe tbody tr th:only-of-type {\n        vertical-align: middle;\n    }\n\n    .dataframe tbody tr th {\n        vertical-align: top;\n    }\n\n    .dataframe thead th {\n        text-align: right;\n    }\n</style>\n<table border=\"1\" class=\"dataframe\">\n  <thead>\n    <tr style=\"text-align: right;\">\n      <th></th>\n      <th>Ticker</th>\n      <th>Name</th>\n      <th>L3</th>\n      <th>L2</th>\n      <th>L1</th>\n      <th>Open</th>\n      <th>Close</th>\n      <th>Pr_Change</th>\n      <th>Change</th>\n      <th>MarCap_pre</th>\n      <th>MarCap_today</th>\n      <th>sqrtMarCap</th>\n      <th>Status</th>\n      <th>parent</th>\n      <th>Market</th>\n    </tr>\n  </thead>\n  <tbody>\n    <tr>\n      <th>0</th>\n      <td>095570</td>\n      <td>AJ네트웍스</td>\n      <td>산업용 기계 및 장비 임대업</td>\n      <td>임대업</td>\n      <td>사업시설 관리, 사업 지원 및 임대 서비스업</td>\n      <td>4190.00</td>\n      <td>4210.00</td>\n      <td>35</td>\n      <td>0.84</td>\n      <td>195483081625.00</td>\n      <td>197121861950.00</td>\n      <td>443984.08</td>\n      <td>Active</td>\n      <td>산업용 기계 및 장비 임대업</td>\n      <td>KOSPI</td>\n    </tr>\n    <tr>\n      <th>1</th>\n      <td>006840</td>\n      <td>AK홀딩스</td>\n      <td>기타 금융업</td>\n      <td>금융업</td>\n      <td>금융 및 보험업</td>\n      <td>25750.00</td>\n      <td>29100.00</td>\n      <td>3250</td>\n      <td>12.57</td>\n      <td>342449451850.00</td>\n      <td>385504025100.00</td>\n      <td>620889.70</td>\n      <td>Active</td>\n      <td>기타 금융업</td>\n      <td>KOSPI</td>\n    </tr>\n    <tr>\n      <th>2</th>\n      <td>027410</td>\n      <td>BGF</td>\n      <td>기타 금융업</td>\n      <td>금융업</td>\n      <td>금융 및 보험업</td>\n      <td>5020.00</td>\n      <td>5220.00</td>\n      <td>210</td>\n      <td>4.19</td>\n      <td>479541122910.00</td>\n      <td>499641649020.00</td>\n      <td>706853.34</td>\n      <td>Active</td>\n      <td>기타 금융업</td>\n      <td>KOSPI</td>\n    </tr>\n    <tr>\n      <th>3</th>\n      <td>282330</td>\n      <td>BGF리테일</td>\n      <td>종합 소매업</td>\n      <td>소매업</td>\n      <td>도매 및 소매업</td>\n      <td>156500.00</td>\n      <td>152000.00</td>\n      <td>-4000</td>\n      <td>-2.56</td>\n      <td>2696289336000.00</td>\n      <td>2627153712000.00</td>\n      <td>1620849.69</td>\n      <td>Active</td>\n      <td>종합 소매업</td>\n      <td>KOSPI</td>\n    </tr>\n    <tr>\n      <th>4</th>\n      <td>138930</td>\n      <td>BNK금융지주</td>\n      <td>기타 금융업</td>\n      <td>금융업</td>\n      <td>금융 및 보험업</td>\n      <td>5720.00</td>\n      <td>5610.00</td>\n      <td>-120</td>\n      <td>-2.09</td>\n      <td>1867608959580.00</td>\n      <td>1828496730060.00</td>\n      <td>1352219.19</td>\n      <td>Active</td>\n      <td>기타 금융업</td>\n      <td>KOSPI</td>\n    </tr>\n    <tr>\n      <th>...</th>\n      <td>...</td>\n      <td>...</td>\n      <td>...</td>\n      <td>...</td>\n      <td>...</td>\n      <td>...</td>\n      <td>...</td>\n      <td>...</td>\n      <td>...</td>\n      <td>...</td>\n      <td>...</td>\n      <td>...</td>\n      <td>...</td>\n      <td>...</td>\n      <td>...</td>\n    </tr>\n    <tr>\n      <th>759</th>\n      <td>079980</td>\n      <td>휴비스</td>\n      <td>화학섬유 제조업</td>\n      <td>화학 물질 및 화학제품 제조업</td>\n      <td>제조업</td>\n      <td>8080.00</td>\n      <td>8060.00</td>\n      <td>10</td>\n      <td>0.12</td>\n      <td>277725000000.00</td>\n      <td>278070000000.00</td>\n      <td>527323.43</td>\n      <td>Active</td>\n      <td>화학섬유 제조업</td>\n      <td>KOSPI</td>\n    </tr>\n    <tr>\n      <th>760</th>\n      <td>005010</td>\n      <td>휴스틸</td>\n      <td>1차 철강 제조업</td>\n      <td>1차 금속 제조업</td>\n      <td>제조업</td>\n      <td>7990.00</td>\n      <td>8010.00</td>\n      <td>100</td>\n      <td>1.26</td>\n      <td>60287393880.00</td>\n      <td>61049560680.00</td>\n      <td>247082.09</td>\n      <td>Active</td>\n      <td>1차 철강 제조업</td>\n      <td>KOSPI</td>\n    </tr>\n    <tr>\n      <th>761</th>\n      <td>069260</td>\n      <td>휴켐스</td>\n      <td>기타 화학제품 제조업</td>\n      <td>화학 물질 및 화학제품 제조업</td>\n      <td>제조업</td>\n      <td>23950.00</td>\n      <td>23650.00</td>\n      <td>-50</td>\n      <td>-0.21</td>\n      <td>968822535600.00</td>\n      <td>966778606200.00</td>\n      <td>983249.01</td>\n      <td>Active</td>\n      <td>기타 화학제품 제조업</td>\n      <td>KOSPI</td>\n    </tr>\n    <tr>\n      <th>762</th>\n      <td>000540</td>\n      <td>흥국화재</td>\n      <td>보험업</td>\n      <td>보험 및 연금업</td>\n      <td>금융 및 보험업</td>\n      <td>3390.00</td>\n      <td>3310.00</td>\n      <td>-105</td>\n      <td>-3.07</td>\n      <td>219388632675.00</td>\n      <td>212643154950.00</td>\n      <td>461132.47</td>\n      <td>Active</td>\n      <td>보험업</td>\n      <td>KOSPI</td>\n    </tr>\n    <tr>\n      <th>763</th>\n      <td>003280</td>\n      <td>흥아해운</td>\n      <td>해상 운송업</td>\n      <td>수상 운송업</td>\n      <td>운수 및 창고업</td>\n      <td>258.00</td>\n      <td>258.00</td>\n      <td>None</td>\n      <td>0.00</td>\n      <td>30117000222.00</td>\n      <td>30117000222.00</td>\n      <td>173542.50</td>\n      <td>Suspend</td>\n      <td>해상 운송업</td>\n      <td>KOSPI</td>\n    </tr>\n  </tbody>\n</table>\n<p>764 rows × 15 columns</p>\n</div>"
     },
     "metadata": {},
     "execution_count": 38
    }
   ],
   "source": [
    "kospi_info"
   ]
  },
  {
   "cell_type": "code",
   "execution_count": 57,
   "metadata": {
    "ExecuteTime": {
     "end_time": "2021-01-24T03:12:27.113518Z",
     "start_time": "2021-01-24T03:12:27.027133Z"
    }
   },
   "outputs": [
    {
     "output_type": "display_data",
     "data": {
      "application/vnd.plotly.v1+json": {
       "config": {
        "plotlyServerURL": "https://plot.ly"
       },
       "data": [
        {
         "branchvalues": "total",
         "customdata": [
          [
           0.84
          ],
          [
           12.57
          ],
          [
           4.19
          ],
          [
           -2.56
          ],
          [
           -2.09
          ],
          [
           -0.6299999999999999
          ],
          [
           -2.75
          ],
          [
           2.14
          ],
          [
           1.18
          ],
          [
           3.1299999999999994
          ],
          [
           0.57
          ],
          [
           -0.17
          ],
          [
           3.44
          ],
          [
           -1.8799999999999997
          ],
          [
           -3.15
          ],
          [
           -2.95
          ],
          [
           -2.39
          ],
          [
           -0.26
          ],
          [
           2.55
          ],
          [
           0
          ],
          [
           -0.38
          ],
          [
           -0.36
          ],
          [
           0.19
          ],
          [
           10.3
          ],
          [
           3.44
          ],
          [
           -2.18
          ],
          [
           -1.5000000000000002
          ],
          [
           1.85
          ],
          [
           -0.42
          ],
          [
           -1.8
          ],
          [
           -4.5
          ],
          [
           1.7800000000000002
          ],
          [
           -1.67
          ],
          [
           0.13
          ],
          [
           1.49
          ],
          [
           -1.74
          ],
          [
           -1.79
          ],
          [
           -1.95
          ],
          [
           -1.9899999999999998
          ],
          [
           -1.56
          ],
          [
           2.87
          ],
          [
           -5.59
          ],
          [
           2.25
          ],
          [
           0.86
          ],
          [
           -6.4
          ],
          [
           -0.42
          ],
          [
           0.63
          ],
          [
           1.03
          ],
          [
           1.65
          ],
          [
           0.35
          ],
          [
           0.98
          ],
          [
           -0.84
          ],
          [
           0.37
          ],
          [
           -1.41
          ],
          [
           -2.29
          ],
          [
           -3.33
          ],
          [
           2.36
          ],
          [
           -7.36
          ],
          [
           1.07
          ],
          [
           -4.17
          ],
          [
           1.1
          ],
          [
           -0.82
          ],
          [
           -2.68
          ],
          [
           -4.05
          ],
          [
           -0.48
          ],
          [
           -3.85
          ],
          [
           -1.32
          ],
          [
           -3.86
          ],
          [
           -0.53
          ],
          [
           -2.24
          ],
          [
           2.06
          ],
          [
           0.46
          ],
          [
           6.51
          ],
          [
           1.11
          ],
          [
           -0.43
          ],
          [
           -0.12
          ],
          [
           -0.83
          ],
          [
           -0.32
          ],
          [
           0
          ],
          [
           0.4699999999999999
          ],
          [
           -3.15
          ],
          [
           0.31
          ],
          [
           2.86
          ],
          [
           -2.7100000000000004
          ],
          [
           1.2
          ],
          [
           -1.22
          ],
          [
           0
          ],
          [
           -0.26
          ],
          [
           -2.53
          ],
          [
           -2.52
          ],
          [
           -4.53
          ],
          [
           -0.63
          ],
          [
           -0.53
          ],
          [
           1.66
          ],
          [
           -3.95
          ],
          [
           2.53
          ],
          [
           -0.47
          ],
          [
           1.28
          ],
          [
           1.07
          ],
          [
           -2.28
          ],
          [
           1.32
          ],
          [
           0.72
          ],
          [
           -1.31
          ],
          [
           -2.03
          ],
          [
           -0.78
          ],
          [
           -2.28
          ],
          [
           0.54
          ],
          [
           0.88
          ],
          [
           -1.19
          ],
          [
           -1.7200000000000002
          ],
          [
           -1.32
          ],
          [
           14.04
          ],
          [
           9.09
          ],
          [
           1.23
          ],
          [
           -1.74
          ],
          [
           3.69
          ],
          [
           -0.33
          ],
          [
           -1.49
          ],
          [
           -1.38
          ],
          [
           -0.27
          ],
          [
           0.33
          ],
          [
           -3.38
          ],
          [
           0.62
          ],
          [
           -1.23
          ],
          [
           -5
          ],
          [
           -0.89
          ],
          [
           -4.04
          ],
          [
           -1.21
          ],
          [
           -1.95
          ],
          [
           -0.67
          ],
          [
           -0.20999999999999996
          ],
          [
           0.68
          ],
          [
           -3.72
          ],
          [
           1.28
          ],
          [
           -1.28
          ],
          [
           -0.28
          ],
          [
           -2.08
          ],
          [
           3.23
          ],
          [
           -0.87
          ],
          [
           2.51
          ],
          [
           -0.31
          ],
          [
           0.29
          ],
          [
           1.09
          ],
          [
           0.57
          ],
          [
           3.59
          ],
          [
           0.21
          ],
          [
           2.42
          ],
          [
           -3.43
          ],
          [
           0.67
          ],
          [
           2.47
          ],
          [
           0
          ],
          [
           -3.6200000000000006
          ],
          [
           -1.05
          ],
          [
           -1.69
          ],
          [
           0
          ],
          [
           0.7
          ],
          [
           -0.11000000000000001
          ],
          [
           -2.95
          ],
          [
           0.5
          ],
          [
           2.72
          ],
          [
           0
          ],
          [
           -2.23
          ],
          [
           -0.95
          ],
          [
           4.96
          ],
          [
           2.31
          ],
          [
           4.55
          ],
          [
           8.52
          ],
          [
           -0.17
          ],
          [
           0.26
          ],
          [
           0.18
          ],
          [
           0.63
          ],
          [
           2.15
          ],
          [
           -0.9500000000000001
          ],
          [
           -0.14
          ],
          [
           0.6799999999999999
          ],
          [
           -1.35
          ],
          [
           -1.07
          ],
          [
           0.66
          ],
          [
           -0.88
          ],
          [
           0
          ],
          [
           -1.85
          ],
          [
           -0.53
          ],
          [
           0.15
          ],
          [
           0.39
          ],
          [
           0.18
          ],
          [
           1.19
          ],
          [
           -2.92
          ],
          [
           -0.58
          ],
          [
           -2.94
          ],
          [
           -2.2
          ],
          [
           -2.14
          ],
          [
           -5.23
          ],
          [
           -1.86
          ],
          [
           0.11
          ],
          [
           -2.64
          ],
          [
           0
          ],
          [
           2.22
          ],
          [
           -1.2
          ],
          [
           -1.61
          ],
          [
           0
          ],
          [
           -0.41
          ],
          [
           5.66
          ],
          [
           -0.55
          ],
          [
           4.33
          ],
          [
           2.27
          ],
          [
           -0.48
          ],
          [
           -0.99
          ],
          [
           5.75
          ],
          [
           0
          ],
          [
           0.9099999999999999
          ],
          [
           0.25
          ],
          [
           -1.04
          ],
          [
           -0.45
          ],
          [
           -4.38
          ],
          [
           18
          ],
          [
           -0.1
          ],
          [
           1.82
          ],
          [
           0.11
          ],
          [
           0
          ],
          [
           0.98
          ],
          [
           -0.44
          ],
          [
           -0.73
          ],
          [
           1.05
          ],
          [
           -1.03
          ],
          [
           0
          ],
          [
           -3.5
          ],
          [
           -0.82
          ],
          [
           -2.95
          ],
          [
           -5.900000000000001
          ],
          [
           0
          ],
          [
           -0.21
          ],
          [
           -2.51
          ],
          [
           -0.99
          ],
          [
           1.29
          ],
          [
           -0.81
          ],
          [
           -7.049999999999999
          ],
          [
           0
          ],
          [
           0.65
          ],
          [
           0.68
          ],
          [
           -1.4199999999999997
          ],
          [
           4.18
          ],
          [
           -1.9299999999999997
          ],
          [
           -1.7999999999999998
          ],
          [
           6.36
          ],
          [
           3.59
          ],
          [
           1.34
          ],
          [
           0.37
          ],
          [
           11.01
          ],
          [
           -0.77
          ],
          [
           -3.07
          ],
          [
           1.67
          ],
          [
           0.19
          ],
          [
           -1.32
          ],
          [
           -5.52
          ],
          [
           -1.15
          ],
          [
           -2.77
          ],
          [
           6.340000000000001
          ],
          [
           3.87
          ],
          [
           1.15
          ],
          [
           -0.7999999999999999
          ],
          [
           0.87
          ],
          [
           4.12
          ],
          [
           0.85
          ],
          [
           0.46
          ],
          [
           1.39
          ],
          [
           0
          ],
          [
           -1.8700000000000003
          ],
          [
           0
          ],
          [
           15.43
          ],
          [
           -0.99
          ],
          [
           -2.5
          ],
          [
           -2.93
          ],
          [
           0.48
          ],
          [
           -0.31
          ],
          [
           -0.7
          ],
          [
           -0.65
          ],
          [
           1.88
          ],
          [
           -1.52
          ],
          [
           -3.1
          ],
          [
           -0.42
          ],
          [
           0.89
          ],
          [
           0.17
          ],
          [
           -1.75
          ],
          [
           3.63
          ],
          [
           -1.22
          ],
          [
           0.68
          ],
          [
           -2.6
          ],
          [
           -1.69
          ],
          [
           -2.5399999999999996
          ],
          [
           -0.71
          ],
          [
           -0.11
          ],
          [
           -0.78
          ],
          [
           -1.79
          ],
          [
           -0.4699999999999999
          ],
          [
           0.48
          ],
          [
           -0.93
          ],
          [
           -2.35
          ],
          [
           -0.96
          ],
          [
           1.41
          ],
          [
           -1.11
          ],
          [
           -1.84
          ],
          [
           -1.3
          ],
          [
           -5.41
          ],
          [
           -1.57
          ],
          [
           -1.05
          ],
          [
           0
          ],
          [
           -0.82
          ],
          [
           0
          ],
          [
           7.6
          ],
          [
           0
          ],
          [
           -6.36
          ],
          [
           0
          ],
          [
           1.22
          ],
          [
           11.27
          ],
          [
           0.89
          ],
          [
           -0.29
          ],
          [
           -0.95
          ],
          [
           -1.67
          ],
          [
           -1.39
          ],
          [
           1.44
          ],
          [
           -2.9900000000000007
          ],
          [
           6.31
          ],
          [
           -2.28
          ],
          [
           -3.3100000000000005
          ],
          [
           -0.25
          ],
          [
           -2.15
          ],
          [
           -2.18
          ],
          [
           -1.11
          ],
          [
           0.95
          ],
          [
           -1.4799999999999998
          ],
          [
           7.52
          ],
          [
           -1.31
          ],
          [
           -1.32
          ],
          [
           -2.79
          ],
          [
           -1.53
          ],
          [
           -1.64
          ],
          [
           -2.31
          ],
          [
           0.64
          ],
          [
           -0.6
          ],
          [
           -1.05
          ],
          [
           0.24
          ],
          [
           -0.86
          ],
          [
           0.36
          ],
          [
           0
          ],
          [
           -0.8900000000000001
          ],
          [
           -0.8599999999999999
          ],
          [
           0.87
          ],
          [
           1.32
          ],
          [
           2.84
          ],
          [
           0
          ],
          [
           0.17
          ],
          [
           -0.58
          ],
          [
           0.12
          ],
          [
           -1.18
          ],
          [
           0.39
          ],
          [
           1.84
          ],
          [
           3.12
          ],
          [
           -0.13
          ],
          [
           -3.79
          ],
          [
           -0.86
          ],
          [
           4.87
          ],
          [
           -0.91
          ],
          [
           -1.76
          ],
          [
           0.94
          ],
          [
           -4.21
          ],
          [
           -4.79
          ],
          [
           0.34
          ],
          [
           -1.9
          ],
          [
           -1.01
          ],
          [
           0.56
          ],
          [
           -1.05
          ],
          [
           -0.54
          ],
          [
           0.72
          ],
          [
           -2.23
          ],
          [
           3.84
          ],
          [
           13.89
          ],
          [
           2.57
          ],
          [
           0
          ],
          [
           2.32
          ],
          [
           9.78
          ],
          [
           2.81
          ],
          [
           -4.25
          ],
          [
           -1.37
          ],
          [
           0
          ],
          [
           -1.19
          ],
          [
           -0.3
          ],
          [
           -2.73
          ],
          [
           0
          ],
          [
           -0.46
          ],
          [
           -2.36
          ],
          [
           -1.33
          ],
          [
           0.56
          ],
          [
           2.6
          ],
          [
           -3.17
          ],
          [
           3.4299999999999997
          ],
          [
           -0.64
          ],
          [
           1.51
          ],
          [
           -1.23
          ],
          [
           5.92
          ],
          [
           0.35
          ],
          [
           0.72
          ],
          [
           -0.16
          ],
          [
           -0.39
          ],
          [
           -1.67
          ],
          [
           -0.73
          ],
          [
           -1.82
          ],
          [
           0.6
          ],
          [
           1.1300000000000001
          ],
          [
           -4.04
          ],
          [
           2.6
          ],
          [
           2.29
          ],
          [
           0
          ],
          [
           -1
          ],
          [
           0.74
          ],
          [
           -0.64
          ],
          [
           0.75
          ],
          [
           -2.06
          ],
          [
           0.7
          ],
          [
           0.14
          ],
          [
           -1.5
          ],
          [
           1.43
          ],
          [
           -3.08
          ],
          [
           1.03
          ],
          [
           0
          ],
          [
           1.18
          ],
          [
           6.06
          ],
          [
           -0.22
          ],
          [
           -0.29
          ],
          [
           1.43
          ],
          [
           0.79
          ],
          [
           2.81
          ],
          [
           -1.14
          ],
          [
           0.22
          ],
          [
           0.72
          ],
          [
           0.83
          ],
          [
           1.58
          ],
          [
           0.72
          ],
          [
           8.67
          ],
          [
           -1.33
          ],
          [
           -2.55
          ],
          [
           4.25
          ],
          [
           -5.01
          ],
          [
           0.37
          ],
          [
           -2.2
          ],
          [
           -9
          ],
          [
           0.8
          ],
          [
           6.36
          ],
          [
           -1.2
          ],
          [
           -3.48
          ],
          [
           -1.19
          ],
          [
           1.9599999999999997
          ],
          [
           -3.2699999999999996
          ],
          [
           3.67
          ],
          [
           -1.68
          ],
          [
           1.7
          ],
          [
           -3.43
          ],
          [
           -1.66
          ],
          [
           -0.74
          ],
          [
           -0.17
          ],
          [
           -2.6
          ],
          [
           0.29
          ],
          [
           0.71
          ],
          [
           13.11
          ],
          [
           0.83
          ],
          [
           -1.14
          ],
          [
           0.45
          ],
          [
           -1.24
          ],
          [
           -1.94
          ],
          [
           -0.94
          ],
          [
           -2.1
          ],
          [
           0.32
          ],
          [
           -1.15
          ],
          [
           0.12
          ],
          [
           0
          ],
          [
           -0.47
          ],
          [
           0.18
          ],
          [
           -0.25
          ],
          [
           9.45
          ],
          [
           -0.62
          ],
          [
           1.78
          ],
          [
           4.86
          ],
          [
           0.16
          ],
          [
           -0.51
          ],
          [
           -1
          ],
          [
           0
          ],
          [
           5.05
          ],
          [
           0.7200000000000001
          ],
          [
           -1.6899999999999997
          ],
          [
           0
          ],
          [
           0.25
          ],
          [
           0.37
          ],
          [
           -0.8300000000000001
          ],
          [
           -1.09
          ],
          [
           0.44
          ],
          [
           -1.6600000000000001
          ],
          [
           1.38
          ],
          [
           -1.22
          ],
          [
           -0.63
          ],
          [
           -0.85
          ],
          [
           -4.52
          ],
          [
           -3.27
          ],
          [
           -0.56
          ],
          [
           -1.7600000000000002
          ],
          [
           0.25
          ],
          [
           1.98
          ],
          [
           0.45000000000000007
          ],
          [
           -0.21
          ],
          [
           -0.11
          ],
          [
           -0.59
          ],
          [
           -0.32
          ],
          [
           0.25
          ],
          [
           8.71
          ],
          [
           0.85
          ],
          [
           0
          ],
          [
           -0.38
          ],
          [
           -1.29
          ],
          [
           -2.01
          ],
          [
           0
          ],
          [
           0
          ],
          [
           -0.12
          ],
          [
           -0.89
          ],
          [
           -0.25
          ],
          [
           -2.77
          ],
          [
           -1.12
          ],
          [
           2.55
          ],
          [
           -0.52
          ],
          [
           4.89
          ],
          [
           12.22
          ],
          [
           8.05
          ],
          [
           -0.75
          ],
          [
           -5.27
          ],
          [
           2.54
          ],
          [
           -0.19
          ],
          [
           -0.13
          ],
          [
           4.78
          ],
          [
           3.06
          ],
          [
           -2.2
          ],
          [
           -0.57
          ],
          [
           -0.28
          ],
          [
           -1.76
          ],
          [
           -3.2699999999999996
          ],
          [
           1.49
          ],
          [
           0.95
          ],
          [
           -3.23
          ],
          [
           1.95
          ],
          [
           -0.25
          ],
          [
           2.26
          ],
          [
           0.49
          ],
          [
           0.29
          ],
          [
           2.41
          ],
          [
           0.55
          ],
          [
           0.85
          ],
          [
           0.96
          ],
          [
           1.44
          ],
          [
           1.02
          ],
          [
           0.77
          ],
          [
           0
          ],
          [
           -0.17
          ],
          [
           -2.76
          ],
          [
           -0.21
          ],
          [
           1.1
          ],
          [
           -0.36
          ],
          [
           0
          ],
          [
           1.19
          ],
          [
           -4.46
          ],
          [
           3.39
          ],
          [
           4.38
          ],
          [
           0.44999999999999996
          ],
          [
           -2.53
          ],
          [
           1.9800000000000002
          ],
          [
           -2.31
          ],
          [
           0
          ],
          [
           14.75
          ],
          [
           0.35
          ],
          [
           3.06
          ],
          [
           -0.34
          ],
          [
           2.33
          ],
          [
           -0.63
          ],
          [
           -5.03
          ],
          [
           -0.66
          ],
          [
           8.87
          ],
          [
           3.18
          ],
          [
           1.48
          ],
          [
           -2.11
          ],
          [
           5.49
          ],
          [
           -2.16
          ],
          [
           -1.01
          ],
          [
           5.04
          ],
          [
           -5.67
          ],
          [
           0.55
          ],
          [
           -1.29
          ],
          [
           3.27
          ],
          [
           3.87
          ],
          [
           0.64
          ],
          [
           -0.54
          ],
          [
           1.23
          ],
          [
           -2.52
          ],
          [
           -6.27
          ],
          [
           0
          ],
          [
           6.85
          ],
          [
           2.29
          ],
          [
           26.43
          ],
          [
           -1.27
          ],
          [
           -1.68
          ],
          [
           1.9800000000000002
          ],
          [
           -1.13
          ],
          [
           -0.99
          ],
          [
           -2.09
          ],
          [
           -0.83
          ],
          [
           -0.85
          ],
          [
           4.16
          ],
          [
           -4.37
          ],
          [
           -1.28
          ],
          [
           2.39
          ],
          [
           1.27
          ],
          [
           0.31
          ],
          [
           0.53
          ],
          [
           -1.54
          ],
          [
           0.2
          ],
          [
           0.51
          ],
          [
           7.87
          ],
          [
           -1.84
          ],
          [
           9.95
          ],
          [
           0.28
          ],
          [
           -5.81
          ],
          [
           5.68
          ],
          [
           0
          ],
          [
           -0.28
          ],
          [
           -0.55
          ],
          [
           -1.05
          ],
          [
           -2.15
          ],
          [
           -1.36
          ],
          [
           1.45
          ],
          [
           -2.24
          ],
          [
           -2.94
          ],
          [
           3.1099999999999994
          ],
          [
           0.32
          ],
          [
           1.19
          ],
          [
           0.73
          ],
          [
           -0.69
          ],
          [
           -1.33
          ],
          [
           -1.25
          ],
          [
           -0.45
          ],
          [
           -0.42
          ],
          [
           0.41
          ],
          [
           -3.01
          ],
          [
           -0.75
          ],
          [
           -2.03
          ],
          [
           -1.84
          ],
          [
           -2.78
          ],
          [
           2.58
          ],
          [
           -0.59
          ],
          [
           -0.11
          ],
          [
           0.27
          ],
          [
           0.4
          ],
          [
           1.04
          ],
          [
           -1.89
          ],
          [
           -1.23
          ],
          [
           2.41
          ],
          [
           -6.07
          ],
          [
           -2.36
          ],
          [
           2.76
          ],
          [
           4.38
          ],
          [
           -7.45
          ],
          [
           -1.14
          ],
          [
           -0.18
          ],
          [
           4.34
          ],
          [
           -3.1
          ],
          [
           0.73
          ],
          [
           -1.5
          ],
          [
           -0.1
          ],
          [
           0.63
          ],
          [
           -1.25
          ],
          [
           4.66
          ],
          [
           0.29
          ],
          [
           2.28
          ],
          [
           -1.58
          ],
          [
           -1.14
          ],
          [
           -0.37
          ],
          [
           2.56
          ],
          [
           -1.33
          ],
          [
           -1.07
          ],
          [
           1.32
          ],
          [
           2.2
          ],
          [
           -0.85
          ],
          [
           1.79
          ],
          [
           -0.83
          ],
          [
           -1.45
          ],
          [
           -1.58
          ],
          [
           2.67
          ],
          [
           2.04
          ],
          [
           11.29
          ],
          [
           2.3
          ],
          [
           0.18
          ],
          [
           1.17
          ],
          [
           12.120000000000001
          ],
          [
           -0.32
          ],
          [
           0.55
          ],
          [
           -1.34
          ],
          [
           -1.54
          ],
          [
           1.94
          ],
          [
           -0.89
          ],
          [
           -4.56
          ],
          [
           -3.17
          ],
          [
           -2.34
          ],
          [
           0
          ],
          [
           -5.19
          ],
          [
           -5.23
          ],
          [
           -0.3400000000000001
          ],
          [
           -3.45
          ],
          [
           0.9900000000000001
          ],
          [
           0.12
          ],
          [
           -0.89
          ],
          [
           -0.96
          ],
          [
           -1.67
          ],
          [
           -4.52
          ],
          [
           -2.73
          ],
          [
           -0.9
          ],
          [
           -3.05
          ],
          [
           -1.84
          ],
          [
           3.1000000000000005
          ],
          [
           0.82
          ],
          [
           -1.4000000000000001
          ],
          [
           -1.54
          ],
          [
           -0.61
          ],
          [
           1.12
          ],
          [
           -2.11
          ],
          [
           -2.3
          ],
          [
           -3.76
          ],
          [
           -2.72
          ],
          [
           -1.66
          ],
          [
           -2.84
          ],
          [
           -2.67
          ],
          [
           0
          ],
          [
           -1.87
          ],
          [
           -2.33
          ],
          [
           0.12
          ],
          [
           -1.89
          ],
          [
           -0.37
          ],
          [
           -1.51
          ],
          [
           3.04
          ],
          [
           0
          ],
          [
           1.14
          ],
          [
           -1.3
          ],
          [
           3.42
          ],
          [
           -2.76
          ],
          [
           -0.38
          ],
          [
           0
          ],
          [
           -1.67
          ],
          [
           0.11000000000000001
          ],
          [
           1.45
          ],
          [
           2.35
          ],
          [
           3.86
          ],
          [
           10.98
          ],
          [
           0.17
          ],
          [
           2.8800000000000003
          ],
          [
           -2.6
          ],
          [
           -1.72
          ],
          [
           2.22
          ],
          [
           0.12
          ],
          [
           1.26
          ],
          [
           -0.21
          ],
          [
           -3.0699999999999994
          ],
          [
           0
          ],
          [
           -1.1064705627798672
          ],
          [
           0.35913801751572144
          ],
          [
           -1.6672864610567764
          ],
          [
           1.1657849306271917
          ],
          [
           -0.5099315167733611
          ],
          [
           1.1699277803961616
          ],
          [
           -0.8269159566806678
          ],
          [
           -1.28778519738929
          ],
          [
           -1.3184490182992095
          ],
          [
           0.55
          ],
          [
           0.513966660279298
          ],
          [
           -2.4266790236167033
          ],
          [
           0.8766464461420597
          ],
          [
           0.37
          ],
          [
           -1.0524122322091511
          ],
          [
           0.900967649911643
          ],
          [
           -1.116018931776444
          ],
          [
           -1.9228261146358467
          ],
          [
           -0.19485398180985472
          ],
          [
           3.4375012141913057
          ],
          [
           -0.95
          ],
          [
           0.9952800473551746
          ],
          [
           2.5708737230827086
          ],
          [
           1.1851274868583812
          ],
          [
           -1.2592927140382617
          ],
          [
           0.45
          ],
          [
           2.9696342488752316
          ],
          [
           0.1562551495770861
          ],
          [
           -0.6238909923797566
          ],
          [
           6.483661055817169
          ],
          [
           -0.3197414835442542
          ],
          [
           0.10925637383806913
          ],
          [
           1.2891830001830822
          ],
          [
           2.29
          ],
          [
           -0.25683367760001197
          ],
          [
           -0.29721931263433105
          ],
          [
           2.090184843903234
          ],
          [
           2.3679502362455915
          ],
          [
           1.688708889093416
          ],
          [
           -1.771546985335471
          ],
          [
           -0.7006647008850883
          ],
          [
           4.204695154548305
          ],
          [
           1.607963222923065
          ],
          [
           -0.879172965474074
          ],
          [
           -1.479646255577303
          ],
          [
           3.753960105571013
          ],
          [
           -0.8749110468543391
          ],
          [
           -3.175295653640844
          ],
          [
           1.875173742780832
          ],
          [
           -0.7545886066666467
          ],
          [
           -0.28762157287483914
          ],
          [
           0.39076879424790045
          ],
          [
           1.9872767737580737
          ],
          [
           0.7729390596209833
          ],
          [
           -0.8754297709294163
          ],
          [
           -0.95
          ],
          [
           1.1699277803961616
          ],
          [
           -1.4118076534846886
          ],
          [
           -0.6238909923797566
          ],
          [
           -0.10639617421406565
          ],
          [
           -0.19485398180985472
          ],
          [
           1.432470760481741
          ],
          [
           1.411918509594986
          ],
          [
           2.9696342488752316
          ],
          [
           -0.04997089708855885
          ],
          [
           -0.7006647008850883
          ],
          [
           1.4688356860412766
          ],
          [
           1.9264750865694793
          ],
          [
           -0.07749959723825968
          ],
          [
           0.55
          ],
          [
           -0.08932095922530678
          ]
         ],
         "domain": {
          "x": [
           0,
           1
          ],
          "y": [
           0,
           1
          ]
         },
         "hovertemplate": "<b>%{label}</b>",
         "ids": [
          "KOSPI/사업시설 관리, 사업 지원 및 임대 서비스업/임대업/AJ네트웍스",
          "KOSPI/금융 및 보험업/금융업/AK홀딩스",
          "KOSPI/금융 및 보험업/금융업/BGF",
          "KOSPI/도매 및 소매업/소매업/BGF리테일",
          "KOSPI/금융 및 보험업/금융업/BNK금융지주",
          "KOSPI/제조업/의복, 의복 액세서리 및 모피제품 제조업/BYC",
          "KOSPI/금융 및 보험업/금융업/CJ",
          "KOSPI/정보통신업/영상ㆍ오디오 기록물 제작 및 배급업/CJ CGV",
          "KOSPI/운수 및 창고업/육상 운송 및 파이프라인 운송업/CJ대한통운",
          "KOSPI/제조업/식료품 제조업/CJ씨푸드",
          "KOSPI/제조업/식료품 제조업/CJ제일제당",
          "KOSPI/금융 및 보험업/금융업/CS홀딩스",
          "KOSPI/정보통신업/컴퓨터 프로그래밍, 시스템 통합 및 관리업/DB",
          "KOSPI/금융 및 보험업/금융 및 보험관련 서비스업/DB금융투자",
          "KOSPI/금융 및 보험업/보험 및 연금업/DB손해보험",
          "KOSPI/제조업/전자 부품, 컴퓨터, 영상, 음향 및 통신장비 제조업/DB하이텍",
          "KOSPI/금융 및 보험업/금융업/DGB금융지주",
          "KOSPI/도매 및 소매업/도매 및 상품 중개업/DI동일",
          "KOSPI/금융 및 보험업/금융업/DRB동일",
          "KOSPI/제조업/1차 금속 제조업/DSR",
          "KOSPI/제조업/1차 금속 제조업/DSR제강",
          "KOSPI/도매 및 소매업/도매 및 상품 중개업/E1",
          "KOSPI/부동산업/부동산업/ESR켄달스퀘어리츠",
          "KOSPI/제조업/의복, 의복 액세서리 및 모피제품 제조업/F&F",
          "KOSPI/예술, 스포츠 및 여가관련 서비스업/스포츠 및 오락관련 서비스업/GKL",
          "KOSPI/건설업/종합 건설업/GS건설",
          "KOSPI/도매 및 소매업/도매 및 상품 중개업/GS글로벌",
          "KOSPI/도매 및 소매업/소매업/GS리테일",
          "KOSPI/금융 및 보험업/금융업/HDC",
          "KOSPI/건설업/전문직별 공사업/HDC아이콘트롤스",
          "KOSPI/제조업/화학 물질 및 화학제품 제조업/HDC현대EP",
          "KOSPI/건설업/종합 건설업/HDC현대산업개발",
          "KOSPI/운수 및 창고업/수상 운송업/HMM",
          "KOSPI/제조업/기타 기계 및 장비 제조업/HSD엔진",
          "KOSPI/정보통신업/영상ㆍ오디오 기록물 제작 및 배급업/IHQ",
          "KOSPI/금융 및 보험업/금융업/JB금융지주",
          "KOSPI/제조업/의료용 물질 및 의약품 제조업/JW생명과학",
          "KOSPI/제조업/의료용 물질 및 의약품 제조업/JW중외제약",
          "KOSPI/금융 및 보험업/금융업/JW홀딩스",
          "KOSPI/금융 및 보험업/금융업/KB금융",
          "KOSPI/제조업/화학 물질 및 화학제품 제조업/KCC",
          "KOSPI/운수 및 창고업/육상 운송 및 파이프라인 운송업/KCTC",
          "KOSPI/금융 및 보험업/금융업/KC그린홀딩스",
          "KOSPI/제조업/기타 기계 및 장비 제조업/KC코트렐",
          "KOSPI/제조업/전자 부품, 컴퓨터, 영상, 음향 및 통신장비 제조업/KEC",
          "KOSPI/제조업/1차 금속 제조업/KG동부제철",
          "KOSPI/제조업/화학 물질 및 화학제품 제조업/KG케미칼",
          "KOSPI/제조업/1차 금속 제조업/KISCO홀딩스",
          "KOSPI/제조업/화학 물질 및 화학제품 제조업/KPX케미칼",
          "KOSPI/제조업/화학 물질 및 화학제품 제조업/KPX홀딩스",
          "KOSPI/제조업/기타 운송장비 제조업/KR모터스",
          "KOSPI/정보통신업/우편 및 통신업/KT",
          "KOSPI/제조업/담배 제조업/KT&G",
          "KOSPI/금융 및 보험업/금융 및 보험관련 서비스업/KTB투자증권",
          "KOSPI/정보통신업/정보서비스업/KTcs",
          "KOSPI/정보통신업/정보서비스업/KTis",
          "KOSPI/제조업/의복, 의복 액세서리 및 모피제품 제조업/LF",
          "KOSPI/금융 및 보험업/금융업/LG",
          "KOSPI/제조업/전자 부품, 컴퓨터, 영상, 음향 및 통신장비 제조업/LG디스플레이",
          "KOSPI/도매 및 소매업/도매 및 상품 중개업/LG상사",
          "KOSPI/제조업/화학 물질 및 화학제품 제조업/LG생활건강",
          "KOSPI/정보통신업/우편 및 통신업/LG유플러스",
          "KOSPI/제조업/전자 부품, 컴퓨터, 영상, 음향 및 통신장비 제조업/LG이노텍",
          "KOSPI/제조업/전자 부품, 컴퓨터, 영상, 음향 및 통신장비 제조업/LG전자",
          "KOSPI/제조업/고무 및 플라스틱제품 제조업/LG하우시스",
          "KOSPI/정보통신업/방송업/LG헬로비전",
          "KOSPI/제조업/화학 물질 및 화학제품 제조업/LG화학",
          "KOSPI/제조업/금속 가공제품 제조업/LIG넥스원",
          "KOSPI/금융 및 보험업/금융업/LS",
          "KOSPI/제조업/전기장비 제조업/LS ELECTRIC",
          "KOSPI/도매 및 소매업/도매 및 상품 중개업/LS네트웍스",
          "KOSPI/제조업/음료 제조업/MH에탄올",
          "KOSPI/정보통신업/정보서비스업/NAVER",
          "KOSPI/정보통신업/출판업/NHN",
          "KOSPI/금융 및 보험업/금융 및 보험관련 서비스업/NH투자증권",
          "KOSPI/부동산업/부동산업/NH프라임리츠",
          "KOSPI/전문, 과학 및 기술 서비스업/전문 서비스업/NICE",
          "KOSPI/제조업/1차 금속 제조업/NI스틸",
          "KOSPI/제조업/고무 및 플라스틱제품 제조업/NPC",
          "KOSPI/제조업/화학 물질 및 화학제품 제조업/OCI",
          "KOSPI/제조업/1차 금속 제조업/POSCO",
          "KOSPI/제조업/기타 기계 및 장비 제조업/S&TC",
          "KOSPI/제조업/자동차 및 트레일러 제조업/S&T모티브",
          "KOSPI/제조업/자동차 및 트레일러 제조업/S&T중공업",
          "KOSPI/금융 및 보험업/금융업/S&T홀딩스",
          "KOSPI/제조업/코크스, 연탄 및 석유정제품 제조업/S-Oil",
          "KOSPI/정보통신업/방송업/SBS",
          "KOSPI/정보통신업/방송업/SBS미디어홀딩스",
          "KOSPI/전기, 가스, 증기 및 공기 조절 공급업/전기, 가스, 증기 및 공기 조절 공급업/SGC에너지",
          "KOSPI/도매 및 소매업/도매 및 상품 중개업/SG세계물산",
          "KOSPI/제조업/자동차 및 트레일러 제조업/SG충방",
          "KOSPI/제조업/화학 물질 및 화학제품 제조업/SH에너지화학",
          "KOSPI/제조업/기타 기계 및 장비 제조업/SIMPAC",
          "KOSPI/도매 및 소매업/자동차 및 부품 판매업/SJM홀딩스",
          "KOSPI/금융 및 보험업/금융업/SK",
          "KOSPI/제조업/화학 물질 및 화학제품 제조업/SKC",
          "KOSPI/도매 및 소매업/도매 및 상품 중개업/SK가스",
          "KOSPI/도매 및 소매업/도매 및 상품 중개업/SK네트웍스",
          "KOSPI/금융 및 보험업/금융업/SK디스커버리",
          "KOSPI/부동산업/부동산업/SK디앤디",
          "KOSPI/사업시설 관리, 사업 지원 및 임대 서비스업/임대업/SK렌터카",
          "KOSPI/제조업/코크스, 연탄 및 석유정제품 제조업/SK이노베이션",
          "KOSPI/금융 및 보험업/금융 및 보험관련 서비스업/SK증권",
          "KOSPI/제조업/화학 물질 및 화학제품 제조업/SK케미칼",
          "KOSPI/정보통신업/우편 및 통신업/SK텔레콤",
          "KOSPI/제조업/전자 부품, 컴퓨터, 영상, 음향 및 통신장비 제조업/SK하이닉스",
          "KOSPI/제조업/식료품 제조업/SPC삼립",
          "KOSPI/도매 및 소매업/도매 및 상품 중개업/STX",
          "KOSPI/제조업/기타 기계 및 장비 제조업/STX엔진",
          "KOSPI/제조업/기타 기계 및 장비 제조업/STX중공업",
          "KOSPI/제조업/1차 금속 제조업/TCC스틸",
          "KOSPI/제조업/고무 및 플라스틱제품 제조업/WISCOM",
          "KOSPI/정보통신업/정보서비스업/YG PLUS",
          "KOSPI/제조업/전기장비 제조업/가온전선",
          "KOSPI/제조업/화학 물질 및 화학제품 제조업/강남제비스코",
          "KOSPI/예술, 스포츠 및 여가관련 서비스업/스포츠 및 오락관련 서비스업/강원랜드",
          "KOSPI/예술, 스포츠 및 여가관련 서비스업/스포츠 및 오락관련 서비스업/갤럭시아에스엠",
          "KOSPI/제조업/화학 물질 및 화학제품 제조업/경농",
          "KOSPI/제조업/전기장비 제조업/경동나비엔",
          "KOSPI/전기, 가스, 증기 및 공기 조절 공급업/전기, 가스, 증기 및 공기 조절 공급업/경동도시가스",
          "KOSPI/금융 및 보험업/금융업/경동인베스트",
          "KOSPI/도매 및 소매업/소매업/경방",
          "KOSPI/제조업/의료용 물질 및 의약품 제조업/경보제약",
          "KOSPI/제조업/화학 물질 및 화학제품 제조업/경인양행",
          "KOSPI/제조업/전자 부품, 컴퓨터, 영상, 음향 및 통신장비 제조업/경인전자",
          "KOSPI/건설업/종합 건설업/계룡건설",
          "KOSPI/제조업/기타 기계 및 장비 제조업/계양전기",
          "KOSPI/제조업/식료품 제조업/고려산업",
          "KOSPI/제조업/1차 금속 제조업/고려아연",
          "KOSPI/제조업/1차 금속 제조업/고려제강",
          "KOSPI/제조업/의료용 물질 및 의약품 제조업/광동제약",
          "KOSPI/제조업/전기장비 제조업/광명전기",
          "KOSPI/제조업/전자 부품, 컴퓨터, 영상, 음향 및 통신장비 제조업/광전자",
          "KOSPI/도매 및 소매업/소매업/광주신세계",
          "KOSPI/금융 및 보험업/금융 및 보험관련 서비스업/교보증권",
          "KOSPI/도매 및 소매업/도매 및 상품 중개업/교촌에프앤비",
          "KOSPI/제조업/화학 물질 및 화학제품 제조업/국도화학",
          "KOSPI/도매 및 소매업/도매 및 상품 중개업/국동",
          "KOSPI/운수 및 창고업/육상 운송 및 파이프라인 운송업/국보",
          "KOSPI/제조업/의료용 물질 및 의약품 제조업/국제약품",
          "KOSPI/제조업/화학 물질 및 화학제품 제조업/그린케미칼",
          "KOSPI/제조업/코크스, 연탄 및 석유정제품 제조업/극동유화",
          "KOSPI/제조업/1차 금속 제조업/금강공업",
          "KOSPI/제조업/비금속 광물제품 제조업/금비",
          "KOSPI/제조업/화학 물질 및 화학제품 제조업/금양",
          "KOSPI/건설업/종합 건설업/금호산업",
          "KOSPI/제조업/화학 물질 및 화학제품 제조업/금호석유",
          "KOSPI/제조업/자동차 및 트레일러 제조업/금호에이치티",
          "KOSPI/제조업/전기장비 제조업/금호전기",
          "KOSPI/제조업/고무 및 플라스틱제품 제조업/금호타이어",
          "KOSPI/제조업/기타 기계 및 장비 제조업/기신정기",
          "KOSPI/제조업/자동차 및 트레일러 제조업/기아차",
          "KOSPI/금융 및 보험업/금융업/기업은행",
          "KOSPI/건설업/종합 건설업/까뮤이앤씨",
          "KOSPI/제조업/펄프, 종이 및 종이제품 제조업/깨끗한나라",
          "KOSPI/건설업/종합 건설업/남광토건",
          "KOSPI/제조업/1차 금속 제조업/남선알미늄",
          "KOSPI/도매 및 소매업/도매 및 상품 중개업/남성",
          "KOSPI/제조업/식료품 제조업/남양유업",
          "KOSPI/제조업/화학 물질 및 화학제품 제조업/남해화학",
          "KOSPI/제조업/고무 및 플라스틱제품 제조업/넥센",
          "KOSPI/제조업/고무 및 플라스틱제품 제조업/넥센타이어",
          "KOSPI/광업/비금속광물 광업/넥스트사이언스",
          "KOSPI/정보통신업/출판업/넷마블",
          "KOSPI/금융 및 보험업/금융업/노루홀딩스",
          "KOSPI/제조업/의료용 물질 및 의약품 제조업/녹십자",
          "KOSPI/전문, 과학 및 기술 서비스업/전문 서비스업/녹십자홀딩스",
          "KOSPI/제조업/식료품 제조업/농심",
          "KOSPI/금융 및 보험업/금융업/농심홀딩스",
          "KOSPI/제조업/금속 가공제품 제조업/다스코",
          "KOSPI/정보통신업/정보서비스업/다우기술",
          "KOSPI/교육 서비스업/교육 서비스업/대교",
          "KOSPI/도매 및 소매업/소매업/대구백화점",
          "KOSPI/금융 및 보험업/금융업/대덕",
          "KOSPI/제조업/전자 부품, 컴퓨터, 영상, 음향 및 통신장비 제조업/대덕전자",
          "KOSPI/제조업/기타 기계 및 장비 제조업/대동공업",
          "KOSPI/제조업/전자 부품, 컴퓨터, 영상, 음향 및 통신장비 제조업/대동전자",
          "KOSPI/제조업/비금속 광물제품 제조업/대림B&Co",
          "KOSPI/건설업/종합 건설업/대림건설",
          "KOSPI/건설업/종합 건설업/대림산업",
          "KOSPI/제조업/금속 가공제품 제조업/대림통상",
          "KOSPI/제조업/식료품 제조업/대상",
          "KOSPI/도매 및 소매업/소매업/대성산업",
          "KOSPI/전기, 가스, 증기 및 공기 조절 공급업/전기, 가스, 증기 및 공기 조절 공급업/대성에너지",
          "KOSPI/전문, 과학 및 기술 서비스업/전문 서비스업/대성홀딩스",
          "KOSPI/금융 및 보험업/금융 및 보험관련 서비스업/대신증권",
          "KOSPI/제조업/1차 금속 제조업/대양금속",
          "KOSPI/제조업/펄프, 종이 및 종이제품 제조업/대영포장",
          "KOSPI/건설업/종합 건설업/대우건설",
          "KOSPI/제조업/자동차 및 트레일러 제조업/대우부품",
          "KOSPI/제조업/기타 운송장비 제조업/대우조선해양",
          "KOSPI/금융 및 보험업/금융업/대웅",
          "KOSPI/제조업/의료용 물질 및 의약품 제조업/대웅제약",
          "KOSPI/제조업/자동차 및 트레일러 제조업/대원강업",
          "KOSPI/제조업/전기장비 제조업/대원전선",
          "KOSPI/제조업/의료용 물질 및 의약품 제조업/대원제약",
          "KOSPI/제조업/고무 및 플라스틱제품 제조업/대원화성",
          "KOSPI/제조업/자동차 및 트레일러 제조업/대유에이텍",
          "KOSPI/제조업/전자 부품, 컴퓨터, 영상, 음향 및 통신장비 제조업/대유플러스",
          "KOSPI/제조업/1차 금속 제조업/대창",
          "KOSPI/제조업/자동차 및 트레일러 제조업/대창단조",
          "KOSPI/제조업/섬유제품 제조업/대한방직",
          "KOSPI/제조업/화학 물질 및 화학제품 제조업/대한유화",
          "KOSPI/제조업/전기장비 제조업/대한전선",
          "KOSPI/제조업/1차 금속 제조업/대한제강",
          "KOSPI/제조업/식료품 제조업/대한제당",
          "KOSPI/제조업/식료품 제조업/대한제분",
          "KOSPI/운수 및 창고업/항공 운송업/대한항공",
          "KOSPI/운수 및 창고업/수상 운송업/대한해운",
          "KOSPI/제조업/화학 물질 및 화학제품 제조업/대한화섬",
          "KOSPI/제조업/의복, 의복 액세서리 및 모피제품 제조업/대현",
          "KOSPI/제조업/1차 금속 제조업/대호에이엘",
          "KOSPI/정보통신업/컴퓨터 프로그래밍, 시스템 통합 및 관리업/더존비즈온",
          "KOSPI/제조업/고무 및 플라스틱제품 제조업/덕성",
          "KOSPI/제조업/자동차 및 트레일러 제조업/덕양산업",
          "KOSPI/제조업/의료, 정밀, 광학 기기 및 시계 제조업/덴티움",
          "KOSPI/전문, 과학 및 기술 서비스업/건축 기술, 엔지니어링 및 기타 과학기술 서비스업/도화엔지니어링",
          "KOSPI/제조업/1차 금속 제조업/동국제강",
          "KOSPI/제조업/화학 물질 및 화학제품 제조업/동남합성",
          "KOSPI/운수 및 창고업/창고 및 운송관련 서비스업/동방",
          "KOSPI/제조업/화학 물질 및 화학제품 제조업/동방아그로",
          "KOSPI/건설업/종합 건설업/동부건설",
          "KOSPI/도매 및 소매업/도매 및 상품 중개업/동서",
          "KOSPI/제조업/의료용 물질 및 의약품 제조업/동성제약",
          "KOSPI/제조업/화학 물질 및 화학제품 제조업/동성화학",
          "KOSPI/금융 및 보험업/금융업/동아쏘시오홀딩스",
          "KOSPI/제조업/의료용 물질 및 의약품 제조업/동아에스티",
          "KOSPI/건설업/전문직별 공사업/동아지질",
          "KOSPI/제조업/고무 및 플라스틱제품 제조업/동아타이어",
          "KOSPI/제조업/비금속 광물제품 제조업/동양",
          "KOSPI/운수 및 창고업/육상 운송 및 파이프라인 운송업/동양고속",
          "KOSPI/제조업/기타 기계 및 장비 제조업/동양물산",
          "KOSPI/금융 및 보험업/보험 및 연금업/동양생명",
          "KOSPI/제조업/1차 금속 제조업/동양철관",
          "KOSPI/제조업/식료품 제조업/동원F&B",
          "KOSPI/제조업/자동차 및 트레일러 제조업/동원금속",
          "KOSPI/농업, 임업 및 어업/어업/동원산업",
          "KOSPI/농업, 임업 및 어업/어업/동원수산",
          "KOSPI/제조업/고무 및 플라스틱제품 제조업/동원시스템즈",
          "KOSPI/제조업/고무 및 플라스틱제품 제조업/동일고무벨트",
          "KOSPI/제조업/1차 금속 제조업/동일산업",
          "KOSPI/제조업/1차 금속 제조업/동일제강",
          "KOSPI/제조업/의료용 물질 및 의약품 제조업/동화약품",
          "KOSPI/전문, 과학 및 기술 서비스업/전문 서비스업/두산",
          "KOSPI/제조업/기타 기계 및 장비 제조업/두산밥캣",
          "KOSPI/제조업/기타 기계 및 장비 제조업/두산인프라코어",
          "KOSPI/제조업/기타 기계 및 장비 제조업/두산중공업",
          "KOSPI/제조업/전기장비 제조업/두산퓨얼셀",
          "KOSPI/제조업/자동차 및 트레일러 제조업/두올",
          "KOSPI/제조업/전자 부품, 컴퓨터, 영상, 음향 및 통신장비 제조업/드림텍",
          "KOSPI/제조업/1차 금속 제조업/디씨엠",
          "KOSPI/제조업/의료, 정밀, 광학 기기 및 시계 제조업/디아이",
          "KOSPI/제조업/자동차 및 트레일러 제조업/디아이씨",
          "KOSPI/금융 및 보험업/금융업/디와이",
          "KOSPI/제조업/기타 기계 및 장비 제조업/디와이파워",
          "KOSPI/제조업/전기장비 제조업/디티알오토모티브",
          "KOSPI/제조업/전기장비 제조업/디피씨",
          "KOSPI/사업시설 관리, 사업 지원 및 임대 서비스업/사업 지원 서비스업/롯데관광개발",
          "KOSPI/부동산업/부동산업/롯데리츠",
          "KOSPI/금융 및 보험업/보험 및 연금업/롯데손해보험",
          "KOSPI/도매 및 소매업/소매업/롯데쇼핑",
          "KOSPI/제조업/화학 물질 및 화학제품 제조업/롯데정밀화학",
          "KOSPI/정보통신업/컴퓨터 프로그래밍, 시스템 통합 및 관리업/롯데정보통신",
          "KOSPI/제조업/식료품 제조업/롯데제과",
          "KOSPI/금융 및 보험업/금융업/롯데지주",
          "KOSPI/제조업/음료 제조업/롯데칠성",
          "KOSPI/제조업/화학 물질 및 화학제품 제조업/롯데케미칼",
          "KOSPI/제조업/식료품 제조업/롯데푸드",
          "KOSPI/도매 및 소매업/소매업/롯데하이마트",
          "KOSPI/제조업/식료품 제조업/마니커",
          "KOSPI/제조업/자동차 및 트레일러 제조업/만도",
          "KOSPI/제조업/1차 금속 제조업/만호제강",
          "KOSPI/금융 및 보험업/금융업/맥쿼리인프라",
          "KOSPI/금융 및 보험업/금융업/메리츠금융지주",
          "KOSPI/금융 및 보험업/금융 및 보험관련 서비스업/메리츠증권",
          "KOSPI/금융 및 보험업/보험 및 연금업/메리츠화재",
          "KOSPI/제조업/의복, 의복 액세서리 및 모피제품 제조업/메타랩스",
          "KOSPI/제조업/의료용 물질 및 의약품 제조업/명문제약",
          "KOSPI/제조업/자동차 및 트레일러 제조업/명신산업",
          "KOSPI/제조업/펄프, 종이 및 종이제품 제조업/모나리자",
          "KOSPI/도매 및 소매업/도매 및 상품 중개업/모나미",
          "KOSPI/부동산업/부동산업/모두투어리츠",
          "KOSPI/제조업/자동차 및 트레일러 제조업/모토닉",
          "KOSPI/제조업/펄프, 종이 및 종이제품 제조업/무림P&P",
          "KOSPI/제조업/펄프, 종이 및 종이제품 제조업/무림페이퍼",
          "KOSPI/제조업/음료 제조업/무학",
          "KOSPI/제조업/1차 금속 제조업/문배철강",
          "KOSPI/제조업/의료, 정밀, 광학 기기 및 시계 제조업/미래산업",
          "KOSPI/정보통신업/컴퓨터 프로그래밍, 시스템 통합 및 관리업/미래아이앤지",
          "KOSPI/금융 및 보험업/금융 및 보험관련 서비스업/미래에셋대우",
          "KOSPI/부동산업/부동산업/미래에셋맵스리츠",
          "KOSPI/금융 및 보험업/보험 및 연금업/미래에셋생명",
          "KOSPI/제조업/화학 물질 및 화학제품 제조업/미원상사",
          "KOSPI/제조업/화학 물질 및 화학제품 제조업/미원에스씨",
          "KOSPI/제조업/화학 물질 및 화학제품 제조업/미원화학",
          "KOSPI/제조업/코크스, 연탄 및 석유정제품 제조업/미창석유",
          "KOSPI/제조업/섬유제품 제조업/방림",
          "KOSPI/제조업/화학 물질 및 화학제품 제조업/백광산업",
          "KOSPI/제조업/고무 및 플라스틱제품 제조업/백산",
          "KOSPI/건설업/종합 건설업/범양건영",
          "KOSPI/제조업/비금속 광물제품 제조업/벽산",
          "KOSPI/제조업/화학 물질 및 화학제품 제조업/보락",
          "KOSPI/제조업/의료용 물질 및 의약품 제조업/보령제약",
          "KOSPI/제조업/음료 제조업/보해양조",
          "KOSPI/제조업/의료용 물질 및 의약품 제조업/부광약품",
          "KOSPI/금융 및 보험업/금융 및 보험관련 서비스업/부국증권",
          "KOSPI/제조업/1차 금속 제조업/부국철강",
          "KOSPI/전기, 가스, 증기 및 공기 조절 공급업/전기, 가스, 증기 및 공기 조절 공급업/부산가스",
          "KOSPI/제조업/비금속 광물제품 제조업/부산산업",
          "KOSPI/제조업/자동차 및 트레일러 제조업/부산주공",
          "KOSPI/제조업/의복, 의복 액세서리 및 모피제품 제조업/비비안",
          "KOSPI/정보통신업/출판업/비상교육",
          "KOSPI/정보통신업/컴퓨터 프로그래밍, 시스템 통합 및 관리업/비케이탑스",
          "KOSPI/정보통신업/영상ㆍ오디오 기록물 제작 및 배급업/빅히트",
          "KOSPI/제조업/식료품 제조업/빙그레",
          "KOSPI/제조업/식료품 제조업/사조대림",
          "KOSPI/제조업/식료품 제조업/사조동아원",
          "KOSPI/농업, 임업 및 어업/어업/사조산업",
          "KOSPI/제조업/식료품 제조업/사조씨푸드",
          "KOSPI/제조업/식료품 제조업/사조오양",
          "KOSPI/건설업/종합 건설업/삼부토건",
          "KOSPI/제조업/전기장비 제조업/삼성SDI",
          "KOSPI/제조업/자동차 및 트레일러 제조업/삼성공조",
          "KOSPI/도매 및 소매업/도매 및 상품 중개업/삼성물산",
          "KOSPI/제조업/의료용 물질 및 의약품 제조업/삼성바이오로직스",
          "KOSPI/금융 및 보험업/보험 및 연금업/삼성생명",
          "KOSPI/정보통신업/컴퓨터 프로그래밍, 시스템 통합 및 관리업/삼성에스디에스",
          "KOSPI/전문, 과학 및 기술 서비스업/건축 기술, 엔지니어링 및 기타 과학기술 서비스업/삼성엔지니어링",
          "KOSPI/제조업/전자 부품, 컴퓨터, 영상, 음향 및 통신장비 제조업/삼성전기",
          "KOSPI/제조업/전자 부품, 컴퓨터, 영상, 음향 및 통신장비 제조업/삼성전자",
          "KOSPI/제조업/의료용 물질 및 의약품 제조업/삼성제약",
          "KOSPI/제조업/기타 운송장비 제조업/삼성중공업",
          "KOSPI/금융 및 보험업/금융 및 보험관련 서비스업/삼성증권",
          "KOSPI/정보통신업/출판업/삼성출판사",
          "KOSPI/금융 및 보험업/금융업/삼성카드",
          "KOSPI/금융 및 보험업/보험 및 연금업/삼성화재",
          "KOSPI/제조업/1차 금속 제조업/삼아알미늄",
          "KOSPI/제조업/식료품 제조업/삼양사",
          "KOSPI/제조업/식료품 제조업/삼양식품",
          "KOSPI/제조업/가죽, 가방 및 신발 제조업/삼양통상",
          "KOSPI/제조업/고무 및 플라스틱제품 제조업/삼양패키징",
          "KOSPI/금융 및 보험업/금융업/삼양홀딩스",
          "KOSPI/도매 및 소매업/도매 및 상품 중개업/삼영무역",
          "KOSPI/제조업/전자 부품, 컴퓨터, 영상, 음향 및 통신장비 제조업/삼영전자",
          "KOSPI/제조업/고무 및 플라스틱제품 제조업/삼영화학",
          "KOSPI/제조업/자동차 및 트레일러 제조업/삼원강재",
          "KOSPI/제조업/기타 기계 및 장비 제조업/삼익THK",
          "KOSPI/제조업/기타 제품 제조업/삼익악기",
          "KOSPI/제조업/비금속 광물제품 제조업/삼일씨엔에스",
          "KOSPI/제조업/의료용 물질 및 의약품 제조업/삼일제약",
          "KOSPI/제조업/펄프, 종이 및 종이제품 제조업/삼정펄프",
          "KOSPI/제조업/의료용 물질 및 의약품 제조업/삼진제약",
          "KOSPI/전기, 가스, 증기 및 공기 조절 공급업/전기, 가스, 증기 및 공기 조절 공급업/삼천리",
          "KOSPI/건설업/전문직별 공사업/삼호개발",
          "KOSPI/제조업/금속 가공제품 제조업/삼화왕관",
          "KOSPI/제조업/전자 부품, 컴퓨터, 영상, 음향 및 통신장비 제조업/삼화전기",
          "KOSPI/제조업/전자 부품, 컴퓨터, 영상, 음향 및 통신장비 제조업/삼화전자",
          "KOSPI/제조업/전자 부품, 컴퓨터, 영상, 음향 및 통신장비 제조업/삼화콘덴서",
          "KOSPI/제조업/화학 물질 및 화학제품 제조업/삼화페인트",
          "KOSPI/금융 및 보험업/금융 및 보험관련 서비스업/상상인증권",
          "KOSPI/제조업/자동차 및 트레일러 제조업/상신브레이크",
          "KOSPI/제조업/자동차 및 트레일러 제조업/새론오토모티브",
          "KOSPI/금융 및 보험업/금융업/샘표",
          "KOSPI/제조업/식료품 제조업/샘표식품",
          "KOSPI/금융 및 보험업/금융업/서연",
          "KOSPI/제조업/자동차 및 트레일러 제조업/서연이화",
          "KOSPI/전기, 가스, 증기 및 공기 조절 공급업/전기, 가스, 증기 및 공기 조절 공급업/서울가스",
          "KOSPI/제조업/식료품 제조업/서울식품",
          "KOSPI/제조업/1차 금속 제조업/서원",
          "KOSPI/제조업/화학 물질 및 화학제품 제조업/서흥",
          "KOSPI/제조업/전기장비 제조업/선도전기",
          "KOSPI/제조업/목재 및 나무제품 제조업/선창산업",
          "KOSPI/제조업/전자 부품, 컴퓨터, 영상, 음향 및 통신장비 제조업/성문전자",
          "KOSPI/제조업/화학 물질 및 화학제품 제조업/성보화학",
          "KOSPI/제조업/비금속 광물제품 제조업/성신양회",
          "KOSPI/제조업/섬유제품 제조업/성안",
          "KOSPI/전문, 과학 및 기술 서비스업/전문 서비스업/성창기업지주",
          "KOSPI/정보통신업/영상ㆍ오디오 기록물 제작 및 배급업/세기상사",
          "KOSPI/운수 및 창고업/육상 운송 및 파이프라인 운송업/세방",
          "KOSPI/제조업/전기장비 제조업/세방전지",
          "KOSPI/제조업/1차 금속 제조업/세아베스틸",
          "KOSPI/제조업/1차 금속 제조업/세아제강",
          "KOSPI/금융 및 보험업/금융업/세아제강지주",
          "KOSPI/제조업/1차 금속 제조업/세아특수강",
          "KOSPI/제조업/1차 금속 제조업/세아홀딩스",
          "KOSPI/도매 및 소매업/도매 및 상품 중개업/세우글로벌",
          "KOSPI/제조업/금속 가공제품 제조업/세원셀론텍",
          "KOSPI/제조업/자동차 및 트레일러 제조업/세원정공",
          "KOSPI/도매 및 소매업/소매업/세이브존I&C",
          "KOSPI/제조업/자동차 및 트레일러 제조업/세종공업",
          "KOSPI/제조업/기타 운송장비 제조업/세진중공업",
          "KOSPI/제조업/펄프, 종이 및 종이제품 제조업/세하",
          "KOSPI/제조업/기타 기계 및 장비 제조업/세화아이엠씨",
          "KOSPI/제조업/자동차 및 트레일러 제조업/센트랄모텍",
          "KOSPI/제조업/기타 기계 및 장비 제조업/센트럴인사이트",
          "KOSPI/제조업/의료용 물질 및 의약품 제조업/셀트리온",
          "KOSPI/제조업/전자 부품, 컴퓨터, 영상, 음향 및 통신장비 제조업/솔루스첨단소재",
          "KOSPI/제조업/화학 물질 및 화학제품 제조업/송원산업",
          "KOSPI/제조업/기타 기계 및 장비 제조업/수산중공업",
          "KOSPI/정보통신업/방송업/스카이라이프",
          "KOSPI/제조업/가구 제조업/시디즈",
          "KOSPI/제조업/펄프, 종이 및 종이제품 제조업/신대양제지",
          "KOSPI/제조업/전자 부품, 컴퓨터, 영상, 음향 및 통신장비 제조업/신도리코",
          "KOSPI/농업, 임업 및 어업/어업/신라교역",
          "KOSPI/제조업/전자 부품, 컴퓨터, 영상, 음향 및 통신장비 제조업/신성이엔지",
          "KOSPI/도매 및 소매업/도매 및 상품 중개업/신성통상",
          "KOSPI/도매 및 소매업/소매업/신세계",
          "KOSPI/정보통신업/컴퓨터 프로그래밍, 시스템 통합 및 관리업/신세계 I&C",
          "KOSPI/건설업/종합 건설업/신세계건설",
          "KOSPI/도매 및 소매업/소매업/신세계인터내셔날",
          "KOSPI/숙박 및 음식점업/음식점 및 주점업/신세계푸드",
          "KOSPI/도매 및 소매업/도매 및 상품 중개업/신송홀딩스",
          "KOSPI/제조업/의복, 의복 액세서리 및 모피제품 제조업/신영와코루",
          "KOSPI/금융 및 보험업/금융 및 보험관련 서비스업/신영증권",
          "KOSPI/제조업/의복, 의복 액세서리 및 모피제품 제조업/신원",
          "KOSPI/도매 및 소매업/도매 및 상품 중개업/신일전자",
          "KOSPI/제조업/의료용 물질 및 의약품 제조업/신풍제약",
          "KOSPI/제조업/펄프, 종이 및 종이제품 제조업/신풍제지",
          "KOSPI/부동산업/부동산업/신한알파리츠",
          "KOSPI/금융 및 보험업/금융업/신한지주",
          "KOSPI/제조업/1차 금속 제조업/신화실업",
          "KOSPI/도매 및 소매업/도매 및 상품 중개업/신흥",
          "KOSPI/제조업/비금속 광물제품 제조업/쌍용양회",
          "KOSPI/제조업/자동차 및 트레일러 제조업/쌍용차",
          "KOSPI/제조업/전자 부품, 컴퓨터, 영상, 음향 및 통신장비 제조업/써니전자",
          "KOSPI/사업시설 관리, 사업 지원 및 임대 서비스업/사업 지원 서비스업/쎌마테라퓨틱스",
          "KOSPI/제조업/기타 제품 제조업/씨아이테크",
          "KOSPI/제조업/금속 가공제품 제조업/씨에스윈드",
          "KOSPI/제조업/전자 부품, 컴퓨터, 영상, 음향 및 통신장비 제조업/아남전자",
          "KOSPI/제조업/화학 물질 및 화학제품 제조업/아모레G",
          "KOSPI/제조업/화학 물질 및 화학제품 제조업/아모레퍼시픽",
          "KOSPI/전문, 과학 및 기술 서비스업/전문 서비스업/아세아",
          "KOSPI/제조업/비금속 광물제품 제조업/아세아시멘트",
          "KOSPI/제조업/펄프, 종이 및 종이제품 제조업/아세아제지",
          "KOSPI/정보통신업/컴퓨터 프로그래밍, 시스템 통합 및 관리업/아시아나IDT",
          "KOSPI/운수 및 창고업/항공 운송업/아시아나항공",
          "KOSPI/도매 및 소매업/도매 및 상품 중개업/아이마켓코리아",
          "KOSPI/제조업/비금속 광물제품 제조업/아이에스동서",
          "KOSPI/금융 및 보험업/금융업/아주캐피탈",
          "KOSPI/제조업/1차 금속 제조업/알루코",
          "KOSPI/제조업/화학 물질 및 화학제품 제조업/애경산업",
          "KOSPI/제조업/가구 제조업/에넥스",
          "KOSPI/제조업/자동차 및 트레일러 제조업/에스엘",
          "KOSPI/사업시설 관리, 사업 지원 및 임대 서비스업/사업 지원 서비스업/에스원",
          "KOSPI/건설업/종합 건설업/에쓰씨엔지니어링",
          "KOSPI/운수 및 창고업/항공 운송업/에어부산",
          "KOSPI/제조업/화학 물질 및 화학제품 제조업/에이블씨엔씨",
          "KOSPI/제조업/전자 부품, 컴퓨터, 영상, 음향 및 통신장비 제조업/에이엔피",
          "KOSPI/제조업/금속 가공제품 제조업/에이프로젠 KIC",
          "KOSPI/제조업/의료용 물질 및 의약품 제조업/에이프로젠제약",
          "KOSPI/정보통신업/출판업/엔씨소프트",
          "KOSPI/도매 및 소매업/소매업/엔에스쇼핑",
          "KOSPI/제조업/금속 가공제품 제조업/엔케이",
          "KOSPI/도매 및 소매업/도매 및 상품 중개업/엔케이물산",
          "KOSPI/도매 및 소매업/자동차 및 부품 판매업/엘브이엠씨홀딩스",
          "KOSPI/제조업/고무 및 플라스틱제품 제조업/영보화학",
          "KOSPI/제조업/의료용 물질 및 의약품 제조업/영진약품",
          "KOSPI/제조업/1차 금속 제조업/영풍",
          "KOSPI/제조업/펄프, 종이 및 종이제품 제조업/영풍제지",
          "KOSPI/제조업/자동차 및 트레일러 제조업/영화금속",
          "KOSPI/금융 및 보험업/금융업/예스코홀딩스",
          "KOSPI/제조업/식료품 제조업/오뚜기",
          "KOSPI/제조업/의료용 물질 및 의약품 제조업/오리엔트바이오",
          "KOSPI/제조업/식료품 제조업/오리온",
          "KOSPI/금융 및 보험업/금융업/오리온홀딩스",
          "KOSPI/숙박 및 음식점업/숙박업/용평리조트",
          "KOSPI/금융 및 보험업/금융업/우리금융지주",
          "KOSPI/제조업/의료용 물질 및 의약품 제조업/우리들제약",
          "KOSPI/금융 및 보험업/금융업/우리종금",
          "KOSPI/제조업/식료품 제조업/우성사료",
          "KOSPI/제조업/기타 기계 및 장비 제조업/우신시스템",
          "KOSPI/제조업/의료, 정밀, 광학 기기 및 시계 제조업/우진",
          "KOSPI/건설업/전문직별 공사업/우진아이엔에스",
          "KOSPI/제조업/기타 기계 및 장비 제조업/우진플라임",
          "KOSPI/금융 및 보험업/금융업/웅진",
          "KOSPI/교육 서비스업/교육 서비스업/웅진씽크빅",
          "KOSPI/제조업/섬유제품 제조업/원림",
          "KOSPI/도매 및 소매업/도매 및 상품 중개업/웰바이오텍",
          "KOSPI/도매 및 소매업/도매 및 상품 중개업/윌비스",
          "KOSPI/제조업/의료용 물질 및 의약품 제조업/유나이티드제약",
          "KOSPI/제조업/화학 물질 및 화학제품 제조업/유니드",
          "KOSPI/제조업/비금속 광물제품 제조업/유니온",
          "KOSPI/제조업/비금속 광물제품 제조업/유니온머티리얼",
          "KOSPI/제조업/가죽, 가방 및 신발 제조업/유니켐",
          "KOSPI/도매 및 소매업/도매 및 상품 중개업/유니퀘스트",
          "KOSPI/제조업/자동차 및 트레일러 제조업/유성기업",
          "KOSPI/전문, 과학 및 기술 서비스업/전문 서비스업/유수홀딩스",
          "KOSPI/금융 및 보험업/금융 및 보험관련 서비스업/유안타증권",
          "KOSPI/제조업/전자 부품, 컴퓨터, 영상, 음향 및 통신장비 제조업/유양디앤유",
          "KOSPI/정보통신업/정보서비스업/유엔젤",
          "KOSPI/제조업/의료용 물질 및 의약품 제조업/유유제약",
          "KOSPI/금융 및 보험업/금융 및 보험관련 서비스업/유진투자증권",
          "KOSPI/제조업/의료용 물질 및 의약품 제조업/유한양행",
          "KOSPI/금융 및 보험업/금융 및 보험관련 서비스업/유화증권",
          "KOSPI/제조업/고무 및 플라스틱제품 제조업/율촌화학",
          "KOSPI/제조업/목재 및 나무제품 제조업/이건산업",
          "KOSPI/제조업/1차 금속 제조업/이구산업",
          "KOSPI/전문, 과학 및 기술 서비스업/전문 서비스업/이노션",
          "KOSPI/도매 및 소매업/소매업/이마트",
          "KOSPI/제조업/전자 부품, 컴퓨터, 영상, 음향 및 통신장비 제조업/이수페타시스",
          "KOSPI/제조업/화학 물질 및 화학제품 제조업/이수화학",
          "KOSPI/부동산업/부동산업/이스타코",
          "KOSPI/도매 및 소매업/도매 및 상품 중개업/이아이디",
          "KOSPI/제조업/기타 기계 및 장비 제조업/이엔플러스",
          "KOSPI/제조업/의료용 물질 및 의약품 제조업/이연제약",
          "KOSPI/예술, 스포츠 및 여가관련 서비스업/스포츠 및 오락관련 서비스업/이월드",
          "KOSPI/부동산업/부동산업/이지스레지던스리츠",
          "KOSPI/부동산업/부동산업/이지스밸류리츠",
          "KOSPI/도매 및 소매업/도매 및 상품 중개업/이화산업",
          "KOSPI/제조업/의복, 의복 액세서리 및 모피제품 제조업/인디에프",
          "KOSPI/도매 및 소매업/도매 및 상품 중개업/인바이오젠",
          "KOSPI/정보통신업/우편 및 통신업/인스코비",
          "KOSPI/제조업/자동차 및 트레일러 제조업/인지컨트롤스",
          "KOSPI/전기, 가스, 증기 및 공기 조절 공급업/전기, 가스, 증기 및 공기 조절 공급업/인천도시가스",
          "KOSPI/운수 및 창고업/육상 운송 및 파이프라인 운송업/인터지스",
          "KOSPI/제조업/자동차 및 트레일러 제조업/인팩",
          "KOSPI/제조업/의료용 물질 및 의약품 제조업/일동제약",
          "KOSPI/제조업/의료용 물질 및 의약품 제조업/일동홀딩스",
          "KOSPI/건설업/종합 건설업/일성건설",
          "KOSPI/제조업/의료용 물질 및 의약품 제조업/일성신약",
          "KOSPI/제조업/섬유제품 제조업/일신방직",
          "KOSPI/도매 및 소매업/도매 및 상품 중개업/일신석재",
          "KOSPI/제조업/의료용 물질 및 의약품 제조업/일양약품",
          "KOSPI/제조업/섬유제품 제조업/일정실업",
          "KOSPI/제조업/화학 물질 및 화학제품 제조업/일진다이아",
          "KOSPI/제조업/전자 부품, 컴퓨터, 영상, 음향 및 통신장비 제조업/일진디스플",
          "KOSPI/제조업/전자 부품, 컴퓨터, 영상, 음향 및 통신장비 제조업/일진머티리얼즈",
          "KOSPI/금융 및 보험업/금융업/일진홀딩스",
          "KOSPI/제조업/화학 물질 및 화학제품 제조업/잇츠한불",
          "KOSPI/부동산업/부동산업/자이에스앤디",
          "KOSPI/제조업/전자 부품, 컴퓨터, 영상, 음향 및 통신장비 제조업/자화전자",
          "KOSPI/제조업/섬유제품 제조업/전방",
          "KOSPI/부동산업/부동산업/제이알글로벌리츠",
          "KOSPI/제조업/가죽, 가방 및 신발 제조업/제이에스코퍼레이션",
          "KOSPI/제조업/화학 물질 및 화학제품 제조업/제이준코스메틱",
          "KOSPI/정보통신업/영상ㆍ오디오 기록물 제작 및 배급업/제이콘텐트리",
          "KOSPI/전문, 과학 및 기술 서비스업/전문 서비스업/제일기획",
          "KOSPI/제조업/의료용 물질 및 의약품 제조업/제일약품",
          "KOSPI/제조업/비금속 광물제품 제조업/제일연마",
          "KOSPI/전문, 과학 및 기술 서비스업/전문 서비스업/제일파마홀딩스",
          "KOSPI/금융 및 보험업/금융업/제주은행",
          "KOSPI/운수 및 창고업/항공 운송업/제주항공",
          "KOSPI/제조업/화학 물질 및 화학제품 제조업/조광페인트",
          "KOSPI/제조업/가죽, 가방 및 신발 제조업/조광피혁",
          "KOSPI/제조업/화학 물질 및 화학제품 제조업/조비",
          "KOSPI/제조업/비금속 광물제품 제조업/조선내화",
          "KOSPI/제조업/금속 가공제품 제조업/조선선재",
          "KOSPI/제조업/1차 금속 제조업/조일알미늄",
          "KOSPI/제조업/식료품 제조업/조흥",
          "KOSPI/제조업/의료용 물질 및 의약품 제조업/종근당",
          "KOSPI/제조업/의료용 물질 및 의약품 제조업/종근당바이오",
          "KOSPI/제조업/의료용 물질 및 의약품 제조업/종근당홀딩스",
          "KOSPI/제조업/전자 부품, 컴퓨터, 영상, 음향 및 통신장비 제조업/주연테크",
          "KOSPI/제조업/가구 제조업/지누스",
          "KOSPI/제조업/자동차 및 트레일러 제조업/지엠비코리아",
          "KOSPI/전기, 가스, 증기 및 공기 조절 공급업/전기, 가스, 증기 및 공기 조절 공급업/지역난방공사",
          "KOSPI/제조업/자동차 및 트레일러 제조업/지코",
          "KOSPI/전문, 과학 및 기술 서비스업/전문 서비스업/지투알",
          "KOSPI/도매 및 소매업/도매 및 상품 중개업/진도",
          "KOSPI/제조업/고무 및 플라스틱제품 제조업/진양산업",
          "KOSPI/제조업/고무 및 플라스틱제품 제조업/진양폴리",
          "KOSPI/제조업/고무 및 플라스틱제품 제조업/진양홀딩스",
          "KOSPI/제조업/고무 및 플라스틱제품 제조업/진양화학",
          "KOSPI/운수 및 창고업/항공 운송업/진에어",
          "KOSPI/제조업/의료용 물질 및 의약품 제조업/진원생명과학",
          "KOSPI/건설업/종합 건설업/진흥기업",
          "KOSPI/제조업/기타 기계 및 장비 제조업/참엔지니어링",
          "KOSPI/운수 및 창고업/육상 운송 및 파이프라인 운송업/천일고속",
          "KOSPI/제조업/자동차 및 트레일러 제조업/체시스",
          "KOSPI/정보통신업/정보서비스업/카카오",
          "KOSPI/제조업/화학 물질 및 화학제품 제조업/카프로",
          "KOSPI/제조업/펄프, 종이 및 종이제품 제조업/컨버즈",
          "KOSPI/제조업/자동차 및 트레일러 제조업/케이비아이동국실업",
          "KOSPI/제조업/의료, 정밀, 광학 기기 및 시계 제조업/케이씨",
          "KOSPI/제조업/비금속 광물제품 제조업/케이씨씨글라스",
          "KOSPI/제조업/의료, 정밀, 광학 기기 및 시계 제조업/케이씨텍",
          "KOSPI/부동산업/부동산업/케이탑리츠",
          "KOSPI/부동산업/부동산업/코람코에너지리츠",
          "KOSPI/제조업/전자 부품, 컴퓨터, 영상, 음향 및 통신장비 제조업/코리아써키트",
          "KOSPI/금융 및 보험업/보험 및 연금업/코리안리",
          "KOSPI/제조업/화학 물질 및 화학제품 제조업/코스맥스",
          "KOSPI/금융 및 보험업/금융업/코스맥스비티아이",
          "KOSPI/제조업/화학 물질 및 화학제품 제조업/코스모신소재",
          "KOSPI/제조업/화학 물질 및 화학제품 제조업/코스모화학",
          "KOSPI/제조업/가구 제조업/코아스",
          "KOSPI/금융 및 보험업/금융업/코오롱",
          "KOSPI/건설업/종합 건설업/코오롱글로벌",
          "KOSPI/제조업/화학 물질 및 화학제품 제조업/코오롱머티리얼",
          "KOSPI/제조업/화학 물질 및 화학제품 제조업/코오롱플라스틱",
          "KOSPI/협회 및 단체, 수리 및 기타 개인 서비스업/기타 개인 서비스업/코웨이",
          "KOSPI/정보통신업/컴퓨터 프로그래밍, 시스템 통합 및 관리업/콤텍시스템",
          "KOSPI/금융 및 보험업/금융업/쿠쿠홀딩스",
          "KOSPI/사업시설 관리, 사업 지원 및 임대 서비스업/임대업/쿠쿠홈시스",
          "KOSPI/제조업/기타 기계 및 장비 제조업/큐로",
          "KOSPI/제조업/식료품 제조업/크라운제과",
          "KOSPI/금융 및 보험업/금융업/크라운해태홀딩스",
          "KOSPI/정보통신업/정보서비스업/키다리스튜디오",
          "KOSPI/금융 및 보험업/금융 및 보험관련 서비스업/키움증권",
          "KOSPI/정보통신업/영상ㆍ오디오 기록물 제작 및 배급업/키위미디어그룹",
          "KOSPI/제조업/비금속 광물제품 제조업/태경비케이",
          "KOSPI/제조업/화학 물질 및 화학제품 제조업/태경산업",
          "KOSPI/제조업/화학 물질 및 화학제품 제조업/태경케미컬",
          "KOSPI/제조업/화학 물질 및 화학제품 제조업/태광산업",
          "KOSPI/제조업/펄프, 종이 및 종이제품 제조업/태림포장",
          "KOSPI/제조업/자동차 및 트레일러 제조업/태양금속",
          "KOSPI/건설업/종합 건설업/태영건설",
          "KOSPI/제조업/자동차 및 트레일러 제조업/태원물산",
          "KOSPI/제조업/의복, 의복 액세서리 및 모피제품 제조업/태평양물산",
          "KOSPI/제조업/고무 및 플라스틱제품 제조업/테이팩스",
          "KOSPI/정보통신업/정보서비스업/텔코웨어",
          "KOSPI/제조업/화학 물질 및 화학제품 제조업/토니모리",
          "KOSPI/제조업/전기장비 제조업/티에이치엔",
          "KOSPI/금융 및 보험업/금융업/티와이홀딩스",
          "KOSPI/운수 및 창고업/항공 운송업/티웨이항공",
          "KOSPI/제조업/비금속 광물제품 제조업/티웨이홀딩스",
          "KOSPI/제조업/의료용 물질 및 의약품 제조업/파미셀",
          "KOSPI/제조업/식료품 제조업/팜스코",
          "KOSPI/운수 및 창고업/수상 운송업/팬오션",
          "KOSPI/제조업/금속 가공제품 제조업/퍼스텍",
          "KOSPI/제조업/가구 제조업/퍼시스",
          "KOSPI/제조업/펄프, 종이 및 종이제품 제조업/페이퍼코리아",
          "KOSPI/제조업/자동차 및 트레일러 제조업/평화산업",
          "KOSPI/제조업/자동차 및 트레일러 제조업/평화홀딩스",
          "KOSPI/제조업/1차 금속 제조업/포스코강판",
          "KOSPI/도매 및 소매업/도매 및 상품 중개업/포스코인터내셔널",
          "KOSPI/제조업/비금속 광물제품 제조업/포스코케미칼",
          "KOSPI/도매 및 소매업/도매 및 상품 중개업/폴루스바이오팜",
          "KOSPI/제조업/식료품 제조업/풀무원",
          "KOSPI/금융 및 보험업/금융업/풍산홀딩스",
          "KOSPI/제조업/전자 부품, 컴퓨터, 영상, 음향 및 통신장비 제조업/필룩스",
          "KOSPI/금융 및 보험업/금융업/하나금융지주",
          "KOSPI/제조업/의료용 물질 및 의약품 제조업/하나제약",
          "KOSPI/사업시설 관리, 사업 지원 및 임대 서비스업/사업 지원 서비스업/하나투어",
          "KOSPI/제조업/1차 금속 제조업/하이스틸",
          "KOSPI/제조업/전자 부품, 컴퓨터, 영상, 음향 및 통신장비 제조업/하이트론",
          "KOSPI/제조업/음료 제조업/하이트진로",
          "KOSPI/금융 및 보험업/금융업/하이트진로홀딩스",
          "KOSPI/전기, 가스, 증기 및 공기 조절 공급업/전기, 가스, 증기 및 공기 조절 공급업/한국가스공사",
          "KOSPI/운수 및 창고업/창고 및 운송관련 서비스업/한국공항",
          "KOSPI/금융 및 보험업/금융업/한국금융지주",
          "KOSPI/제조업/비금속 광물제품 제조업/한국내화",
          "KOSPI/제조업/전기장비 제조업/한국단자",
          "KOSPI/제조업/비금속 광물제품 제조업/한국석유",
          "KOSPI/제조업/펄프, 종이 및 종이제품 제조업/한국수출포장",
          "KOSPI/제조업/코크스, 연탄 및 석유정제품 제조업/한국쉘석유",
          "KOSPI/금융 및 보험업/금융업/한국앤컴퍼니",
          "KOSPI/금융 및 보험업/금융업/한국자산신탁",
          "KOSPI/전기, 가스, 증기 및 공기 조절 공급업/전기, 가스, 증기 및 공기 조절 공급업/한국전력",
          "KOSPI/금융 및 보험업/금융업/한국전자홀딩스",
          "KOSPI/제조업/기타 운송장비 제조업/한국조선해양",
          "KOSPI/전문, 과학 및 기술 서비스업/건축 기술, 엔지니어링 및 기타 과학기술 서비스업/한국종합기술",
          "KOSPI/제조업/기타 기계 및 장비 제조업/한국주강",
          "KOSPI/제조업/1차 금속 제조업/한국주철관",
          "KOSPI/제조업/1차 금속 제조업/한국철강",
          "KOSPI/제조업/금속 가공제품 제조업/한국카본",
          "KOSPI/금융 및 보험업/금융업/한국콜마홀딩스",
          "KOSPI/제조업/고무 및 플라스틱제품 제조업/한국타이어앤테크놀로지",
          "KOSPI/금융 및 보험업/금융업/한국토지신탁",
          "KOSPI/제조업/1차 금속 제조업/한국특수형강",
          "KOSPI/제조업/자동차 및 트레일러 제조업/한국프랜지",
          "KOSPI/제조업/기타 운송장비 제조업/한국항공우주",
          "KOSPI/도매 및 소매업/도매 및 상품 중개업/한국화장품",
          "KOSPI/제조업/화학 물질 및 화학제품 제조업/한국화장품제조",
          "KOSPI/제조업/화학 물질 및 화학제품 제조업/한농화성",
          "KOSPI/제조업/의료용 물질 및 의약품 제조업/한독",
          "KOSPI/건설업/종합 건설업/한라",
          "KOSPI/금융 및 보험업/금융업/한라홀딩스",
          "KOSPI/전문, 과학 및 기술 서비스업/건축 기술, 엔지니어링 및 기타 과학기술 서비스업/한미글로벌",
          "KOSPI/제조업/기타 기계 및 장비 제조업/한미반도체",
          "KOSPI/금융 및 보험업/금융업/한미사이언스",
          "KOSPI/도매 및 소매업/도매 및 상품 중개업/한샘",
          "KOSPI/제조업/의복, 의복 액세서리 및 모피제품 제조업/한섬",
          "KOSPI/제조업/식료품 제조업/한성기업",
          "KOSPI/제조업/의복, 의복 액세서리 및 모피제품 제조업/한세실업",
          "KOSPI/도매 및 소매업/소매업/한세엠케이",
          "KOSPI/제조업/의복, 의복 액세서리 및 모피제품 제조업/한세예스24홀딩스",
          "KOSPI/도매 및 소매업/도매 및 상품 중개업/한솔PNS",
          "KOSPI/운수 및 창고업/창고 및 운송관련 서비스업/한솔로지스틱스",
          "KOSPI/제조업/펄프, 종이 및 종이제품 제조업/한솔제지",
          "KOSPI/제조업/화학 물질 및 화학제품 제조업/한솔케미칼",
          "KOSPI/제조업/전자 부품, 컴퓨터, 영상, 음향 및 통신장비 제조업/한솔테크닉스",
          "KOSPI/금융 및 보험업/금융업/한솔홀딩스",
          "KOSPI/제조업/목재 및 나무제품 제조업/한솔홈데코",
          "KOSPI/건설업/종합 건설업/한신공영",
          "KOSPI/제조업/기타 기계 및 장비 제조업/한신기계",
          "KOSPI/금융 및 보험업/금융 및 보험관련 서비스업/한양증권",
          "KOSPI/제조업/기타 기계 및 장비 제조업/한온시스템",
          "KOSPI/제조업/의료용 물질 및 의약품 제조업/한올바이오파마",
          "KOSPI/운수 및 창고업/육상 운송 및 파이프라인 운송업/한익스프레스",
          "KOSPI/제조업/비금속 광물제품 제조업/한일시멘트",
          "KOSPI/제조업/1차 금속 제조업/한일철강",
          "KOSPI/제조업/비금속 광물제품 제조업/한일현대시멘트",
          "KOSPI/제조업/비금속 광물제품 제조업/한일홀딩스",
          "KOSPI/건설업/전문직별 공사업/한전KPS",
          "KOSPI/전문, 과학 및 기술 서비스업/건축 기술, 엔지니어링 및 기타 과학기술 서비스업/한전기술",
          "KOSPI/전문, 과학 및 기술 서비스업/건축 기술, 엔지니어링 및 기타 과학기술 서비스업/한전산업",
          "KOSPI/운수 및 창고업/육상 운송 및 파이프라인 운송업/한진",
          "KOSPI/건설업/종합 건설업/한진중공업",
          "KOSPI/전기, 가스, 증기 및 공기 조절 공급업/전기, 가스, 증기 및 공기 조절 공급업/한진중공업홀딩스",
          "KOSPI/운수 및 창고업/항공 운송업/한진칼",
          "KOSPI/도매 및 소매업/도매 및 상품 중개업/한창",
          "KOSPI/제조업/펄프, 종이 및 종이제품 제조업/한창제지",
          "KOSPI/제조업/화학 물질 및 화학제품 제조업/한화",
          "KOSPI/금융 및 보험업/보험 및 연금업/한화생명",
          "KOSPI/금융 및 보험업/보험 및 연금업/한화손해보험",
          "KOSPI/제조업/화학 물질 및 화학제품 제조업/한화솔루션",
          "KOSPI/제조업/전자 부품, 컴퓨터, 영상, 음향 및 통신장비 제조업/한화시스템",
          "KOSPI/제조업/기타 운송장비 제조업/한화에어로스페이스",
          "KOSPI/금융 및 보험업/금융 및 보험관련 서비스업/한화투자증권",
          "KOSPI/제조업/전자 부품, 컴퓨터, 영상, 음향 및 통신장비 제조업/해성디에스",
          "KOSPI/제조업/식료품 제조업/해태제과식품",
          "KOSPI/제조업/자동차 및 트레일러 제조업/핸즈코퍼레이션",
          "KOSPI/건설업/종합 건설업/현대건설",
          "KOSPI/제조업/기타 기계 및 장비 제조업/현대건설기계",
          "KOSPI/도매 및 소매업/소매업/현대그린푸드",
          "KOSPI/운수 및 창고업/창고 및 운송관련 서비스업/현대글로비스",
          "KOSPI/제조업/기타 운송장비 제조업/현대로템",
          "KOSPI/제조업/가구 제조업/현대리바트",
          "KOSPI/제조업/자동차 및 트레일러 제조업/현대모비스",
          "KOSPI/제조업/기타 운송장비 제조업/현대미포조선",
          "KOSPI/도매 및 소매업/소매업/현대백화점",
          "KOSPI/제조업/1차 금속 제조업/현대비앤지스틸",
          "KOSPI/도매 및 소매업/도매 및 상품 중개업/현대상사",
          "KOSPI/제조업/의료용 물질 및 의약품 제조업/현대약품",
          "KOSPI/제조업/전자 부품, 컴퓨터, 영상, 음향 및 통신장비 제조업/현대에너지솔루션",
          "KOSPI/제조업/기타 기계 및 장비 제조업/현대엘리베이",
          "KOSPI/정보통신업/출판업/현대오토에버",
          "KOSPI/제조업/자동차 및 트레일러 제조업/현대위아",
          "KOSPI/제조업/전기장비 제조업/현대일렉트릭",
          "KOSPI/제조업/1차 금속 제조업/현대제철",
          "KOSPI/제조업/코크스, 연탄 및 석유정제품 제조업/현대중공업지주",
          "KOSPI/제조업/자동차 및 트레일러 제조업/현대차",
          "KOSPI/금융 및 보험업/금융 및 보험관련 서비스업/현대차증권",
          "KOSPI/도매 및 소매업/도매 및 상품 중개업/현대코퍼레이션홀딩스",
          "KOSPI/정보통신업/방송업/현대퓨처넷",
          "KOSPI/금융 및 보험업/보험 및 연금업/현대해상",
          "KOSPI/도매 및 소매업/소매업/현대홈쇼핑",
          "KOSPI/제조업/의복, 의복 액세서리 및 모피제품 제조업/형지엘리트",
          "KOSPI/도매 및 소매업/도매 및 상품 중개업/혜인",
          "KOSPI/제조업/의복, 의복 액세서리 및 모피제품 제조업/호전실업",
          "KOSPI/도매 및 소매업/소매업/호텔신라",
          "KOSPI/건설업/종합 건설업/화성산업",
          "KOSPI/제조업/자동차 및 트레일러 제조업/화승알앤에이",
          "KOSPI/제조업/고무 및 플라스틱제품 제조업/화승인더",
          "KOSPI/제조업/자동차 및 트레일러 제조업/화신",
          "KOSPI/제조업/1차 금속 제조업/화인베스틸",
          "KOSPI/제조업/기타 기계 및 장비 제조업/화천기계",
          "KOSPI/제조업/기타 기계 및 장비 제조업/화천기공",
          "KOSPI/제조업/의료용 물질 및 의약품 제조업/환인제약",
          "KOSPI/제조업/1차 금속 제조업/황금에스티",
          "KOSPI/금융 및 보험업/금융업/효성",
          "KOSPI/사업시설 관리, 사업 지원 및 임대 서비스업/사업 지원 서비스업/효성ITX",
          "KOSPI/제조업/전기장비 제조업/효성중공업",
          "KOSPI/제조업/화학 물질 및 화학제품 제조업/효성첨단소재",
          "KOSPI/제조업/화학 물질 및 화학제품 제조업/효성티앤씨",
          "KOSPI/제조업/화학 물질 및 화학제품 제조업/효성화학",
          "KOSPI/제조업/화학 물질 및 화학제품 제조업/후성",
          "KOSPI/도매 및 소매업/도매 및 상품 중개업/휠라홀딩스",
          "KOSPI/제조업/전자 부품, 컴퓨터, 영상, 음향 및 통신장비 제조업/휴니드",
          "KOSPI/제조업/화학 물질 및 화학제품 제조업/휴비스",
          "KOSPI/제조업/1차 금속 제조업/휴스틸",
          "KOSPI/제조업/화학 물질 및 화학제품 제조업/휴켐스",
          "KOSPI/금융 및 보험업/보험 및 연금업/흥국화재",
          "KOSPI/운수 및 창고업/수상 운송업/흥아해운",
          "KOSPI/제조업/1차 금속 제조업",
          "KOSPI/제조업/가구 제조업",
          "KOSPI/제조업/가죽, 가방 및 신발 제조업",
          "KOSPI/전문, 과학 및 기술 서비스업/건축 기술, 엔지니어링 및 기타 과학기술 서비스업",
          "KOSPI/제조업/고무 및 플라스틱제품 제조업",
          "KOSPI/교육 서비스업/교육 서비스업",
          "KOSPI/제조업/금속 가공제품 제조업",
          "KOSPI/금융 및 보험업/금융 및 보험관련 서비스업",
          "KOSPI/금융 및 보험업/금융업",
          "KOSPI/협회 및 단체, 수리 및 기타 개인 서비스업/기타 개인 서비스업",
          "KOSPI/제조업/기타 기계 및 장비 제조업",
          "KOSPI/제조업/기타 운송장비 제조업",
          "KOSPI/제조업/기타 제품 제조업",
          "KOSPI/제조업/담배 제조업",
          "KOSPI/도매 및 소매업/도매 및 상품 중개업",
          "KOSPI/제조업/목재 및 나무제품 제조업",
          "KOSPI/정보통신업/방송업",
          "KOSPI/금융 및 보험업/보험 및 연금업",
          "KOSPI/부동산업/부동산업",
          "KOSPI/제조업/비금속 광물제품 제조업",
          "KOSPI/광업/비금속광물 광업",
          "KOSPI/사업시설 관리, 사업 지원 및 임대 서비스업/사업 지원 서비스업",
          "KOSPI/제조업/섬유제품 제조업",
          "KOSPI/도매 및 소매업/소매업",
          "KOSPI/운수 및 창고업/수상 운송업",
          "KOSPI/숙박 및 음식점업/숙박업",
          "KOSPI/예술, 스포츠 및 여가관련 서비스업/스포츠 및 오락관련 서비스업",
          "KOSPI/제조업/식료품 제조업",
          "KOSPI/농업, 임업 및 어업/어업",
          "KOSPI/정보통신업/영상ㆍ오디오 기록물 제작 및 배급업",
          "KOSPI/정보통신업/우편 및 통신업",
          "KOSPI/운수 및 창고업/육상 운송 및 파이프라인 운송업",
          "KOSPI/제조업/음료 제조업",
          "KOSPI/숙박 및 음식점업/음식점 및 주점업",
          "KOSPI/제조업/의료, 정밀, 광학 기기 및 시계 제조업",
          "KOSPI/제조업/의료용 물질 및 의약품 제조업",
          "KOSPI/제조업/의복, 의복 액세서리 및 모피제품 제조업",
          "KOSPI/사업시설 관리, 사업 지원 및 임대 서비스업/임대업",
          "KOSPI/도매 및 소매업/자동차 및 부품 판매업",
          "KOSPI/제조업/자동차 및 트레일러 제조업",
          "KOSPI/전기, 가스, 증기 및 공기 조절 공급업/전기, 가스, 증기 및 공기 조절 공급업",
          "KOSPI/제조업/전기장비 제조업",
          "KOSPI/전문, 과학 및 기술 서비스업/전문 서비스업",
          "KOSPI/건설업/전문직별 공사업",
          "KOSPI/제조업/전자 부품, 컴퓨터, 영상, 음향 및 통신장비 제조업",
          "KOSPI/정보통신업/정보서비스업",
          "KOSPI/건설업/종합 건설업",
          "KOSPI/운수 및 창고업/창고 및 운송관련 서비스업",
          "KOSPI/정보통신업/출판업",
          "KOSPI/정보통신업/컴퓨터 프로그래밍, 시스템 통합 및 관리업",
          "KOSPI/제조업/코크스, 연탄 및 석유정제품 제조업",
          "KOSPI/제조업/펄프, 종이 및 종이제품 제조업",
          "KOSPI/운수 및 창고업/항공 운송업",
          "KOSPI/제조업/화학 물질 및 화학제품 제조업",
          "KOSPI/건설업",
          "KOSPI/광업",
          "KOSPI/교육 서비스업",
          "KOSPI/금융 및 보험업",
          "KOSPI/농업, 임업 및 어업",
          "KOSPI/도매 및 소매업",
          "KOSPI/부동산업",
          "KOSPI/사업시설 관리, 사업 지원 및 임대 서비스업",
          "KOSPI/숙박 및 음식점업",
          "KOSPI/예술, 스포츠 및 여가관련 서비스업",
          "KOSPI/운수 및 창고업",
          "KOSPI/전기, 가스, 증기 및 공기 조절 공급업",
          "KOSPI/전문, 과학 및 기술 서비스업",
          "KOSPI/정보통신업",
          "KOSPI/제조업",
          "KOSPI/협회 및 단체, 수리 및 기타 개인 서비스업",
          "KOSPI"
         ],
         "labels": [
          "AJ네트웍스",
          "AK홀딩스",
          "BGF",
          "BGF리테일",
          "BNK금융지주",
          "BYC",
          "CJ",
          "CJ CGV",
          "CJ대한통운",
          "CJ씨푸드",
          "CJ제일제당",
          "CS홀딩스",
          "DB",
          "DB금융투자",
          "DB손해보험",
          "DB하이텍",
          "DGB금융지주",
          "DI동일",
          "DRB동일",
          "DSR",
          "DSR제강",
          "E1",
          "ESR켄달스퀘어리츠",
          "F&F",
          "GKL",
          "GS건설",
          "GS글로벌",
          "GS리테일",
          "HDC",
          "HDC아이콘트롤스",
          "HDC현대EP",
          "HDC현대산업개발",
          "HMM",
          "HSD엔진",
          "IHQ",
          "JB금융지주",
          "JW생명과학",
          "JW중외제약",
          "JW홀딩스",
          "KB금융",
          "KCC",
          "KCTC",
          "KC그린홀딩스",
          "KC코트렐",
          "KEC",
          "KG동부제철",
          "KG케미칼",
          "KISCO홀딩스",
          "KPX케미칼",
          "KPX홀딩스",
          "KR모터스",
          "KT",
          "KT&G",
          "KTB투자증권",
          "KTcs",
          "KTis",
          "LF",
          "LG",
          "LG디스플레이",
          "LG상사",
          "LG생활건강",
          "LG유플러스",
          "LG이노텍",
          "LG전자",
          "LG하우시스",
          "LG헬로비전",
          "LG화학",
          "LIG넥스원",
          "LS",
          "LS ELECTRIC",
          "LS네트웍스",
          "MH에탄올",
          "NAVER",
          "NHN",
          "NH투자증권",
          "NH프라임리츠",
          "NICE",
          "NI스틸",
          "NPC",
          "OCI",
          "POSCO",
          "S&TC",
          "S&T모티브",
          "S&T중공업",
          "S&T홀딩스",
          "S-Oil",
          "SBS",
          "SBS미디어홀딩스",
          "SGC에너지",
          "SG세계물산",
          "SG충방",
          "SH에너지화학",
          "SIMPAC",
          "SJM홀딩스",
          "SK",
          "SKC",
          "SK가스",
          "SK네트웍스",
          "SK디스커버리",
          "SK디앤디",
          "SK렌터카",
          "SK이노베이션",
          "SK증권",
          "SK케미칼",
          "SK텔레콤",
          "SK하이닉스",
          "SPC삼립",
          "STX",
          "STX엔진",
          "STX중공업",
          "TCC스틸",
          "WISCOM",
          "YG PLUS",
          "가온전선",
          "강남제비스코",
          "강원랜드",
          "갤럭시아에스엠",
          "경농",
          "경동나비엔",
          "경동도시가스",
          "경동인베스트",
          "경방",
          "경보제약",
          "경인양행",
          "경인전자",
          "계룡건설",
          "계양전기",
          "고려산업",
          "고려아연",
          "고려제강",
          "광동제약",
          "광명전기",
          "광전자",
          "광주신세계",
          "교보증권",
          "교촌에프앤비",
          "국도화학",
          "국동",
          "국보",
          "국제약품",
          "그린케미칼",
          "극동유화",
          "금강공업",
          "금비",
          "금양",
          "금호산업",
          "금호석유",
          "금호에이치티",
          "금호전기",
          "금호타이어",
          "기신정기",
          "기아차",
          "기업은행",
          "까뮤이앤씨",
          "깨끗한나라",
          "남광토건",
          "남선알미늄",
          "남성",
          "남양유업",
          "남해화학",
          "넥센",
          "넥센타이어",
          "넥스트사이언스",
          "넷마블",
          "노루홀딩스",
          "녹십자",
          "녹십자홀딩스",
          "농심",
          "농심홀딩스",
          "다스코",
          "다우기술",
          "대교",
          "대구백화점",
          "대덕",
          "대덕전자",
          "대동공업",
          "대동전자",
          "대림B&Co",
          "대림건설",
          "대림산업",
          "대림통상",
          "대상",
          "대성산업",
          "대성에너지",
          "대성홀딩스",
          "대신증권",
          "대양금속",
          "대영포장",
          "대우건설",
          "대우부품",
          "대우조선해양",
          "대웅",
          "대웅제약",
          "대원강업",
          "대원전선",
          "대원제약",
          "대원화성",
          "대유에이텍",
          "대유플러스",
          "대창",
          "대창단조",
          "대한방직",
          "대한유화",
          "대한전선",
          "대한제강",
          "대한제당",
          "대한제분",
          "대한항공",
          "대한해운",
          "대한화섬",
          "대현",
          "대호에이엘",
          "더존비즈온",
          "덕성",
          "덕양산업",
          "덴티움",
          "도화엔지니어링",
          "동국제강",
          "동남합성",
          "동방",
          "동방아그로",
          "동부건설",
          "동서",
          "동성제약",
          "동성화학",
          "동아쏘시오홀딩스",
          "동아에스티",
          "동아지질",
          "동아타이어",
          "동양",
          "동양고속",
          "동양물산",
          "동양생명",
          "동양철관",
          "동원F&B",
          "동원금속",
          "동원산업",
          "동원수산",
          "동원시스템즈",
          "동일고무벨트",
          "동일산업",
          "동일제강",
          "동화약품",
          "두산",
          "두산밥캣",
          "두산인프라코어",
          "두산중공업",
          "두산퓨얼셀",
          "두올",
          "드림텍",
          "디씨엠",
          "디아이",
          "디아이씨",
          "디와이",
          "디와이파워",
          "디티알오토모티브",
          "디피씨",
          "롯데관광개발",
          "롯데리츠",
          "롯데손해보험",
          "롯데쇼핑",
          "롯데정밀화학",
          "롯데정보통신",
          "롯데제과",
          "롯데지주",
          "롯데칠성",
          "롯데케미칼",
          "롯데푸드",
          "롯데하이마트",
          "마니커",
          "만도",
          "만호제강",
          "맥쿼리인프라",
          "메리츠금융지주",
          "메리츠증권",
          "메리츠화재",
          "메타랩스",
          "명문제약",
          "명신산업",
          "모나리자",
          "모나미",
          "모두투어리츠",
          "모토닉",
          "무림P&P",
          "무림페이퍼",
          "무학",
          "문배철강",
          "미래산업",
          "미래아이앤지",
          "미래에셋대우",
          "미래에셋맵스리츠",
          "미래에셋생명",
          "미원상사",
          "미원에스씨",
          "미원화학",
          "미창석유",
          "방림",
          "백광산업",
          "백산",
          "범양건영",
          "벽산",
          "보락",
          "보령제약",
          "보해양조",
          "부광약품",
          "부국증권",
          "부국철강",
          "부산가스",
          "부산산업",
          "부산주공",
          "비비안",
          "비상교육",
          "비케이탑스",
          "빅히트",
          "빙그레",
          "사조대림",
          "사조동아원",
          "사조산업",
          "사조씨푸드",
          "사조오양",
          "삼부토건",
          "삼성SDI",
          "삼성공조",
          "삼성물산",
          "삼성바이오로직스",
          "삼성생명",
          "삼성에스디에스",
          "삼성엔지니어링",
          "삼성전기",
          "삼성전자",
          "삼성제약",
          "삼성중공업",
          "삼성증권",
          "삼성출판사",
          "삼성카드",
          "삼성화재",
          "삼아알미늄",
          "삼양사",
          "삼양식품",
          "삼양통상",
          "삼양패키징",
          "삼양홀딩스",
          "삼영무역",
          "삼영전자",
          "삼영화학",
          "삼원강재",
          "삼익THK",
          "삼익악기",
          "삼일씨엔에스",
          "삼일제약",
          "삼정펄프",
          "삼진제약",
          "삼천리",
          "삼호개발",
          "삼화왕관",
          "삼화전기",
          "삼화전자",
          "삼화콘덴서",
          "삼화페인트",
          "상상인증권",
          "상신브레이크",
          "새론오토모티브",
          "샘표",
          "샘표식품",
          "서연",
          "서연이화",
          "서울가스",
          "서울식품",
          "서원",
          "서흥",
          "선도전기",
          "선창산업",
          "성문전자",
          "성보화학",
          "성신양회",
          "성안",
          "성창기업지주",
          "세기상사",
          "세방",
          "세방전지",
          "세아베스틸",
          "세아제강",
          "세아제강지주",
          "세아특수강",
          "세아홀딩스",
          "세우글로벌",
          "세원셀론텍",
          "세원정공",
          "세이브존I&C",
          "세종공업",
          "세진중공업",
          "세하",
          "세화아이엠씨",
          "센트랄모텍",
          "센트럴인사이트",
          "셀트리온",
          "솔루스첨단소재",
          "송원산업",
          "수산중공업",
          "스카이라이프",
          "시디즈",
          "신대양제지",
          "신도리코",
          "신라교역",
          "신성이엔지",
          "신성통상",
          "신세계",
          "신세계 I&C",
          "신세계건설",
          "신세계인터내셔날",
          "신세계푸드",
          "신송홀딩스",
          "신영와코루",
          "신영증권",
          "신원",
          "신일전자",
          "신풍제약",
          "신풍제지",
          "신한알파리츠",
          "신한지주",
          "신화실업",
          "신흥",
          "쌍용양회",
          "쌍용차",
          "써니전자",
          "쎌마테라퓨틱스",
          "씨아이테크",
          "씨에스윈드",
          "아남전자",
          "아모레G",
          "아모레퍼시픽",
          "아세아",
          "아세아시멘트",
          "아세아제지",
          "아시아나IDT",
          "아시아나항공",
          "아이마켓코리아",
          "아이에스동서",
          "아주캐피탈",
          "알루코",
          "애경산업",
          "에넥스",
          "에스엘",
          "에스원",
          "에쓰씨엔지니어링",
          "에어부산",
          "에이블씨엔씨",
          "에이엔피",
          "에이프로젠 KIC",
          "에이프로젠제약",
          "엔씨소프트",
          "엔에스쇼핑",
          "엔케이",
          "엔케이물산",
          "엘브이엠씨홀딩스",
          "영보화학",
          "영진약품",
          "영풍",
          "영풍제지",
          "영화금속",
          "예스코홀딩스",
          "오뚜기",
          "오리엔트바이오",
          "오리온",
          "오리온홀딩스",
          "용평리조트",
          "우리금융지주",
          "우리들제약",
          "우리종금",
          "우성사료",
          "우신시스템",
          "우진",
          "우진아이엔에스",
          "우진플라임",
          "웅진",
          "웅진씽크빅",
          "원림",
          "웰바이오텍",
          "윌비스",
          "유나이티드제약",
          "유니드",
          "유니온",
          "유니온머티리얼",
          "유니켐",
          "유니퀘스트",
          "유성기업",
          "유수홀딩스",
          "유안타증권",
          "유양디앤유",
          "유엔젤",
          "유유제약",
          "유진투자증권",
          "유한양행",
          "유화증권",
          "율촌화학",
          "이건산업",
          "이구산업",
          "이노션",
          "이마트",
          "이수페타시스",
          "이수화학",
          "이스타코",
          "이아이디",
          "이엔플러스",
          "이연제약",
          "이월드",
          "이지스레지던스리츠",
          "이지스밸류리츠",
          "이화산업",
          "인디에프",
          "인바이오젠",
          "인스코비",
          "인지컨트롤스",
          "인천도시가스",
          "인터지스",
          "인팩",
          "일동제약",
          "일동홀딩스",
          "일성건설",
          "일성신약",
          "일신방직",
          "일신석재",
          "일양약품",
          "일정실업",
          "일진다이아",
          "일진디스플",
          "일진머티리얼즈",
          "일진홀딩스",
          "잇츠한불",
          "자이에스앤디",
          "자화전자",
          "전방",
          "제이알글로벌리츠",
          "제이에스코퍼레이션",
          "제이준코스메틱",
          "제이콘텐트리",
          "제일기획",
          "제일약품",
          "제일연마",
          "제일파마홀딩스",
          "제주은행",
          "제주항공",
          "조광페인트",
          "조광피혁",
          "조비",
          "조선내화",
          "조선선재",
          "조일알미늄",
          "조흥",
          "종근당",
          "종근당바이오",
          "종근당홀딩스",
          "주연테크",
          "지누스",
          "지엠비코리아",
          "지역난방공사",
          "지코",
          "지투알",
          "진도",
          "진양산업",
          "진양폴리",
          "진양홀딩스",
          "진양화학",
          "진에어",
          "진원생명과학",
          "진흥기업",
          "참엔지니어링",
          "천일고속",
          "체시스",
          "카카오",
          "카프로",
          "컨버즈",
          "케이비아이동국실업",
          "케이씨",
          "케이씨씨글라스",
          "케이씨텍",
          "케이탑리츠",
          "코람코에너지리츠",
          "코리아써키트",
          "코리안리",
          "코스맥스",
          "코스맥스비티아이",
          "코스모신소재",
          "코스모화학",
          "코아스",
          "코오롱",
          "코오롱글로벌",
          "코오롱머티리얼",
          "코오롱플라스틱",
          "코웨이",
          "콤텍시스템",
          "쿠쿠홀딩스",
          "쿠쿠홈시스",
          "큐로",
          "크라운제과",
          "크라운해태홀딩스",
          "키다리스튜디오",
          "키움증권",
          "키위미디어그룹",
          "태경비케이",
          "태경산업",
          "태경케미컬",
          "태광산업",
          "태림포장",
          "태양금속",
          "태영건설",
          "태원물산",
          "태평양물산",
          "테이팩스",
          "텔코웨어",
          "토니모리",
          "티에이치엔",
          "티와이홀딩스",
          "티웨이항공",
          "티웨이홀딩스",
          "파미셀",
          "팜스코",
          "팬오션",
          "퍼스텍",
          "퍼시스",
          "페이퍼코리아",
          "평화산업",
          "평화홀딩스",
          "포스코강판",
          "포스코인터내셔널",
          "포스코케미칼",
          "폴루스바이오팜",
          "풀무원",
          "풍산홀딩스",
          "필룩스",
          "하나금융지주",
          "하나제약",
          "하나투어",
          "하이스틸",
          "하이트론",
          "하이트진로",
          "하이트진로홀딩스",
          "한국가스공사",
          "한국공항",
          "한국금융지주",
          "한국내화",
          "한국단자",
          "한국석유",
          "한국수출포장",
          "한국쉘석유",
          "한국앤컴퍼니",
          "한국자산신탁",
          "한국전력",
          "한국전자홀딩스",
          "한국조선해양",
          "한국종합기술",
          "한국주강",
          "한국주철관",
          "한국철강",
          "한국카본",
          "한국콜마홀딩스",
          "한국타이어앤테크놀로지",
          "한국토지신탁",
          "한국특수형강",
          "한국프랜지",
          "한국항공우주",
          "한국화장품",
          "한국화장품제조",
          "한농화성",
          "한독",
          "한라",
          "한라홀딩스",
          "한미글로벌",
          "한미반도체",
          "한미사이언스",
          "한샘",
          "한섬",
          "한성기업",
          "한세실업",
          "한세엠케이",
          "한세예스24홀딩스",
          "한솔PNS",
          "한솔로지스틱스",
          "한솔제지",
          "한솔케미칼",
          "한솔테크닉스",
          "한솔홀딩스",
          "한솔홈데코",
          "한신공영",
          "한신기계",
          "한양증권",
          "한온시스템",
          "한올바이오파마",
          "한익스프레스",
          "한일시멘트",
          "한일철강",
          "한일현대시멘트",
          "한일홀딩스",
          "한전KPS",
          "한전기술",
          "한전산업",
          "한진",
          "한진중공업",
          "한진중공업홀딩스",
          "한진칼",
          "한창",
          "한창제지",
          "한화",
          "한화생명",
          "한화손해보험",
          "한화솔루션",
          "한화시스템",
          "한화에어로스페이스",
          "한화투자증권",
          "해성디에스",
          "해태제과식품",
          "핸즈코퍼레이션",
          "현대건설",
          "현대건설기계",
          "현대그린푸드",
          "현대글로비스",
          "현대로템",
          "현대리바트",
          "현대모비스",
          "현대미포조선",
          "현대백화점",
          "현대비앤지스틸",
          "현대상사",
          "현대약품",
          "현대에너지솔루션",
          "현대엘리베이",
          "현대오토에버",
          "현대위아",
          "현대일렉트릭",
          "현대제철",
          "현대중공업지주",
          "현대차",
          "현대차증권",
          "현대코퍼레이션홀딩스",
          "현대퓨처넷",
          "현대해상",
          "현대홈쇼핑",
          "형지엘리트",
          "혜인",
          "호전실업",
          "호텔신라",
          "화성산업",
          "화승알앤에이",
          "화승인더",
          "화신",
          "화인베스틸",
          "화천기계",
          "화천기공",
          "환인제약",
          "황금에스티",
          "효성",
          "효성ITX",
          "효성중공업",
          "효성첨단소재",
          "효성티앤씨",
          "효성화학",
          "후성",
          "휠라홀딩스",
          "휴니드",
          "휴비스",
          "휴스틸",
          "휴켐스",
          "흥국화재",
          "흥아해운",
          "1차 금속 제조업",
          "가구 제조업",
          "가죽, 가방 및 신발 제조업",
          "건축 기술, 엔지니어링 및 기타 과학기술 서비스업",
          "고무 및 플라스틱제품 제조업",
          "교육 서비스업",
          "금속 가공제품 제조업",
          "금융 및 보험관련 서비스업",
          "금융업",
          "기타 개인 서비스업",
          "기타 기계 및 장비 제조업",
          "기타 운송장비 제조업",
          "기타 제품 제조업",
          "담배 제조업",
          "도매 및 상품 중개업",
          "목재 및 나무제품 제조업",
          "방송업",
          "보험 및 연금업",
          "부동산업",
          "비금속 광물제품 제조업",
          "비금속광물 광업",
          "사업 지원 서비스업",
          "섬유제품 제조업",
          "소매업",
          "수상 운송업",
          "숙박업",
          "스포츠 및 오락관련 서비스업",
          "식료품 제조업",
          "어업",
          "영상ㆍ오디오 기록물 제작 및 배급업",
          "우편 및 통신업",
          "육상 운송 및 파이프라인 운송업",
          "음료 제조업",
          "음식점 및 주점업",
          "의료, 정밀, 광학 기기 및 시계 제조업",
          "의료용 물질 및 의약품 제조업",
          "의복, 의복 액세서리 및 모피제품 제조업",
          "임대업",
          "자동차 및 부품 판매업",
          "자동차 및 트레일러 제조업",
          "전기, 가스, 증기 및 공기 조절 공급업",
          "전기장비 제조업",
          "전문 서비스업",
          "전문직별 공사업",
          "전자 부품, 컴퓨터, 영상, 음향 및 통신장비 제조업",
          "정보서비스업",
          "종합 건설업",
          "창고 및 운송관련 서비스업",
          "출판업",
          "컴퓨터 프로그래밍, 시스템 통합 및 관리업",
          "코크스, 연탄 및 석유정제품 제조업",
          "펄프, 종이 및 종이제품 제조업",
          "항공 운송업",
          "화학 물질 및 화학제품 제조업",
          "건설업",
          "광업",
          "교육 서비스업",
          "금융 및 보험업",
          "농업, 임업 및 어업",
          "도매 및 소매업",
          "부동산업",
          "사업시설 관리, 사업 지원 및 임대 서비스업",
          "숙박 및 음식점업",
          "예술, 스포츠 및 여가관련 서비스업",
          "운수 및 창고업",
          "전기, 가스, 증기 및 공기 조절 공급업",
          "전문, 과학 및 기술 서비스업",
          "정보통신업",
          "제조업",
          "협회 및 단체, 수리 및 기타 개인 서비스업",
          "KOSPI"
         ],
         "marker": {
          "coloraxis": "coloraxis",
          "colors": [
           0.84,
           12.57,
           4.19,
           -2.56,
           -2.09,
           -0.6299999999999999,
           -2.75,
           2.14,
           1.18,
           3.1299999999999994,
           0.57,
           -0.17,
           3.44,
           -1.8799999999999997,
           -3.15,
           -2.95,
           -2.39,
           -0.26,
           2.55,
           0,
           -0.38,
           -0.36,
           0.19,
           10.3,
           3.44,
           -2.18,
           -1.5000000000000002,
           1.85,
           -0.42,
           -1.8,
           -4.5,
           1.7800000000000002,
           -1.67,
           0.13,
           1.49,
           -1.74,
           -1.79,
           -1.95,
           -1.9899999999999998,
           -1.56,
           2.87,
           -5.59,
           2.25,
           0.86,
           -6.4,
           -0.42,
           0.63,
           1.03,
           1.65,
           0.35,
           0.98,
           -0.84,
           0.37,
           -1.41,
           -2.29,
           -3.33,
           2.36,
           -7.36,
           1.07,
           -4.17,
           1.1,
           -0.82,
           -2.68,
           -4.05,
           -0.48,
           -3.85,
           -1.32,
           -3.86,
           -0.53,
           -2.24,
           2.06,
           0.46,
           6.51,
           1.11,
           -0.43,
           -0.12,
           -0.83,
           -0.32,
           0,
           0.4699999999999999,
           -3.15,
           0.31,
           2.86,
           -2.7100000000000004,
           1.2,
           -1.22,
           0,
           -0.26,
           -2.53,
           -2.52,
           -4.53,
           -0.63,
           -0.53,
           1.66,
           -3.95,
           2.53,
           -0.47,
           1.28,
           1.07,
           -2.28,
           1.32,
           0.72,
           -1.31,
           -2.03,
           -0.78,
           -2.28,
           0.54,
           0.88,
           -1.19,
           -1.7200000000000002,
           -1.32,
           14.04,
           9.09,
           1.23,
           -1.74,
           3.69,
           -0.33,
           -1.49,
           -1.38,
           -0.27,
           0.33,
           -3.38,
           0.62,
           -1.23,
           -5,
           -0.89,
           -4.04,
           -1.21,
           -1.95,
           -0.67,
           -0.20999999999999996,
           0.68,
           -3.72,
           1.28,
           -1.28,
           -0.28,
           -2.08,
           3.23,
           -0.87,
           2.51,
           -0.31,
           0.29,
           1.09,
           0.57,
           3.59,
           0.21,
           2.42,
           -3.43,
           0.67,
           2.47,
           0,
           -3.6200000000000006,
           -1.05,
           -1.69,
           0,
           0.7,
           -0.11000000000000001,
           -2.95,
           0.5,
           2.72,
           0,
           -2.23,
           -0.95,
           4.96,
           2.31,
           4.55,
           8.52,
           -0.17,
           0.26,
           0.18,
           0.63,
           2.15,
           -0.9500000000000001,
           -0.14,
           0.6799999999999999,
           -1.35,
           -1.07,
           0.66,
           -0.88,
           0,
           -1.85,
           -0.53,
           0.15,
           0.39,
           0.18,
           1.19,
           -2.92,
           -0.58,
           -2.94,
           -2.2,
           -2.14,
           -5.23,
           -1.86,
           0.11,
           -2.64,
           0,
           2.22,
           -1.2,
           -1.61,
           0,
           -0.41,
           5.66,
           -0.55,
           4.33,
           2.27,
           -0.48,
           -0.99,
           5.75,
           0,
           0.9099999999999999,
           0.25,
           -1.04,
           -0.45,
           -4.38,
           18,
           -0.1,
           1.82,
           0.11,
           0,
           0.98,
           -0.44,
           -0.73,
           1.05,
           -1.03,
           0,
           -3.5,
           -0.82,
           -2.95,
           -5.900000000000001,
           0,
           -0.21,
           -2.51,
           -0.99,
           1.29,
           -0.81,
           -7.049999999999999,
           0,
           0.65,
           0.68,
           -1.4199999999999997,
           4.18,
           -1.9299999999999997,
           -1.7999999999999998,
           6.36,
           3.59,
           1.34,
           0.37,
           11.01,
           -0.77,
           -3.07,
           1.67,
           0.19,
           -1.32,
           -5.52,
           -1.15,
           -2.77,
           6.340000000000001,
           3.87,
           1.15,
           -0.7999999999999999,
           0.87,
           4.12,
           0.85,
           0.46,
           1.39,
           0,
           -1.8700000000000003,
           0,
           15.43,
           -0.99,
           -2.5,
           -2.93,
           0.48,
           -0.31,
           -0.7,
           -0.65,
           1.88,
           -1.52,
           -3.1,
           -0.42,
           0.89,
           0.17,
           -1.75,
           3.63,
           -1.22,
           0.68,
           -2.6,
           -1.69,
           -2.5399999999999996,
           -0.71,
           -0.11,
           -0.78,
           -1.79,
           -0.4699999999999999,
           0.48,
           -0.93,
           -2.35,
           -0.96,
           1.41,
           -1.11,
           -1.84,
           -1.3,
           -5.41,
           -1.57,
           -1.05,
           0,
           -0.82,
           0,
           7.6,
           0,
           -6.36,
           0,
           1.22,
           11.27,
           0.89,
           -0.29,
           -0.95,
           -1.67,
           -1.39,
           1.44,
           -2.9900000000000007,
           6.31,
           -2.28,
           -3.3100000000000005,
           -0.25,
           -2.15,
           -2.18,
           -1.11,
           0.95,
           -1.4799999999999998,
           7.52,
           -1.31,
           -1.32,
           -2.79,
           -1.53,
           -1.64,
           -2.31,
           0.64,
           -0.6,
           -1.05,
           0.24,
           -0.86,
           0.36,
           0,
           -0.8900000000000001,
           -0.8599999999999999,
           0.87,
           1.32,
           2.84,
           0,
           0.17,
           -0.58,
           0.12,
           -1.18,
           0.39,
           1.84,
           3.12,
           -0.13,
           -3.79,
           -0.86,
           4.87,
           -0.91,
           -1.76,
           0.94,
           -4.21,
           -4.79,
           0.34,
           -1.9,
           -1.01,
           0.56,
           -1.05,
           -0.54,
           0.72,
           -2.23,
           3.84,
           13.89,
           2.57,
           0,
           2.32,
           9.78,
           2.81,
           -4.25,
           -1.37,
           0,
           -1.19,
           -0.3,
           -2.73,
           0,
           -0.46,
           -2.36,
           -1.33,
           0.56,
           2.6,
           -3.17,
           3.4299999999999997,
           -0.64,
           1.51,
           -1.23,
           5.92,
           0.35,
           0.72,
           -0.16,
           -0.39,
           -1.67,
           -0.73,
           -1.82,
           0.6,
           1.1300000000000001,
           -4.04,
           2.6,
           2.29,
           0,
           -1,
           0.74,
           -0.64,
           0.75,
           -2.06,
           0.7,
           0.14,
           -1.5,
           1.43,
           -3.08,
           1.03,
           0,
           1.18,
           6.06,
           -0.22,
           -0.29,
           1.43,
           0.79,
           2.81,
           -1.14,
           0.22,
           0.72,
           0.83,
           1.58,
           0.72,
           8.67,
           -1.33,
           -2.55,
           4.25,
           -5.01,
           0.37,
           -2.2,
           -9,
           0.8,
           6.36,
           -1.2,
           -3.48,
           -1.19,
           1.9599999999999997,
           -3.2699999999999996,
           3.67,
           -1.68,
           1.7,
           -3.43,
           -1.66,
           -0.74,
           -0.17,
           -2.6,
           0.29,
           0.71,
           13.11,
           0.83,
           -1.14,
           0.45,
           -1.24,
           -1.94,
           -0.94,
           -2.1,
           0.32,
           -1.15,
           0.12,
           0,
           -0.47,
           0.18,
           -0.25,
           9.45,
           -0.62,
           1.78,
           4.86,
           0.16,
           -0.51,
           -1,
           0,
           5.05,
           0.7200000000000001,
           -1.6899999999999997,
           0,
           0.25,
           0.37,
           -0.8300000000000001,
           -1.09,
           0.44,
           -1.6600000000000001,
           1.38,
           -1.22,
           -0.63,
           -0.85,
           -4.52,
           -3.27,
           -0.56,
           -1.7600000000000002,
           0.25,
           1.98,
           0.45000000000000007,
           -0.21,
           -0.11,
           -0.59,
           -0.32,
           0.25,
           8.71,
           0.85,
           0,
           -0.38,
           -1.29,
           -2.01,
           0,
           0,
           -0.12,
           -0.89,
           -0.25,
           -2.77,
           -1.12,
           2.55,
           -0.52,
           4.89,
           12.22,
           8.05,
           -0.75,
           -5.27,
           2.54,
           -0.19,
           -0.13,
           4.78,
           3.06,
           -2.2,
           -0.57,
           -0.28,
           -1.76,
           -3.2699999999999996,
           1.49,
           0.95,
           -3.23,
           1.95,
           -0.25,
           2.26,
           0.49,
           0.29,
           2.41,
           0.55,
           0.85,
           0.96,
           1.44,
           1.02,
           0.77,
           0,
           -0.17,
           -2.76,
           -0.21,
           1.1,
           -0.36,
           0,
           1.19,
           -4.46,
           3.39,
           4.38,
           0.44999999999999996,
           -2.53,
           1.9800000000000002,
           -2.31,
           0,
           14.75,
           0.35,
           3.06,
           -0.34,
           2.33,
           -0.63,
           -5.03,
           -0.66,
           8.87,
           3.18,
           1.48,
           -2.11,
           5.49,
           -2.16,
           -1.01,
           5.04,
           -5.67,
           0.55,
           -1.29,
           3.27,
           3.87,
           0.64,
           -0.54,
           1.23,
           -2.52,
           -6.27,
           0,
           6.85,
           2.29,
           26.43,
           -1.27,
           -1.68,
           1.9800000000000002,
           -1.13,
           -0.99,
           -2.09,
           -0.83,
           -0.85,
           4.16,
           -4.37,
           -1.28,
           2.39,
           1.27,
           0.31,
           0.53,
           -1.54,
           0.2,
           0.51,
           7.87,
           -1.84,
           9.95,
           0.28,
           -5.81,
           5.68,
           0,
           -0.28,
           -0.55,
           -1.05,
           -2.15,
           -1.36,
           1.45,
           -2.24,
           -2.94,
           3.1099999999999994,
           0.32,
           1.19,
           0.73,
           -0.69,
           -1.33,
           -1.25,
           -0.45,
           -0.42,
           0.41,
           -3.01,
           -0.75,
           -2.03,
           -1.84,
           -2.78,
           2.58,
           -0.59,
           -0.11,
           0.27,
           0.4,
           1.04,
           -1.89,
           -1.23,
           2.41,
           -6.07,
           -2.36,
           2.76,
           4.38,
           -7.45,
           -1.14,
           -0.18,
           4.34,
           -3.1,
           0.73,
           -1.5,
           -0.1,
           0.63,
           -1.25,
           4.66,
           0.29,
           2.28,
           -1.58,
           -1.14,
           -0.37,
           2.56,
           -1.33,
           -1.07,
           1.32,
           2.2,
           -0.85,
           1.79,
           -0.83,
           -1.45,
           -1.58,
           2.67,
           2.04,
           11.29,
           2.3,
           0.18,
           1.17,
           12.120000000000001,
           -0.32,
           0.55,
           -1.34,
           -1.54,
           1.94,
           -0.89,
           -4.56,
           -3.17,
           -2.34,
           0,
           -5.19,
           -5.23,
           -0.3400000000000001,
           -3.45,
           0.9900000000000001,
           0.12,
           -0.89,
           -0.96,
           -1.67,
           -4.52,
           -2.73,
           -0.9,
           -3.05,
           -1.84,
           3.1000000000000005,
           0.82,
           -1.4000000000000001,
           -1.54,
           -0.61,
           1.12,
           -2.11,
           -2.3,
           -3.76,
           -2.72,
           -1.66,
           -2.84,
           -2.67,
           0,
           -1.87,
           -2.33,
           0.12,
           -1.89,
           -0.37,
           -1.51,
           3.04,
           0,
           1.14,
           -1.3,
           3.42,
           -2.76,
           -0.38,
           0,
           -1.67,
           0.11000000000000001,
           1.45,
           2.35,
           3.86,
           10.98,
           0.17,
           2.8800000000000003,
           -2.6,
           -1.72,
           2.22,
           0.12,
           1.26,
           -0.21,
           -3.0699999999999994,
           0,
           -1.1064705627798672,
           0.35913801751572144,
           -1.6672864610567764,
           1.1657849306271917,
           -0.5099315167733611,
           1.1699277803961616,
           -0.8269159566806678,
           -1.28778519738929,
           -1.3184490182992095,
           0.55,
           0.513966660279298,
           -2.4266790236167033,
           0.8766464461420597,
           0.37,
           -1.0524122322091511,
           0.900967649911643,
           -1.116018931776444,
           -1.9228261146358467,
           -0.19485398180985472,
           3.4375012141913057,
           -0.95,
           0.9952800473551746,
           2.5708737230827086,
           1.1851274868583812,
           -1.2592927140382617,
           0.45,
           2.9696342488752316,
           0.1562551495770861,
           -0.6238909923797566,
           6.483661055817169,
           -0.3197414835442542,
           0.10925637383806913,
           1.2891830001830822,
           2.29,
           -0.25683367760001197,
           -0.29721931263433105,
           2.090184843903234,
           2.3679502362455915,
           1.688708889093416,
           -1.771546985335471,
           -0.7006647008850883,
           4.204695154548305,
           1.607963222923065,
           -0.879172965474074,
           -1.479646255577303,
           3.753960105571013,
           -0.8749110468543391,
           -3.175295653640844,
           1.875173742780832,
           -0.7545886066666467,
           -0.28762157287483914,
           0.39076879424790045,
           1.9872767737580737,
           0.7729390596209833,
           -0.8754297709294163,
           -0.95,
           1.1699277803961616,
           -1.4118076534846886,
           -0.6238909923797566,
           -0.10639617421406565,
           -0.19485398180985472,
           1.432470760481741,
           1.411918509594986,
           2.9696342488752316,
           -0.04997089708855885,
           -0.7006647008850883,
           1.4688356860412766,
           1.9264750865694793,
           -0.07749959723825968,
           0.55,
           -0.08932095922530678
          ],
          "line": {
           "width": 0.2
          }
         },
         "maxdepth": 5,
         "name": "",
         "parents": [
          "KOSPI/사업시설 관리, 사업 지원 및 임대 서비스업/임대업",
          "KOSPI/금융 및 보험업/금융업",
          "KOSPI/금융 및 보험업/금융업",
          "KOSPI/도매 및 소매업/소매업",
          "KOSPI/금융 및 보험업/금융업",
          "KOSPI/제조업/의복, 의복 액세서리 및 모피제품 제조업",
          "KOSPI/금융 및 보험업/금융업",
          "KOSPI/정보통신업/영상ㆍ오디오 기록물 제작 및 배급업",
          "KOSPI/운수 및 창고업/육상 운송 및 파이프라인 운송업",
          "KOSPI/제조업/식료품 제조업",
          "KOSPI/제조업/식료품 제조업",
          "KOSPI/금융 및 보험업/금융업",
          "KOSPI/정보통신업/컴퓨터 프로그래밍, 시스템 통합 및 관리업",
          "KOSPI/금융 및 보험업/금융 및 보험관련 서비스업",
          "KOSPI/금융 및 보험업/보험 및 연금업",
          "KOSPI/제조업/전자 부품, 컴퓨터, 영상, 음향 및 통신장비 제조업",
          "KOSPI/금융 및 보험업/금융업",
          "KOSPI/도매 및 소매업/도매 및 상품 중개업",
          "KOSPI/금융 및 보험업/금융업",
          "KOSPI/제조업/1차 금속 제조업",
          "KOSPI/제조업/1차 금속 제조업",
          "KOSPI/도매 및 소매업/도매 및 상품 중개업",
          "KOSPI/부동산업/부동산업",
          "KOSPI/제조업/의복, 의복 액세서리 및 모피제품 제조업",
          "KOSPI/예술, 스포츠 및 여가관련 서비스업/스포츠 및 오락관련 서비스업",
          "KOSPI/건설업/종합 건설업",
          "KOSPI/도매 및 소매업/도매 및 상품 중개업",
          "KOSPI/도매 및 소매업/소매업",
          "KOSPI/금융 및 보험업/금융업",
          "KOSPI/건설업/전문직별 공사업",
          "KOSPI/제조업/화학 물질 및 화학제품 제조업",
          "KOSPI/건설업/종합 건설업",
          "KOSPI/운수 및 창고업/수상 운송업",
          "KOSPI/제조업/기타 기계 및 장비 제조업",
          "KOSPI/정보통신업/영상ㆍ오디오 기록물 제작 및 배급업",
          "KOSPI/금융 및 보험업/금융업",
          "KOSPI/제조업/의료용 물질 및 의약품 제조업",
          "KOSPI/제조업/의료용 물질 및 의약품 제조업",
          "KOSPI/금융 및 보험업/금융업",
          "KOSPI/금융 및 보험업/금융업",
          "KOSPI/제조업/화학 물질 및 화학제품 제조업",
          "KOSPI/운수 및 창고업/육상 운송 및 파이프라인 운송업",
          "KOSPI/금융 및 보험업/금융업",
          "KOSPI/제조업/기타 기계 및 장비 제조업",
          "KOSPI/제조업/전자 부품, 컴퓨터, 영상, 음향 및 통신장비 제조업",
          "KOSPI/제조업/1차 금속 제조업",
          "KOSPI/제조업/화학 물질 및 화학제품 제조업",
          "KOSPI/제조업/1차 금속 제조업",
          "KOSPI/제조업/화학 물질 및 화학제품 제조업",
          "KOSPI/제조업/화학 물질 및 화학제품 제조업",
          "KOSPI/제조업/기타 운송장비 제조업",
          "KOSPI/정보통신업/우편 및 통신업",
          "KOSPI/제조업/담배 제조업",
          "KOSPI/금융 및 보험업/금융 및 보험관련 서비스업",
          "KOSPI/정보통신업/정보서비스업",
          "KOSPI/정보통신업/정보서비스업",
          "KOSPI/제조업/의복, 의복 액세서리 및 모피제품 제조업",
          "KOSPI/금융 및 보험업/금융업",
          "KOSPI/제조업/전자 부품, 컴퓨터, 영상, 음향 및 통신장비 제조업",
          "KOSPI/도매 및 소매업/도매 및 상품 중개업",
          "KOSPI/제조업/화학 물질 및 화학제품 제조업",
          "KOSPI/정보통신업/우편 및 통신업",
          "KOSPI/제조업/전자 부품, 컴퓨터, 영상, 음향 및 통신장비 제조업",
          "KOSPI/제조업/전자 부품, 컴퓨터, 영상, 음향 및 통신장비 제조업",
          "KOSPI/제조업/고무 및 플라스틱제품 제조업",
          "KOSPI/정보통신업/방송업",
          "KOSPI/제조업/화학 물질 및 화학제품 제조업",
          "KOSPI/제조업/금속 가공제품 제조업",
          "KOSPI/금융 및 보험업/금융업",
          "KOSPI/제조업/전기장비 제조업",
          "KOSPI/도매 및 소매업/도매 및 상품 중개업",
          "KOSPI/제조업/음료 제조업",
          "KOSPI/정보통신업/정보서비스업",
          "KOSPI/정보통신업/출판업",
          "KOSPI/금융 및 보험업/금융 및 보험관련 서비스업",
          "KOSPI/부동산업/부동산업",
          "KOSPI/전문, 과학 및 기술 서비스업/전문 서비스업",
          "KOSPI/제조업/1차 금속 제조업",
          "KOSPI/제조업/고무 및 플라스틱제품 제조업",
          "KOSPI/제조업/화학 물질 및 화학제품 제조업",
          "KOSPI/제조업/1차 금속 제조업",
          "KOSPI/제조업/기타 기계 및 장비 제조업",
          "KOSPI/제조업/자동차 및 트레일러 제조업",
          "KOSPI/제조업/자동차 및 트레일러 제조업",
          "KOSPI/금융 및 보험업/금융업",
          "KOSPI/제조업/코크스, 연탄 및 석유정제품 제조업",
          "KOSPI/정보통신업/방송업",
          "KOSPI/정보통신업/방송업",
          "KOSPI/전기, 가스, 증기 및 공기 조절 공급업/전기, 가스, 증기 및 공기 조절 공급업",
          "KOSPI/도매 및 소매업/도매 및 상품 중개업",
          "KOSPI/제조업/자동차 및 트레일러 제조업",
          "KOSPI/제조업/화학 물질 및 화학제품 제조업",
          "KOSPI/제조업/기타 기계 및 장비 제조업",
          "KOSPI/도매 및 소매업/자동차 및 부품 판매업",
          "KOSPI/금융 및 보험업/금융업",
          "KOSPI/제조업/화학 물질 및 화학제품 제조업",
          "KOSPI/도매 및 소매업/도매 및 상품 중개업",
          "KOSPI/도매 및 소매업/도매 및 상품 중개업",
          "KOSPI/금융 및 보험업/금융업",
          "KOSPI/부동산업/부동산업",
          "KOSPI/사업시설 관리, 사업 지원 및 임대 서비스업/임대업",
          "KOSPI/제조업/코크스, 연탄 및 석유정제품 제조업",
          "KOSPI/금융 및 보험업/금융 및 보험관련 서비스업",
          "KOSPI/제조업/화학 물질 및 화학제품 제조업",
          "KOSPI/정보통신업/우편 및 통신업",
          "KOSPI/제조업/전자 부품, 컴퓨터, 영상, 음향 및 통신장비 제조업",
          "KOSPI/제조업/식료품 제조업",
          "KOSPI/도매 및 소매업/도매 및 상품 중개업",
          "KOSPI/제조업/기타 기계 및 장비 제조업",
          "KOSPI/제조업/기타 기계 및 장비 제조업",
          "KOSPI/제조업/1차 금속 제조업",
          "KOSPI/제조업/고무 및 플라스틱제품 제조업",
          "KOSPI/정보통신업/정보서비스업",
          "KOSPI/제조업/전기장비 제조업",
          "KOSPI/제조업/화학 물질 및 화학제품 제조업",
          "KOSPI/예술, 스포츠 및 여가관련 서비스업/스포츠 및 오락관련 서비스업",
          "KOSPI/예술, 스포츠 및 여가관련 서비스업/스포츠 및 오락관련 서비스업",
          "KOSPI/제조업/화학 물질 및 화학제품 제조업",
          "KOSPI/제조업/전기장비 제조업",
          "KOSPI/전기, 가스, 증기 및 공기 조절 공급업/전기, 가스, 증기 및 공기 조절 공급업",
          "KOSPI/금융 및 보험업/금융업",
          "KOSPI/도매 및 소매업/소매업",
          "KOSPI/제조업/의료용 물질 및 의약품 제조업",
          "KOSPI/제조업/화학 물질 및 화학제품 제조업",
          "KOSPI/제조업/전자 부품, 컴퓨터, 영상, 음향 및 통신장비 제조업",
          "KOSPI/건설업/종합 건설업",
          "KOSPI/제조업/기타 기계 및 장비 제조업",
          "KOSPI/제조업/식료품 제조업",
          "KOSPI/제조업/1차 금속 제조업",
          "KOSPI/제조업/1차 금속 제조업",
          "KOSPI/제조업/의료용 물질 및 의약품 제조업",
          "KOSPI/제조업/전기장비 제조업",
          "KOSPI/제조업/전자 부품, 컴퓨터, 영상, 음향 및 통신장비 제조업",
          "KOSPI/도매 및 소매업/소매업",
          "KOSPI/금융 및 보험업/금융 및 보험관련 서비스업",
          "KOSPI/도매 및 소매업/도매 및 상품 중개업",
          "KOSPI/제조업/화학 물질 및 화학제품 제조업",
          "KOSPI/도매 및 소매업/도매 및 상품 중개업",
          "KOSPI/운수 및 창고업/육상 운송 및 파이프라인 운송업",
          "KOSPI/제조업/의료용 물질 및 의약품 제조업",
          "KOSPI/제조업/화학 물질 및 화학제품 제조업",
          "KOSPI/제조업/코크스, 연탄 및 석유정제품 제조업",
          "KOSPI/제조업/1차 금속 제조업",
          "KOSPI/제조업/비금속 광물제품 제조업",
          "KOSPI/제조업/화학 물질 및 화학제품 제조업",
          "KOSPI/건설업/종합 건설업",
          "KOSPI/제조업/화학 물질 및 화학제품 제조업",
          "KOSPI/제조업/자동차 및 트레일러 제조업",
          "KOSPI/제조업/전기장비 제조업",
          "KOSPI/제조업/고무 및 플라스틱제품 제조업",
          "KOSPI/제조업/기타 기계 및 장비 제조업",
          "KOSPI/제조업/자동차 및 트레일러 제조업",
          "KOSPI/금융 및 보험업/금융업",
          "KOSPI/건설업/종합 건설업",
          "KOSPI/제조업/펄프, 종이 및 종이제품 제조업",
          "KOSPI/건설업/종합 건설업",
          "KOSPI/제조업/1차 금속 제조업",
          "KOSPI/도매 및 소매업/도매 및 상품 중개업",
          "KOSPI/제조업/식료품 제조업",
          "KOSPI/제조업/화학 물질 및 화학제품 제조업",
          "KOSPI/제조업/고무 및 플라스틱제품 제조업",
          "KOSPI/제조업/고무 및 플라스틱제품 제조업",
          "KOSPI/광업/비금속광물 광업",
          "KOSPI/정보통신업/출판업",
          "KOSPI/금융 및 보험업/금융업",
          "KOSPI/제조업/의료용 물질 및 의약품 제조업",
          "KOSPI/전문, 과학 및 기술 서비스업/전문 서비스업",
          "KOSPI/제조업/식료품 제조업",
          "KOSPI/금융 및 보험업/금융업",
          "KOSPI/제조업/금속 가공제품 제조업",
          "KOSPI/정보통신업/정보서비스업",
          "KOSPI/교육 서비스업/교육 서비스업",
          "KOSPI/도매 및 소매업/소매업",
          "KOSPI/금융 및 보험업/금융업",
          "KOSPI/제조업/전자 부품, 컴퓨터, 영상, 음향 및 통신장비 제조업",
          "KOSPI/제조업/기타 기계 및 장비 제조업",
          "KOSPI/제조업/전자 부품, 컴퓨터, 영상, 음향 및 통신장비 제조업",
          "KOSPI/제조업/비금속 광물제품 제조업",
          "KOSPI/건설업/종합 건설업",
          "KOSPI/건설업/종합 건설업",
          "KOSPI/제조업/금속 가공제품 제조업",
          "KOSPI/제조업/식료품 제조업",
          "KOSPI/도매 및 소매업/소매업",
          "KOSPI/전기, 가스, 증기 및 공기 조절 공급업/전기, 가스, 증기 및 공기 조절 공급업",
          "KOSPI/전문, 과학 및 기술 서비스업/전문 서비스업",
          "KOSPI/금융 및 보험업/금융 및 보험관련 서비스업",
          "KOSPI/제조업/1차 금속 제조업",
          "KOSPI/제조업/펄프, 종이 및 종이제품 제조업",
          "KOSPI/건설업/종합 건설업",
          "KOSPI/제조업/자동차 및 트레일러 제조업",
          "KOSPI/제조업/기타 운송장비 제조업",
          "KOSPI/금융 및 보험업/금융업",
          "KOSPI/제조업/의료용 물질 및 의약품 제조업",
          "KOSPI/제조업/자동차 및 트레일러 제조업",
          "KOSPI/제조업/전기장비 제조업",
          "KOSPI/제조업/의료용 물질 및 의약품 제조업",
          "KOSPI/제조업/고무 및 플라스틱제품 제조업",
          "KOSPI/제조업/자동차 및 트레일러 제조업",
          "KOSPI/제조업/전자 부품, 컴퓨터, 영상, 음향 및 통신장비 제조업",
          "KOSPI/제조업/1차 금속 제조업",
          "KOSPI/제조업/자동차 및 트레일러 제조업",
          "KOSPI/제조업/섬유제품 제조업",
          "KOSPI/제조업/화학 물질 및 화학제품 제조업",
          "KOSPI/제조업/전기장비 제조업",
          "KOSPI/제조업/1차 금속 제조업",
          "KOSPI/제조업/식료품 제조업",
          "KOSPI/제조업/식료품 제조업",
          "KOSPI/운수 및 창고업/항공 운송업",
          "KOSPI/운수 및 창고업/수상 운송업",
          "KOSPI/제조업/화학 물질 및 화학제품 제조업",
          "KOSPI/제조업/의복, 의복 액세서리 및 모피제품 제조업",
          "KOSPI/제조업/1차 금속 제조업",
          "KOSPI/정보통신업/컴퓨터 프로그래밍, 시스템 통합 및 관리업",
          "KOSPI/제조업/고무 및 플라스틱제품 제조업",
          "KOSPI/제조업/자동차 및 트레일러 제조업",
          "KOSPI/제조업/의료, 정밀, 광학 기기 및 시계 제조업",
          "KOSPI/전문, 과학 및 기술 서비스업/건축 기술, 엔지니어링 및 기타 과학기술 서비스업",
          "KOSPI/제조업/1차 금속 제조업",
          "KOSPI/제조업/화학 물질 및 화학제품 제조업",
          "KOSPI/운수 및 창고업/창고 및 운송관련 서비스업",
          "KOSPI/제조업/화학 물질 및 화학제품 제조업",
          "KOSPI/건설업/종합 건설업",
          "KOSPI/도매 및 소매업/도매 및 상품 중개업",
          "KOSPI/제조업/의료용 물질 및 의약품 제조업",
          "KOSPI/제조업/화학 물질 및 화학제품 제조업",
          "KOSPI/금융 및 보험업/금융업",
          "KOSPI/제조업/의료용 물질 및 의약품 제조업",
          "KOSPI/건설업/전문직별 공사업",
          "KOSPI/제조업/고무 및 플라스틱제품 제조업",
          "KOSPI/제조업/비금속 광물제품 제조업",
          "KOSPI/운수 및 창고업/육상 운송 및 파이프라인 운송업",
          "KOSPI/제조업/기타 기계 및 장비 제조업",
          "KOSPI/금융 및 보험업/보험 및 연금업",
          "KOSPI/제조업/1차 금속 제조업",
          "KOSPI/제조업/식료품 제조업",
          "KOSPI/제조업/자동차 및 트레일러 제조업",
          "KOSPI/농업, 임업 및 어업/어업",
          "KOSPI/농업, 임업 및 어업/어업",
          "KOSPI/제조업/고무 및 플라스틱제품 제조업",
          "KOSPI/제조업/고무 및 플라스틱제품 제조업",
          "KOSPI/제조업/1차 금속 제조업",
          "KOSPI/제조업/1차 금속 제조업",
          "KOSPI/제조업/의료용 물질 및 의약품 제조업",
          "KOSPI/전문, 과학 및 기술 서비스업/전문 서비스업",
          "KOSPI/제조업/기타 기계 및 장비 제조업",
          "KOSPI/제조업/기타 기계 및 장비 제조업",
          "KOSPI/제조업/기타 기계 및 장비 제조업",
          "KOSPI/제조업/전기장비 제조업",
          "KOSPI/제조업/자동차 및 트레일러 제조업",
          "KOSPI/제조업/전자 부품, 컴퓨터, 영상, 음향 및 통신장비 제조업",
          "KOSPI/제조업/1차 금속 제조업",
          "KOSPI/제조업/의료, 정밀, 광학 기기 및 시계 제조업",
          "KOSPI/제조업/자동차 및 트레일러 제조업",
          "KOSPI/금융 및 보험업/금융업",
          "KOSPI/제조업/기타 기계 및 장비 제조업",
          "KOSPI/제조업/전기장비 제조업",
          "KOSPI/제조업/전기장비 제조업",
          "KOSPI/사업시설 관리, 사업 지원 및 임대 서비스업/사업 지원 서비스업",
          "KOSPI/부동산업/부동산업",
          "KOSPI/금융 및 보험업/보험 및 연금업",
          "KOSPI/도매 및 소매업/소매업",
          "KOSPI/제조업/화학 물질 및 화학제품 제조업",
          "KOSPI/정보통신업/컴퓨터 프로그래밍, 시스템 통합 및 관리업",
          "KOSPI/제조업/식료품 제조업",
          "KOSPI/금융 및 보험업/금융업",
          "KOSPI/제조업/음료 제조업",
          "KOSPI/제조업/화학 물질 및 화학제품 제조업",
          "KOSPI/제조업/식료품 제조업",
          "KOSPI/도매 및 소매업/소매업",
          "KOSPI/제조업/식료품 제조업",
          "KOSPI/제조업/자동차 및 트레일러 제조업",
          "KOSPI/제조업/1차 금속 제조업",
          "KOSPI/금융 및 보험업/금융업",
          "KOSPI/금융 및 보험업/금융업",
          "KOSPI/금융 및 보험업/금융 및 보험관련 서비스업",
          "KOSPI/금융 및 보험업/보험 및 연금업",
          "KOSPI/제조업/의복, 의복 액세서리 및 모피제품 제조업",
          "KOSPI/제조업/의료용 물질 및 의약품 제조업",
          "KOSPI/제조업/자동차 및 트레일러 제조업",
          "KOSPI/제조업/펄프, 종이 및 종이제품 제조업",
          "KOSPI/도매 및 소매업/도매 및 상품 중개업",
          "KOSPI/부동산업/부동산업",
          "KOSPI/제조업/자동차 및 트레일러 제조업",
          "KOSPI/제조업/펄프, 종이 및 종이제품 제조업",
          "KOSPI/제조업/펄프, 종이 및 종이제품 제조업",
          "KOSPI/제조업/음료 제조업",
          "KOSPI/제조업/1차 금속 제조업",
          "KOSPI/제조업/의료, 정밀, 광학 기기 및 시계 제조업",
          "KOSPI/정보통신업/컴퓨터 프로그래밍, 시스템 통합 및 관리업",
          "KOSPI/금융 및 보험업/금융 및 보험관련 서비스업",
          "KOSPI/부동산업/부동산업",
          "KOSPI/금융 및 보험업/보험 및 연금업",
          "KOSPI/제조업/화학 물질 및 화학제품 제조업",
          "KOSPI/제조업/화학 물질 및 화학제품 제조업",
          "KOSPI/제조업/화학 물질 및 화학제품 제조업",
          "KOSPI/제조업/코크스, 연탄 및 석유정제품 제조업",
          "KOSPI/제조업/섬유제품 제조업",
          "KOSPI/제조업/화학 물질 및 화학제품 제조업",
          "KOSPI/제조업/고무 및 플라스틱제품 제조업",
          "KOSPI/건설업/종합 건설업",
          "KOSPI/제조업/비금속 광물제품 제조업",
          "KOSPI/제조업/화학 물질 및 화학제품 제조업",
          "KOSPI/제조업/의료용 물질 및 의약품 제조업",
          "KOSPI/제조업/음료 제조업",
          "KOSPI/제조업/의료용 물질 및 의약품 제조업",
          "KOSPI/금융 및 보험업/금융 및 보험관련 서비스업",
          "KOSPI/제조업/1차 금속 제조업",
          "KOSPI/전기, 가스, 증기 및 공기 조절 공급업/전기, 가스, 증기 및 공기 조절 공급업",
          "KOSPI/제조업/비금속 광물제품 제조업",
          "KOSPI/제조업/자동차 및 트레일러 제조업",
          "KOSPI/제조업/의복, 의복 액세서리 및 모피제품 제조업",
          "KOSPI/정보통신업/출판업",
          "KOSPI/정보통신업/컴퓨터 프로그래밍, 시스템 통합 및 관리업",
          "KOSPI/정보통신업/영상ㆍ오디오 기록물 제작 및 배급업",
          "KOSPI/제조업/식료품 제조업",
          "KOSPI/제조업/식료품 제조업",
          "KOSPI/제조업/식료품 제조업",
          "KOSPI/농업, 임업 및 어업/어업",
          "KOSPI/제조업/식료품 제조업",
          "KOSPI/제조업/식료품 제조업",
          "KOSPI/건설업/종합 건설업",
          "KOSPI/제조업/전기장비 제조업",
          "KOSPI/제조업/자동차 및 트레일러 제조업",
          "KOSPI/도매 및 소매업/도매 및 상품 중개업",
          "KOSPI/제조업/의료용 물질 및 의약품 제조업",
          "KOSPI/금융 및 보험업/보험 및 연금업",
          "KOSPI/정보통신업/컴퓨터 프로그래밍, 시스템 통합 및 관리업",
          "KOSPI/전문, 과학 및 기술 서비스업/건축 기술, 엔지니어링 및 기타 과학기술 서비스업",
          "KOSPI/제조업/전자 부품, 컴퓨터, 영상, 음향 및 통신장비 제조업",
          "KOSPI/제조업/전자 부품, 컴퓨터, 영상, 음향 및 통신장비 제조업",
          "KOSPI/제조업/의료용 물질 및 의약품 제조업",
          "KOSPI/제조업/기타 운송장비 제조업",
          "KOSPI/금융 및 보험업/금융 및 보험관련 서비스업",
          "KOSPI/정보통신업/출판업",
          "KOSPI/금융 및 보험업/금융업",
          "KOSPI/금융 및 보험업/보험 및 연금업",
          "KOSPI/제조업/1차 금속 제조업",
          "KOSPI/제조업/식료품 제조업",
          "KOSPI/제조업/식료품 제조업",
          "KOSPI/제조업/가죽, 가방 및 신발 제조업",
          "KOSPI/제조업/고무 및 플라스틱제품 제조업",
          "KOSPI/금융 및 보험업/금융업",
          "KOSPI/도매 및 소매업/도매 및 상품 중개업",
          "KOSPI/제조업/전자 부품, 컴퓨터, 영상, 음향 및 통신장비 제조업",
          "KOSPI/제조업/고무 및 플라스틱제품 제조업",
          "KOSPI/제조업/자동차 및 트레일러 제조업",
          "KOSPI/제조업/기타 기계 및 장비 제조업",
          "KOSPI/제조업/기타 제품 제조업",
          "KOSPI/제조업/비금속 광물제품 제조업",
          "KOSPI/제조업/의료용 물질 및 의약품 제조업",
          "KOSPI/제조업/펄프, 종이 및 종이제품 제조업",
          "KOSPI/제조업/의료용 물질 및 의약품 제조업",
          "KOSPI/전기, 가스, 증기 및 공기 조절 공급업/전기, 가스, 증기 및 공기 조절 공급업",
          "KOSPI/건설업/전문직별 공사업",
          "KOSPI/제조업/금속 가공제품 제조업",
          "KOSPI/제조업/전자 부품, 컴퓨터, 영상, 음향 및 통신장비 제조업",
          "KOSPI/제조업/전자 부품, 컴퓨터, 영상, 음향 및 통신장비 제조업",
          "KOSPI/제조업/전자 부품, 컴퓨터, 영상, 음향 및 통신장비 제조업",
          "KOSPI/제조업/화학 물질 및 화학제품 제조업",
          "KOSPI/금융 및 보험업/금융 및 보험관련 서비스업",
          "KOSPI/제조업/자동차 및 트레일러 제조업",
          "KOSPI/제조업/자동차 및 트레일러 제조업",
          "KOSPI/금융 및 보험업/금융업",
          "KOSPI/제조업/식료품 제조업",
          "KOSPI/금융 및 보험업/금융업",
          "KOSPI/제조업/자동차 및 트레일러 제조업",
          "KOSPI/전기, 가스, 증기 및 공기 조절 공급업/전기, 가스, 증기 및 공기 조절 공급업",
          "KOSPI/제조업/식료품 제조업",
          "KOSPI/제조업/1차 금속 제조업",
          "KOSPI/제조업/화학 물질 및 화학제품 제조업",
          "KOSPI/제조업/전기장비 제조업",
          "KOSPI/제조업/목재 및 나무제품 제조업",
          "KOSPI/제조업/전자 부품, 컴퓨터, 영상, 음향 및 통신장비 제조업",
          "KOSPI/제조업/화학 물질 및 화학제품 제조업",
          "KOSPI/제조업/비금속 광물제품 제조업",
          "KOSPI/제조업/섬유제품 제조업",
          "KOSPI/전문, 과학 및 기술 서비스업/전문 서비스업",
          "KOSPI/정보통신업/영상ㆍ오디오 기록물 제작 및 배급업",
          "KOSPI/운수 및 창고업/육상 운송 및 파이프라인 운송업",
          "KOSPI/제조업/전기장비 제조업",
          "KOSPI/제조업/1차 금속 제조업",
          "KOSPI/제조업/1차 금속 제조업",
          "KOSPI/금융 및 보험업/금융업",
          "KOSPI/제조업/1차 금속 제조업",
          "KOSPI/제조업/1차 금속 제조업",
          "KOSPI/도매 및 소매업/도매 및 상품 중개업",
          "KOSPI/제조업/금속 가공제품 제조업",
          "KOSPI/제조업/자동차 및 트레일러 제조업",
          "KOSPI/도매 및 소매업/소매업",
          "KOSPI/제조업/자동차 및 트레일러 제조업",
          "KOSPI/제조업/기타 운송장비 제조업",
          "KOSPI/제조업/펄프, 종이 및 종이제품 제조업",
          "KOSPI/제조업/기타 기계 및 장비 제조업",
          "KOSPI/제조업/자동차 및 트레일러 제조업",
          "KOSPI/제조업/기타 기계 및 장비 제조업",
          "KOSPI/제조업/의료용 물질 및 의약품 제조업",
          "KOSPI/제조업/전자 부품, 컴퓨터, 영상, 음향 및 통신장비 제조업",
          "KOSPI/제조업/화학 물질 및 화학제품 제조업",
          "KOSPI/제조업/기타 기계 및 장비 제조업",
          "KOSPI/정보통신업/방송업",
          "KOSPI/제조업/가구 제조업",
          "KOSPI/제조업/펄프, 종이 및 종이제품 제조업",
          "KOSPI/제조업/전자 부품, 컴퓨터, 영상, 음향 및 통신장비 제조업",
          "KOSPI/농업, 임업 및 어업/어업",
          "KOSPI/제조업/전자 부품, 컴퓨터, 영상, 음향 및 통신장비 제조업",
          "KOSPI/도매 및 소매업/도매 및 상품 중개업",
          "KOSPI/도매 및 소매업/소매업",
          "KOSPI/정보통신업/컴퓨터 프로그래밍, 시스템 통합 및 관리업",
          "KOSPI/건설업/종합 건설업",
          "KOSPI/도매 및 소매업/소매업",
          "KOSPI/숙박 및 음식점업/음식점 및 주점업",
          "KOSPI/도매 및 소매업/도매 및 상품 중개업",
          "KOSPI/제조업/의복, 의복 액세서리 및 모피제품 제조업",
          "KOSPI/금융 및 보험업/금융 및 보험관련 서비스업",
          "KOSPI/제조업/의복, 의복 액세서리 및 모피제품 제조업",
          "KOSPI/도매 및 소매업/도매 및 상품 중개업",
          "KOSPI/제조업/의료용 물질 및 의약품 제조업",
          "KOSPI/제조업/펄프, 종이 및 종이제품 제조업",
          "KOSPI/부동산업/부동산업",
          "KOSPI/금융 및 보험업/금융업",
          "KOSPI/제조업/1차 금속 제조업",
          "KOSPI/도매 및 소매업/도매 및 상품 중개업",
          "KOSPI/제조업/비금속 광물제품 제조업",
          "KOSPI/제조업/자동차 및 트레일러 제조업",
          "KOSPI/제조업/전자 부품, 컴퓨터, 영상, 음향 및 통신장비 제조업",
          "KOSPI/사업시설 관리, 사업 지원 및 임대 서비스업/사업 지원 서비스업",
          "KOSPI/제조업/기타 제품 제조업",
          "KOSPI/제조업/금속 가공제품 제조업",
          "KOSPI/제조업/전자 부품, 컴퓨터, 영상, 음향 및 통신장비 제조업",
          "KOSPI/제조업/화학 물질 및 화학제품 제조업",
          "KOSPI/제조업/화학 물질 및 화학제품 제조업",
          "KOSPI/전문, 과학 및 기술 서비스업/전문 서비스업",
          "KOSPI/제조업/비금속 광물제품 제조업",
          "KOSPI/제조업/펄프, 종이 및 종이제품 제조업",
          "KOSPI/정보통신업/컴퓨터 프로그래밍, 시스템 통합 및 관리업",
          "KOSPI/운수 및 창고업/항공 운송업",
          "KOSPI/도매 및 소매업/도매 및 상품 중개업",
          "KOSPI/제조업/비금속 광물제품 제조업",
          "KOSPI/금융 및 보험업/금융업",
          "KOSPI/제조업/1차 금속 제조업",
          "KOSPI/제조업/화학 물질 및 화학제품 제조업",
          "KOSPI/제조업/가구 제조업",
          "KOSPI/제조업/자동차 및 트레일러 제조업",
          "KOSPI/사업시설 관리, 사업 지원 및 임대 서비스업/사업 지원 서비스업",
          "KOSPI/건설업/종합 건설업",
          "KOSPI/운수 및 창고업/항공 운송업",
          "KOSPI/제조업/화학 물질 및 화학제품 제조업",
          "KOSPI/제조업/전자 부품, 컴퓨터, 영상, 음향 및 통신장비 제조업",
          "KOSPI/제조업/금속 가공제품 제조업",
          "KOSPI/제조업/의료용 물질 및 의약품 제조업",
          "KOSPI/정보통신업/출판업",
          "KOSPI/도매 및 소매업/소매업",
          "KOSPI/제조업/금속 가공제품 제조업",
          "KOSPI/도매 및 소매업/도매 및 상품 중개업",
          "KOSPI/도매 및 소매업/자동차 및 부품 판매업",
          "KOSPI/제조업/고무 및 플라스틱제품 제조업",
          "KOSPI/제조업/의료용 물질 및 의약품 제조업",
          "KOSPI/제조업/1차 금속 제조업",
          "KOSPI/제조업/펄프, 종이 및 종이제품 제조업",
          "KOSPI/제조업/자동차 및 트레일러 제조업",
          "KOSPI/금융 및 보험업/금융업",
          "KOSPI/제조업/식료품 제조업",
          "KOSPI/제조업/의료용 물질 및 의약품 제조업",
          "KOSPI/제조업/식료품 제조업",
          "KOSPI/금융 및 보험업/금융업",
          "KOSPI/숙박 및 음식점업/숙박업",
          "KOSPI/금융 및 보험업/금융업",
          "KOSPI/제조업/의료용 물질 및 의약품 제조업",
          "KOSPI/금융 및 보험업/금융업",
          "KOSPI/제조업/식료품 제조업",
          "KOSPI/제조업/기타 기계 및 장비 제조업",
          "KOSPI/제조업/의료, 정밀, 광학 기기 및 시계 제조업",
          "KOSPI/건설업/전문직별 공사업",
          "KOSPI/제조업/기타 기계 및 장비 제조업",
          "KOSPI/금융 및 보험업/금융업",
          "KOSPI/교육 서비스업/교육 서비스업",
          "KOSPI/제조업/섬유제품 제조업",
          "KOSPI/도매 및 소매업/도매 및 상품 중개업",
          "KOSPI/도매 및 소매업/도매 및 상품 중개업",
          "KOSPI/제조업/의료용 물질 및 의약품 제조업",
          "KOSPI/제조업/화학 물질 및 화학제품 제조업",
          "KOSPI/제조업/비금속 광물제품 제조업",
          "KOSPI/제조업/비금속 광물제품 제조업",
          "KOSPI/제조업/가죽, 가방 및 신발 제조업",
          "KOSPI/도매 및 소매업/도매 및 상품 중개업",
          "KOSPI/제조업/자동차 및 트레일러 제조업",
          "KOSPI/전문, 과학 및 기술 서비스업/전문 서비스업",
          "KOSPI/금융 및 보험업/금융 및 보험관련 서비스업",
          "KOSPI/제조업/전자 부품, 컴퓨터, 영상, 음향 및 통신장비 제조업",
          "KOSPI/정보통신업/정보서비스업",
          "KOSPI/제조업/의료용 물질 및 의약품 제조업",
          "KOSPI/금융 및 보험업/금융 및 보험관련 서비스업",
          "KOSPI/제조업/의료용 물질 및 의약품 제조업",
          "KOSPI/금융 및 보험업/금융 및 보험관련 서비스업",
          "KOSPI/제조업/고무 및 플라스틱제품 제조업",
          "KOSPI/제조업/목재 및 나무제품 제조업",
          "KOSPI/제조업/1차 금속 제조업",
          "KOSPI/전문, 과학 및 기술 서비스업/전문 서비스업",
          "KOSPI/도매 및 소매업/소매업",
          "KOSPI/제조업/전자 부품, 컴퓨터, 영상, 음향 및 통신장비 제조업",
          "KOSPI/제조업/화학 물질 및 화학제품 제조업",
          "KOSPI/부동산업/부동산업",
          "KOSPI/도매 및 소매업/도매 및 상품 중개업",
          "KOSPI/제조업/기타 기계 및 장비 제조업",
          "KOSPI/제조업/의료용 물질 및 의약품 제조업",
          "KOSPI/예술, 스포츠 및 여가관련 서비스업/스포츠 및 오락관련 서비스업",
          "KOSPI/부동산업/부동산업",
          "KOSPI/부동산업/부동산업",
          "KOSPI/도매 및 소매업/도매 및 상품 중개업",
          "KOSPI/제조업/의복, 의복 액세서리 및 모피제품 제조업",
          "KOSPI/도매 및 소매업/도매 및 상품 중개업",
          "KOSPI/정보통신업/우편 및 통신업",
          "KOSPI/제조업/자동차 및 트레일러 제조업",
          "KOSPI/전기, 가스, 증기 및 공기 조절 공급업/전기, 가스, 증기 및 공기 조절 공급업",
          "KOSPI/운수 및 창고업/육상 운송 및 파이프라인 운송업",
          "KOSPI/제조업/자동차 및 트레일러 제조업",
          "KOSPI/제조업/의료용 물질 및 의약품 제조업",
          "KOSPI/제조업/의료용 물질 및 의약품 제조업",
          "KOSPI/건설업/종합 건설업",
          "KOSPI/제조업/의료용 물질 및 의약품 제조업",
          "KOSPI/제조업/섬유제품 제조업",
          "KOSPI/도매 및 소매업/도매 및 상품 중개업",
          "KOSPI/제조업/의료용 물질 및 의약품 제조업",
          "KOSPI/제조업/섬유제품 제조업",
          "KOSPI/제조업/화학 물질 및 화학제품 제조업",
          "KOSPI/제조업/전자 부품, 컴퓨터, 영상, 음향 및 통신장비 제조업",
          "KOSPI/제조업/전자 부품, 컴퓨터, 영상, 음향 및 통신장비 제조업",
          "KOSPI/금융 및 보험업/금융업",
          "KOSPI/제조업/화학 물질 및 화학제품 제조업",
          "KOSPI/부동산업/부동산업",
          "KOSPI/제조업/전자 부품, 컴퓨터, 영상, 음향 및 통신장비 제조업",
          "KOSPI/제조업/섬유제품 제조업",
          "KOSPI/부동산업/부동산업",
          "KOSPI/제조업/가죽, 가방 및 신발 제조업",
          "KOSPI/제조업/화학 물질 및 화학제품 제조업",
          "KOSPI/정보통신업/영상ㆍ오디오 기록물 제작 및 배급업",
          "KOSPI/전문, 과학 및 기술 서비스업/전문 서비스업",
          "KOSPI/제조업/의료용 물질 및 의약품 제조업",
          "KOSPI/제조업/비금속 광물제품 제조업",
          "KOSPI/전문, 과학 및 기술 서비스업/전문 서비스업",
          "KOSPI/금융 및 보험업/금융업",
          "KOSPI/운수 및 창고업/항공 운송업",
          "KOSPI/제조업/화학 물질 및 화학제품 제조업",
          "KOSPI/제조업/가죽, 가방 및 신발 제조업",
          "KOSPI/제조업/화학 물질 및 화학제품 제조업",
          "KOSPI/제조업/비금속 광물제품 제조업",
          "KOSPI/제조업/금속 가공제품 제조업",
          "KOSPI/제조업/1차 금속 제조업",
          "KOSPI/제조업/식료품 제조업",
          "KOSPI/제조업/의료용 물질 및 의약품 제조업",
          "KOSPI/제조업/의료용 물질 및 의약품 제조업",
          "KOSPI/제조업/의료용 물질 및 의약품 제조업",
          "KOSPI/제조업/전자 부품, 컴퓨터, 영상, 음향 및 통신장비 제조업",
          "KOSPI/제조업/가구 제조업",
          "KOSPI/제조업/자동차 및 트레일러 제조업",
          "KOSPI/전기, 가스, 증기 및 공기 조절 공급업/전기, 가스, 증기 및 공기 조절 공급업",
          "KOSPI/제조업/자동차 및 트레일러 제조업",
          "KOSPI/전문, 과학 및 기술 서비스업/전문 서비스업",
          "KOSPI/도매 및 소매업/도매 및 상품 중개업",
          "KOSPI/제조업/고무 및 플라스틱제품 제조업",
          "KOSPI/제조업/고무 및 플라스틱제품 제조업",
          "KOSPI/제조업/고무 및 플라스틱제품 제조업",
          "KOSPI/제조업/고무 및 플라스틱제품 제조업",
          "KOSPI/운수 및 창고업/항공 운송업",
          "KOSPI/제조업/의료용 물질 및 의약품 제조업",
          "KOSPI/건설업/종합 건설업",
          "KOSPI/제조업/기타 기계 및 장비 제조업",
          "KOSPI/운수 및 창고업/육상 운송 및 파이프라인 운송업",
          "KOSPI/제조업/자동차 및 트레일러 제조업",
          "KOSPI/정보통신업/정보서비스업",
          "KOSPI/제조업/화학 물질 및 화학제품 제조업",
          "KOSPI/제조업/펄프, 종이 및 종이제품 제조업",
          "KOSPI/제조업/자동차 및 트레일러 제조업",
          "KOSPI/제조업/의료, 정밀, 광학 기기 및 시계 제조업",
          "KOSPI/제조업/비금속 광물제품 제조업",
          "KOSPI/제조업/의료, 정밀, 광학 기기 및 시계 제조업",
          "KOSPI/부동산업/부동산업",
          "KOSPI/부동산업/부동산업",
          "KOSPI/제조업/전자 부품, 컴퓨터, 영상, 음향 및 통신장비 제조업",
          "KOSPI/금융 및 보험업/보험 및 연금업",
          "KOSPI/제조업/화학 물질 및 화학제품 제조업",
          "KOSPI/금융 및 보험업/금융업",
          "KOSPI/제조업/화학 물질 및 화학제품 제조업",
          "KOSPI/제조업/화학 물질 및 화학제품 제조업",
          "KOSPI/제조업/가구 제조업",
          "KOSPI/금융 및 보험업/금융업",
          "KOSPI/건설업/종합 건설업",
          "KOSPI/제조업/화학 물질 및 화학제품 제조업",
          "KOSPI/제조업/화학 물질 및 화학제품 제조업",
          "KOSPI/협회 및 단체, 수리 및 기타 개인 서비스업/기타 개인 서비스업",
          "KOSPI/정보통신업/컴퓨터 프로그래밍, 시스템 통합 및 관리업",
          "KOSPI/금융 및 보험업/금융업",
          "KOSPI/사업시설 관리, 사업 지원 및 임대 서비스업/임대업",
          "KOSPI/제조업/기타 기계 및 장비 제조업",
          "KOSPI/제조업/식료품 제조업",
          "KOSPI/금융 및 보험업/금융업",
          "KOSPI/정보통신업/정보서비스업",
          "KOSPI/금융 및 보험업/금융 및 보험관련 서비스업",
          "KOSPI/정보통신업/영상ㆍ오디오 기록물 제작 및 배급업",
          "KOSPI/제조업/비금속 광물제품 제조업",
          "KOSPI/제조업/화학 물질 및 화학제품 제조업",
          "KOSPI/제조업/화학 물질 및 화학제품 제조업",
          "KOSPI/제조업/화학 물질 및 화학제품 제조업",
          "KOSPI/제조업/펄프, 종이 및 종이제품 제조업",
          "KOSPI/제조업/자동차 및 트레일러 제조업",
          "KOSPI/건설업/종합 건설업",
          "KOSPI/제조업/자동차 및 트레일러 제조업",
          "KOSPI/제조업/의복, 의복 액세서리 및 모피제품 제조업",
          "KOSPI/제조업/고무 및 플라스틱제품 제조업",
          "KOSPI/정보통신업/정보서비스업",
          "KOSPI/제조업/화학 물질 및 화학제품 제조업",
          "KOSPI/제조업/전기장비 제조업",
          "KOSPI/금융 및 보험업/금융업",
          "KOSPI/운수 및 창고업/항공 운송업",
          "KOSPI/제조업/비금속 광물제품 제조업",
          "KOSPI/제조업/의료용 물질 및 의약품 제조업",
          "KOSPI/제조업/식료품 제조업",
          "KOSPI/운수 및 창고업/수상 운송업",
          "KOSPI/제조업/금속 가공제품 제조업",
          "KOSPI/제조업/가구 제조업",
          "KOSPI/제조업/펄프, 종이 및 종이제품 제조업",
          "KOSPI/제조업/자동차 및 트레일러 제조업",
          "KOSPI/제조업/자동차 및 트레일러 제조업",
          "KOSPI/제조업/1차 금속 제조업",
          "KOSPI/도매 및 소매업/도매 및 상품 중개업",
          "KOSPI/제조업/비금속 광물제품 제조업",
          "KOSPI/도매 및 소매업/도매 및 상품 중개업",
          "KOSPI/제조업/식료품 제조업",
          "KOSPI/금융 및 보험업/금융업",
          "KOSPI/제조업/전자 부품, 컴퓨터, 영상, 음향 및 통신장비 제조업",
          "KOSPI/금융 및 보험업/금융업",
          "KOSPI/제조업/의료용 물질 및 의약품 제조업",
          "KOSPI/사업시설 관리, 사업 지원 및 임대 서비스업/사업 지원 서비스업",
          "KOSPI/제조업/1차 금속 제조업",
          "KOSPI/제조업/전자 부품, 컴퓨터, 영상, 음향 및 통신장비 제조업",
          "KOSPI/제조업/음료 제조업",
          "KOSPI/금융 및 보험업/금융업",
          "KOSPI/전기, 가스, 증기 및 공기 조절 공급업/전기, 가스, 증기 및 공기 조절 공급업",
          "KOSPI/운수 및 창고업/창고 및 운송관련 서비스업",
          "KOSPI/금융 및 보험업/금융업",
          "KOSPI/제조업/비금속 광물제품 제조업",
          "KOSPI/제조업/전기장비 제조업",
          "KOSPI/제조업/비금속 광물제품 제조업",
          "KOSPI/제조업/펄프, 종이 및 종이제품 제조업",
          "KOSPI/제조업/코크스, 연탄 및 석유정제품 제조업",
          "KOSPI/금융 및 보험업/금융업",
          "KOSPI/금융 및 보험업/금융업",
          "KOSPI/전기, 가스, 증기 및 공기 조절 공급업/전기, 가스, 증기 및 공기 조절 공급업",
          "KOSPI/금융 및 보험업/금융업",
          "KOSPI/제조업/기타 운송장비 제조업",
          "KOSPI/전문, 과학 및 기술 서비스업/건축 기술, 엔지니어링 및 기타 과학기술 서비스업",
          "KOSPI/제조업/기타 기계 및 장비 제조업",
          "KOSPI/제조업/1차 금속 제조업",
          "KOSPI/제조업/1차 금속 제조업",
          "KOSPI/제조업/금속 가공제품 제조업",
          "KOSPI/금융 및 보험업/금융업",
          "KOSPI/제조업/고무 및 플라스틱제품 제조업",
          "KOSPI/금융 및 보험업/금융업",
          "KOSPI/제조업/1차 금속 제조업",
          "KOSPI/제조업/자동차 및 트레일러 제조업",
          "KOSPI/제조업/기타 운송장비 제조업",
          "KOSPI/도매 및 소매업/도매 및 상품 중개업",
          "KOSPI/제조업/화학 물질 및 화학제품 제조업",
          "KOSPI/제조업/화학 물질 및 화학제품 제조업",
          "KOSPI/제조업/의료용 물질 및 의약품 제조업",
          "KOSPI/건설업/종합 건설업",
          "KOSPI/금융 및 보험업/금융업",
          "KOSPI/전문, 과학 및 기술 서비스업/건축 기술, 엔지니어링 및 기타 과학기술 서비스업",
          "KOSPI/제조업/기타 기계 및 장비 제조업",
          "KOSPI/금융 및 보험업/금융업",
          "KOSPI/도매 및 소매업/도매 및 상품 중개업",
          "KOSPI/제조업/의복, 의복 액세서리 및 모피제품 제조업",
          "KOSPI/제조업/식료품 제조업",
          "KOSPI/제조업/의복, 의복 액세서리 및 모피제품 제조업",
          "KOSPI/도매 및 소매업/소매업",
          "KOSPI/제조업/의복, 의복 액세서리 및 모피제품 제조업",
          "KOSPI/도매 및 소매업/도매 및 상품 중개업",
          "KOSPI/운수 및 창고업/창고 및 운송관련 서비스업",
          "KOSPI/제조업/펄프, 종이 및 종이제품 제조업",
          "KOSPI/제조업/화학 물질 및 화학제품 제조업",
          "KOSPI/제조업/전자 부품, 컴퓨터, 영상, 음향 및 통신장비 제조업",
          "KOSPI/금융 및 보험업/금융업",
          "KOSPI/제조업/목재 및 나무제품 제조업",
          "KOSPI/건설업/종합 건설업",
          "KOSPI/제조업/기타 기계 및 장비 제조업",
          "KOSPI/금융 및 보험업/금융 및 보험관련 서비스업",
          "KOSPI/제조업/기타 기계 및 장비 제조업",
          "KOSPI/제조업/의료용 물질 및 의약품 제조업",
          "KOSPI/운수 및 창고업/육상 운송 및 파이프라인 운송업",
          "KOSPI/제조업/비금속 광물제품 제조업",
          "KOSPI/제조업/1차 금속 제조업",
          "KOSPI/제조업/비금속 광물제품 제조업",
          "KOSPI/제조업/비금속 광물제품 제조업",
          "KOSPI/건설업/전문직별 공사업",
          "KOSPI/전문, 과학 및 기술 서비스업/건축 기술, 엔지니어링 및 기타 과학기술 서비스업",
          "KOSPI/전문, 과학 및 기술 서비스업/건축 기술, 엔지니어링 및 기타 과학기술 서비스업",
          "KOSPI/운수 및 창고업/육상 운송 및 파이프라인 운송업",
          "KOSPI/건설업/종합 건설업",
          "KOSPI/전기, 가스, 증기 및 공기 조절 공급업/전기, 가스, 증기 및 공기 조절 공급업",
          "KOSPI/운수 및 창고업/항공 운송업",
          "KOSPI/도매 및 소매업/도매 및 상품 중개업",
          "KOSPI/제조업/펄프, 종이 및 종이제품 제조업",
          "KOSPI/제조업/화학 물질 및 화학제품 제조업",
          "KOSPI/금융 및 보험업/보험 및 연금업",
          "KOSPI/금융 및 보험업/보험 및 연금업",
          "KOSPI/제조업/화학 물질 및 화학제품 제조업",
          "KOSPI/제조업/전자 부품, 컴퓨터, 영상, 음향 및 통신장비 제조업",
          "KOSPI/제조업/기타 운송장비 제조업",
          "KOSPI/금융 및 보험업/금융 및 보험관련 서비스업",
          "KOSPI/제조업/전자 부품, 컴퓨터, 영상, 음향 및 통신장비 제조업",
          "KOSPI/제조업/식료품 제조업",
          "KOSPI/제조업/자동차 및 트레일러 제조업",
          "KOSPI/건설업/종합 건설업",
          "KOSPI/제조업/기타 기계 및 장비 제조업",
          "KOSPI/도매 및 소매업/소매업",
          "KOSPI/운수 및 창고업/창고 및 운송관련 서비스업",
          "KOSPI/제조업/기타 운송장비 제조업",
          "KOSPI/제조업/가구 제조업",
          "KOSPI/제조업/자동차 및 트레일러 제조업",
          "KOSPI/제조업/기타 운송장비 제조업",
          "KOSPI/도매 및 소매업/소매업",
          "KOSPI/제조업/1차 금속 제조업",
          "KOSPI/도매 및 소매업/도매 및 상품 중개업",
          "KOSPI/제조업/의료용 물질 및 의약품 제조업",
          "KOSPI/제조업/전자 부품, 컴퓨터, 영상, 음향 및 통신장비 제조업",
          "KOSPI/제조업/기타 기계 및 장비 제조업",
          "KOSPI/정보통신업/출판업",
          "KOSPI/제조업/자동차 및 트레일러 제조업",
          "KOSPI/제조업/전기장비 제조업",
          "KOSPI/제조업/1차 금속 제조업",
          "KOSPI/제조업/코크스, 연탄 및 석유정제품 제조업",
          "KOSPI/제조업/자동차 및 트레일러 제조업",
          "KOSPI/금융 및 보험업/금융 및 보험관련 서비스업",
          "KOSPI/도매 및 소매업/도매 및 상품 중개업",
          "KOSPI/정보통신업/방송업",
          "KOSPI/금융 및 보험업/보험 및 연금업",
          "KOSPI/도매 및 소매업/소매업",
          "KOSPI/제조업/의복, 의복 액세서리 및 모피제품 제조업",
          "KOSPI/도매 및 소매업/도매 및 상품 중개업",
          "KOSPI/제조업/의복, 의복 액세서리 및 모피제품 제조업",
          "KOSPI/도매 및 소매업/소매업",
          "KOSPI/건설업/종합 건설업",
          "KOSPI/제조업/자동차 및 트레일러 제조업",
          "KOSPI/제조업/고무 및 플라스틱제품 제조업",
          "KOSPI/제조업/자동차 및 트레일러 제조업",
          "KOSPI/제조업/1차 금속 제조업",
          "KOSPI/제조업/기타 기계 및 장비 제조업",
          "KOSPI/제조업/기타 기계 및 장비 제조업",
          "KOSPI/제조업/의료용 물질 및 의약품 제조업",
          "KOSPI/제조업/1차 금속 제조업",
          "KOSPI/금융 및 보험업/금융업",
          "KOSPI/사업시설 관리, 사업 지원 및 임대 서비스업/사업 지원 서비스업",
          "KOSPI/제조업/전기장비 제조업",
          "KOSPI/제조업/화학 물질 및 화학제품 제조업",
          "KOSPI/제조업/화학 물질 및 화학제품 제조업",
          "KOSPI/제조업/화학 물질 및 화학제품 제조업",
          "KOSPI/제조업/화학 물질 및 화학제품 제조업",
          "KOSPI/도매 및 소매업/도매 및 상품 중개업",
          "KOSPI/제조업/전자 부품, 컴퓨터, 영상, 음향 및 통신장비 제조업",
          "KOSPI/제조업/화학 물질 및 화학제품 제조업",
          "KOSPI/제조업/1차 금속 제조업",
          "KOSPI/제조업/화학 물질 및 화학제품 제조업",
          "KOSPI/금융 및 보험업/보험 및 연금업",
          "KOSPI/운수 및 창고업/수상 운송업",
          "KOSPI/제조업",
          "KOSPI/제조업",
          "KOSPI/제조업",
          "KOSPI/전문, 과학 및 기술 서비스업",
          "KOSPI/제조업",
          "KOSPI/교육 서비스업",
          "KOSPI/제조업",
          "KOSPI/금융 및 보험업",
          "KOSPI/금융 및 보험업",
          "KOSPI/협회 및 단체, 수리 및 기타 개인 서비스업",
          "KOSPI/제조업",
          "KOSPI/제조업",
          "KOSPI/제조업",
          "KOSPI/제조업",
          "KOSPI/도매 및 소매업",
          "KOSPI/제조업",
          "KOSPI/정보통신업",
          "KOSPI/금융 및 보험업",
          "KOSPI/부동산업",
          "KOSPI/제조업",
          "KOSPI/광업",
          "KOSPI/사업시설 관리, 사업 지원 및 임대 서비스업",
          "KOSPI/제조업",
          "KOSPI/도매 및 소매업",
          "KOSPI/운수 및 창고업",
          "KOSPI/숙박 및 음식점업",
          "KOSPI/예술, 스포츠 및 여가관련 서비스업",
          "KOSPI/제조업",
          "KOSPI/농업, 임업 및 어업",
          "KOSPI/정보통신업",
          "KOSPI/정보통신업",
          "KOSPI/운수 및 창고업",
          "KOSPI/제조업",
          "KOSPI/숙박 및 음식점업",
          "KOSPI/제조업",
          "KOSPI/제조업",
          "KOSPI/제조업",
          "KOSPI/사업시설 관리, 사업 지원 및 임대 서비스업",
          "KOSPI/도매 및 소매업",
          "KOSPI/제조업",
          "KOSPI/전기, 가스, 증기 및 공기 조절 공급업",
          "KOSPI/제조업",
          "KOSPI/전문, 과학 및 기술 서비스업",
          "KOSPI/건설업",
          "KOSPI/제조업",
          "KOSPI/정보통신업",
          "KOSPI/건설업",
          "KOSPI/운수 및 창고업",
          "KOSPI/정보통신업",
          "KOSPI/정보통신업",
          "KOSPI/제조업",
          "KOSPI/제조업",
          "KOSPI/운수 및 창고업",
          "KOSPI/제조업",
          "KOSPI",
          "KOSPI",
          "KOSPI",
          "KOSPI",
          "KOSPI",
          "KOSPI",
          "KOSPI",
          "KOSPI",
          "KOSPI",
          "KOSPI",
          "KOSPI",
          "KOSPI",
          "KOSPI",
          "KOSPI",
          "KOSPI",
          "KOSPI",
          ""
         ],
         "textposition": "middle center",
         "texttemplate": "%{label}<br><br>%{customdata[0]:.2f}%",
         "type": "treemap",
         "values": [
          443984.07848705567,
          620889.7044564356,
          706853.3433605587,
          1620849.6882808104,
          1352219.1871364643,
          444624.1643230831,
          1758624.9708223753,
          1003678.2352925662,
          1975072.3591807971,
          421091.872107501,
          2583898.5063272123,
          262531.0941583873,
          418595.86195159645,
          470261.2961854292,
          1682854.7174370103,
          1752821.2372058937,
          1084234.0795925942,
          694281.3259047085,
          390211.7373939436,
          307245.8299147443,
          273115.360241785,
          532276.2440688106,
          870540.1254393734,
          1277654.100294755,
          1011786.2118550539,
          1854020.4059421783,
          435692.15875432047,
          1660301.177497625,
          837833.6480173138,
          423572.898094295,
          479582.10975806846,
          1440861.1643735839,
          2191546.702240224,
          512112.53677292453,
          499331.5034523658,
          1054032.030898492,
          588877.5191837433,
          837974.6938899766,
          608495.5173376382,
          4279759.207712509,
          1382241.3917257723,
          359583.09192730405,
          349992.8439268437,
          390000,
          605841.007443372,
          1090919.7377900905,
          560016.8668888465,
          520268.1683516684,
          517350.9447174133,
          494150.3200444172,
          307263.4839026597,
          2487639.413098289,
          3338884.6575465887,
          481254.7280598914,
          330242.600219899,
          317961.9631339573,
          665571.9345044531,
          4296930.650708713,
          2902853.722632265,
          1033362.4727074233,
          4939192.617624869,
          2303221.2303966805,
          2175642.755601204,
          5389572.05954239,
          860135.323655528,
          614453.7955574853,
          8296236.16015118,
          950315.7370053387,
          1559198.5120567554,
          1448102.2063376603,
          463398.5526520341,
          254090.73674575388,
          7511622.739628236,
          1193454.5739155721,
          1806749.3155388215,
          279616.5231169288,
          822313.2341145921,
          300150.57646121556,
          366098.3474423232,
          1601189.364972176,
          4770300.19338406,
          348724.41583577136,
          1076174.8794689458,
          463478.61074703326,
          524914.9201537331,
          2866800.2748709233,
          694824.2899467462,
          519614.90230746847,
          752683.435715175,
          375080.4543028069,
          351001.0709670271,
          324755.1535695777,
          428021.78075420414,
          233951.1472936177,
          4803975.168128994,
          2144993.7545363624,
          984467.1756843902,
          1174701.3736775827,
          1124328.0535502082,
          924936.1535803431,
          737419.256596951,
          5070051.951607597,
          652898.4103534025,
          2195414.0971579826,
          4528731.676087688,
          9672037.215731751,
          801247.945145571,
          335913.4999371118,
          414024.55820880964,
          336422.7165932764,
          346828.4878726083,
          235382.82301391492,
          681226.2113277791,
          320562.8969484772,
          383275.357934736,
          2326519.8580712783,
          204634.9405160321,
          535099.1496909708,
          825588.8643871113,
          332030.257958518,
          266587.5862638769,
          593537.0413883198,
          621366.0668237364,
          545907.826743673,
          211583.82381458182,
          546978.4131937933,
          393716.90337093733,
          334258.3192681971,
          2838571.823998822,
          545893.7625582472,
          709394.2272107942,
          309126.9012476915,
          387020.1898544829,
          503587.13248056686,
          707401.2376579504,
          672446.2610499072,
          549154.7781818892,
          431585.3541073886,
          290574.8112792986,
          425080.1176249014,
          623538.2907247958,
          344825.6402879577,
          401695.9201684777,
          265894.7160061666,
          540406.4535606509,
          585571.1132219553,
          2409168.97196938,
          515630.83634030266,
          189750.80790341843,
          1091189.208897797,
          334418.8989874825,
          5965811.082040731,
          2502773.2164141443,
          379817.76498736866,
          399703.1060299632,
          374904.36687240656,
          697057.9508907419,
          393455.1867748092,
          467461.2283387789,
          684449.7713419152,
          506698.4998152254,
          802266.358156691,
          413148.9160581206,
          3302499.11612403,
          383232.5906678606,
          2228627.0773729733,
          1478787.2615761876,
          1329288.3438140876,
          593693.5573172409,
          294713.42012198904,
          1035525.0582675438,
          567709.7359126405,
          299698.80096523574,
          495000.79242360813,
          858086.3490931435,
          437049.2998507148,
          220506.73877457806,
          318905.41544476786,
          930964.0493595873,
          1699529.3466133499,
          254224.5562489981,
          989346.6057201591,
          385778.074312162,
          377425.4893353124,
          660321.3906121776,
          806163.4573707741,
          350705.44084744394,
          431785.3914620086,
          1614296.7324070255,
          384941.84788094944,
          1717700.0312918434,
          1716915.3694926258,
          1353025.8127619,
          522302.5942880238,
          323651.0873224436,
          612795.9168026497,
          275870.7767053263,
          364109.6316770541,
          316591.61267948966,
          376461.78550418635,
          324261.94102916244,
          471805.04448341794,
          1333322.9166259763,
          1112476.2909855652,
          526569.8030650828,
          430375.9260228202,
          503487.8350069642,
          2467514.836703115,
          909988.4587729671,
          383937.494912909,
          299452.29628439987,
          253593.31306247017,
          1816380.997340591,
          341324.4790518254,
          356375.3947735449,
          727385.7807243691,
          532210.4846768804,
          912235.4228158431,
          408610.45018452476,
          429367.01049335406,
          303405.3732549903,
          555650.5434173533,
          1830278.667307249,
          613069.3011397651,
          292179.78027235216,
          873649.1881756658,
          845193.0151154824,
          456234.5887808157,
          368350.6321427995,
          557036.1585211502,
          263890.95181532844,
          442647.90584617027,
          803389.2829755697,
          374545.9146753573,
          840368.7833326509,
          222095.59724361938,
          949221.8102214044,
          208262.9650225887,
          971618.3048656504,
          377680.42046153254,
          439647.1716046858,
          213892.49636207437,
          676813.2002258821,
          983180.7298253969,
          1824355.3138574734,
          1340354.8485382518,
          2240566.7178194,
          2023204.852455628,
          324274.6548837883,
          853103.7359254735,
          377809.475794348,
          412028.7261223421,
          434292.0211677852,
          385624.0740021297,
          377409.6358070366,
          529935.4116305119,
          674011.949078056,
          1056095.7145069758,
          951985.3038151377,
          757708.5138758835,
          1811489.8785254087,
          1251423.1898123033,
          799823.4511753203,
          836314.625604503,
          1954148.4659052903,
          1059193.2661228545,
          3147315.696113118,
          623536.1617420437,
          1012212.774469874,
          373000.386586931,
          1913806.5105960947,
          287376.0602416283,
          1981572.7886580396,
          1140135.7602496292,
          1546901.5849691278,
          1354067.9451194464,
          262875.60108347825,
          491333.9576499878,
          1334933.5354241424,
          418540.6927050224,
          326467.1675375642,
          153360.94377317844,
          679705.8187186571,
          533583.544592597,
          344061.7487457738,
          459238.5001282014,
          269981.4072765012,
          244188.57089347977,
          244054.72353552186,
          2514776.490744257,
          307523.1698587929,
          822852.9169450637,
          825160.5904307355,
          738715.1006985034,
          371044.70997441805,
          332630.6347887999,
          296313.5784097651,
          456039.7180180691,
          373352.3804664971,
          364827.93686887523,
          427448.7103735371,
          369961.4844818309,
          1067156.033577096,
          346492.87058466295,
          1235691.8636537185,
          466099.8945505137,
          290344.62281915953,
          774273.8533619742,
          376871.33082791005,
          203715.84967792762,
          381720.57908894564,
          291545.341482247,
          467523.994945714,
          2618696.9660501,
          746053.0252602693,
          395289.97248855175,
          384052.2191056836,
          420119.0307520001,
          312456.6190849539,
          316039.6073279424,
          732414.3876249292,
          7379804.046179004,
          270438.21105753526,
          5223553.754485542,
          7248103.889983918,
          3929376.5408777003,
          3953519.394160094,
          1617590.801160788,
          3984019.377462916,
          22763504.2412191,
          790398.3723098119,
          2065211.8535394862,
          1914618.7610070053,
          493457.1916590131,
          1931490.6912020051,
          2920183.3264368866,
          373764.63182061515,
          806708.517309691,
          867495.3593535818,
          445308.8815642464,
          541694.0581176796,
          886196.1694230009,
          507556.81908531184,
          453872.2287164087,
          336986.646619714,
          339705.7550292606,
          493558.50717012264,
          372172.406217871,
          429666.41886468156,
          371819.31418365025,
          272716.2210980491,
          599428.8948657714,
          578393.950953846,
          338747.69371908647,
          289119.1885710805,
          405405.26266934426,
          211812.56478311197,
          895239.9119789064,
          583564.1866153199,
          333174.49592518335,
          329614.2245110183,
          354084.7356212916,
          379575.5260814374,
          494833.4362186937,
          462240.82511175924,
          469341.8386954225,
          666333.2499583072,
          273110.9178484082,
          341046.5444774364,
          791862.3141683155,
          243536.44491122884,
          240432.17248321822,
          202051.88792733414,
          303301.6650135637,
          460504.1057905999,
          241411.0736896715,
          408723.7233144169,
          158453.9907985911,
          546186.104272161,
          1215318.8881935473,
          677521.3082995987,
          536548.646443172,
          440260.7722702535,
          313934.7065872138,
          547722.5575051662,
          307776.8709633653,
          457602.9284762063,
          284429.2530665578,
          363526.72790319007,
          536067.8535409487,
          581596.3060405387,
          322337.1055044703,
          319146.75555925677,
          525719.5069616496,
          335915.8303801713,
          6469105.003785299,
          1284051.3837849326,
          619677.3353931867,
          529323.1489081127,
          645020.2354965308,
          334365.0699460098,
          505059.6010373429,
          507488.6609078079,
          399599.7997997496,
          826354.0766463248,
          481756.2141270209,
          1571986.1421144907,
          480978.1699827966,
          446766.15807377355,
          1125766.4056099737,
          508988.12559823046,
          220223.33618397484,
          297892.5980953538,
          715883.0492475709,
          364233.85130984185,
          378365.90070327424,
          2300695.6558832373,
          317302.7828431387,
          605668.3599380109,
          4119501.8326127734,
          185748.58061368868,
          324961.5361854384,
          1863221.0307824458,
          644249.0244773367,
          405332.24256774836,
          311539.6161004247,
          150462.31128093175,
          1734276.3361125586,
          495623.3970465882,
          2299036.6108437683,
          3730029.573609303,
          456231.60784846987,
          593448.5096451081,
          612964.3210660797,
          518285.63553314883,
          1092844.3677852761,
          543956.176911339,
          1348916.0438663336,
          799224.2357436366,
          667825.6036421484,
          824654.9740649116,
          345518.98007200705,
          1137654.599362214,
          1789785.1003402616,
          438323.3830860498,
          557346.3465386671,
          470535.89577204414,
          189196.48717669153,
          596933.5986188079,
          705846.8026066279,
          4659670.3486405555,
          669445.143383683,
          352667.1410267761,
          204413.85584152557,
          594846.4767105879,
          290516.780926679,
          1140336.4930624645,
          996423.3839086676,
          356659.5014856607,
          387348.11094156635,
          454312.6676640219,
          1445460.8915498198,
          510738.6075087725,
          2191720.793805634,
          902435.8625409342,
          464626.7302954061,
          2622210.583107314,
          385487.5138055706,
          677463.4958062316,
          317872.61599577905,
          293387.2079692637,
          294393.58664889424,
          248011.1691033289,
          236431.8083507378,
          288699.2319006062,
          562057.7096482175,
          208710.32557111303,
          354912.2554378758,
          324391.69682653714,
          915550.5530553734,
          692215.6728217008,
          308847.8461799596,
          404462.6064298157,
          319966.2655187262,
          619549.9465337722,
          298545.91355434764,
          380516.06368194235,
          799192.7447118124,
          267138.4008711589,
          229886.4790934865,
          331787.40768751304,
          637459.5073492904,
          2250787.0249315016,
          358372.6691239163,
          766655.0723760979,
          347100.82829057035,
          260551.83745274183,
          1126942.7669584644,
          2202360.6666484033,
          396004.9398681789,
          601329.0440349609,
          174672.09050102995,
          449235.5386854428,
          413737.39965707716,
          608125.4942444034,
          586051.0703087231,
          316085.43148965284,
          336214.2174269256,
          217531.60689885964,
          304662.8745433221,
          458380.51090224157,
          501765.07901606703,
          598779.6148834728,
          329051.9130775568,
          341484.50342585094,
          276586.3337187866,
          682168.7633936341,
          424299.7053970224,
          278434.37790617737,
          468454.9071148684,
          461909.0819631067,
          397019.144815461,
          1001951.0598826671,
          145533.50129781116,
          861867.5028680452,
          402440.79912454204,
          1723234.6833789065,
          571127.7113133279,
          795399.7345674689,
          594583.2691894383,
          646502.1268333152,
          239874.96743095142,
          920799.6524760422,
          324373.07516191906,
          298247.7599245299,
          863435.423468368,
          1518741.7691134987,
          876963.4003765493,
          265141.47167125705,
          558104.3114866611,
          377479.9500503305,
          886223.5304932949,
          285545.09276119596,
          631623.5271108891,
          329420.3926595923,
          560000,
          376980.85229889327,
          227167.66778747368,
          323573.79374726873,
          1558218.8670080977,
          634562.5349798079,
          768871.63948217,
          239463.34468974578,
          1232847.1192731075,
          412230.53598684317,
          674569.9661265686,
          140577.3118821099,
          316333.9222404072,
          224390.56236838482,
          246921.04001076944,
          191963.53820452467,
          392773.4791454229,
          232379.00077244503,
          873355.5976805782,
          929559.2796589145,
          666099.7089400355,
          293154.88073712843,
          310829.9728147207,
          214941.85260204677,
          6401283.0802894505,
          390384.4259188627,
          232119.9922453902,
          236650.9603952623,
          626410.068405673,
          786674.8629516517,
          786476.4048590396,
          247013.86123049856,
          575665.875313102,
          633681.9131078304,
          953303.1132855908,
          1053788.7570571247,
          414041.0485084782,
          775271.3594284263,
          602445.4062402667,
          203887.70794238677,
          534188.3821275037,
          702939.9581756609,
          507414.9005005667,
          463767.18297007604,
          2329006.654455929,
          321672.9482719988,
          847558.9283347796,
          966122.6257572068,
          377741.8545303128,
          340544.93242448935,
          366360.5012552527,
          500751.5482252651,
          1849047.9836932302,
          261791.71123242233,
          353289.58023128845,
          412091.0548653052,
          453122.4999931034,
          973969.6093821408,
          610278.0058301298,
          217584.46635732063,
          715208.4582134079,
          184932.4200890693,
          318362.812895916,
          443005.9141817409,
          336929.7555871253,
          404379.52470420656,
          255088.22003377575,
          1006242.6914020295,
          553821.4293614866,
          302710.4605394402,
          980989.8814462869,
          527286.0025735559,
          1654386.8657118867,
          343498.0120757615,
          580969.0181068178,
          324626.96388316236,
          270729.59898208396,
          249462.13706693045,
          326802.69276736386,
          1413745.880206199,
          2916823.047426772,
          234807.21107964296,
          821421.6580417149,
          532572.1034752008,
          713893.6226637692,
          3303603.934145254,
          640203.0927760346,
          936362.5027199669,
          197987.12685424776,
          203616.1506364365,
          1563379.7821866572,
          604571.3760591052,
          1774224.7039199967,
          360964.69114028313,
          2199321.737627308,
          304861.71304379957,
          907074.9693382571,
          269679.8101452906,
          309192.4966748061,
          562049.8198558559,
          1223774.809881295,
          702446.7616552874,
          3937439.835673683,
          211969.3623144628,
          2726018.5582640483,
          287718.6125366241,
          137633.6035457911,
          446403.8194281048,
          590032.2025110155,
          745723.5252089074,
          736505.3935987162,
          2335957.3603664087,
          711506.0830028089,
          318893.6016291327,
          321999.5032604864,
          1738311.915911526,
          457916.36791012395,
          415534.836084774,
          521617.2263259717,
          646315.1139730526,
          466166.199739964,
          709722.8804258744,
          346388.75919983315,
          1032512.019639481,
          2300030.9616611684,
          1532542.3369029646,
          887783.7574544828,
          232561.55238989956,
          820975.0300709517,
          210885.31074970585,
          551724.5689653489,
          195497.99840407574,
          289255.5256602715,
          566840.1679486026,
          1503009.9800067863,
          598352.0198846161,
          394780.7247954236,
          429996.5313290329,
          492347.64841522294,
          237605.3508235873,
          350471.61525578646,
          3099741.9247414777,
          1334693.1316973201,
          286705.423736629,
          894410.8602873738,
          236612.11771589384,
          809437.6106285154,
          565557.3870086041,
          1122497.2160321823,
          813145.7433941347,
          401708.8497904919,
          835496.395922807,
          781281.3063999419,
          361686.42103346926,
          2059320.431598735,
          324851.69696339895,
          364771.8379754665,
          1608128.2155039753,
          1588420.4890393475,
          644210.2473765843,
          3010700.413508458,
          1418345.7262776238,
          1421315.2359698394,
          794210.5882572959,
          755777.7451076474,
          488032.3800323089,
          428545.73991582275,
          2223554.80391197,
          842741.7087399911,
          928306.8087868363,
          2812916.6358070406,
          1526495.3178932453,
          581210.279417011,
          5767940.958435688,
          1383195.1912510395,
          1394540.3712693297,
          431535.9960072856,
          481838.51371595444,
          496064.51193367987,
          676402.2471872783,
          1359752.9747347494,
          1711578.2190715095,
          1697845.3398351688,
          803270.6371454144,
          2442340.3918168326,
          2049983.4443233926,
          7410312.008208562,
          654463.0017044508,
          319263.7831010589,
          644504.3624988119,
          1368550.3279017545,
          1005783.2768544126,
          391710.83741709264,
          261766.5110933788,
          279571.10008010484,
          1859505.1653867487,
          392131.8400742281,
          429359.77483923663,
          615582.6508276529,
          391313.1710663468,
          288671.093114638,
          240083.31887076204,
          268216.3305990148,
          572967.0457364891,
          349199.0836184998,
          1273761.7222228025,
          501388.92089873704,
          807909.871210892,
          915286.9910579959,
          1118347.038266745,
          754610.8208871643,
          1101430.5828784672,
          1668068.2742621778,
          312316.60802781524,
          527323.4301640693,
          247082.09299744893,
          983249.005186377,
          461132.47006689955,
          173542.5026384027,
          27769026.412699632,
          3278798.1747573395,
          1721271.7493557807,
          3998763.250758752,
          12964403.096224245,
          1129767.4455608581,
          6396055.295765317,
          17859400.831705708,
          70893537.01630247,
          2329006.654455929,
          20330510.157199487,
          13467107.894064225,
          522634.71749880275,
          3338884.6575465887,
          27811680.195060443,
          1017529.5321028214,
          3118417.5858070427,
          17286049.891337737,
          7258664.977148456,
          15383809.696666466,
          413148.9160581206,
          4595171.854566366,
          2065557.572845837,
          19219560.586626776,
          4929464.52936348,
          464626.7302954061,
          4128992.0807510875,
          21818190.83357567,
          1977203.605795743,
          5405387.830294413,
          9821357.398598723,
          5209823.614374897,
          3682395.15576813,
          508988.12559823046,
          3090883.137653798,
          48950892.76580313,
          7548816.10641153,
          2147525.9608412134,
          828797.6240042056,
          40263902.63126917,
          10558113.077114409,
          19368414.34530868,
          8710196.780772213,
          2589063.5657297084,
          66956782.49884471,
          17345429.435772743,
          18683090.067818835,
          3892503.863100949,
          11652204.790892927,
          9020835.176896783,
          11226341.765734527,
          6922543.4811276635,
          8490426.540161153,
          71069800.9021232,
          21272153.633548543,
          413148.9160581206,
          1129767.4455608581,
          106038987.73934592,
          1977203.605795743,
          47860038.40569142,
          7258664.977148456,
          6742697.815407581,
          973614.8558936366,
          4128992.0807510875,
          22522218.54700048,
          10558113.077114409,
          12708960.031530965,
          56363632.21826263,
          409154552.5803472,
          2329006.654455929,
          711431752.5839128
         ]
        }
       ],
       "layout": {
        "autosize": false,
        "coloraxis": {
         "cmax": 3,
         "cmid": 0,
         "cmin": -3,
         "colorbar": {
          "title": {
           "text": "Change"
          }
         },
         "colorscale": [
          [
           0,
           "#14029e"
          ],
          [
           0.5,
           "#424242"
          ],
          [
           1,
           "#8c0618"
          ]
         ],
         "showscale": false
        },
        "height": 640,
        "legend": {
         "tracegroupgap": 0
        },
        "margin": {
         "b": 0,
         "l": 0,
         "r": 0,
         "t": 0
        },
        "template": {
         "data": {
          "bar": [
           {
            "error_x": {
             "color": "#2a3f5f"
            },
            "error_y": {
             "color": "#2a3f5f"
            },
            "marker": {
             "line": {
              "color": "#E5ECF6",
              "width": 0.5
             }
            },
            "type": "bar"
           }
          ],
          "barpolar": [
           {
            "marker": {
             "line": {
              "color": "#E5ECF6",
              "width": 0.5
             }
            },
            "type": "barpolar"
           }
          ],
          "carpet": [
           {
            "aaxis": {
             "endlinecolor": "#2a3f5f",
             "gridcolor": "white",
             "linecolor": "white",
             "minorgridcolor": "white",
             "startlinecolor": "#2a3f5f"
            },
            "baxis": {
             "endlinecolor": "#2a3f5f",
             "gridcolor": "white",
             "linecolor": "white",
             "minorgridcolor": "white",
             "startlinecolor": "#2a3f5f"
            },
            "type": "carpet"
           }
          ],
          "choropleth": [
           {
            "colorbar": {
             "outlinewidth": 0,
             "ticks": ""
            },
            "type": "choropleth"
           }
          ],
          "contour": [
           {
            "colorbar": {
             "outlinewidth": 0,
             "ticks": ""
            },
            "colorscale": [
             [
              0,
              "#0d0887"
             ],
             [
              0.1111111111111111,
              "#46039f"
             ],
             [
              0.2222222222222222,
              "#7201a8"
             ],
             [
              0.3333333333333333,
              "#9c179e"
             ],
             [
              0.4444444444444444,
              "#bd3786"
             ],
             [
              0.5555555555555556,
              "#d8576b"
             ],
             [
              0.6666666666666666,
              "#ed7953"
             ],
             [
              0.7777777777777778,
              "#fb9f3a"
             ],
             [
              0.8888888888888888,
              "#fdca26"
             ],
             [
              1,
              "#f0f921"
             ]
            ],
            "type": "contour"
           }
          ],
          "contourcarpet": [
           {
            "colorbar": {
             "outlinewidth": 0,
             "ticks": ""
            },
            "type": "contourcarpet"
           }
          ],
          "heatmap": [
           {
            "colorbar": {
             "outlinewidth": 0,
             "ticks": ""
            },
            "colorscale": [
             [
              0,
              "#0d0887"
             ],
             [
              0.1111111111111111,
              "#46039f"
             ],
             [
              0.2222222222222222,
              "#7201a8"
             ],
             [
              0.3333333333333333,
              "#9c179e"
             ],
             [
              0.4444444444444444,
              "#bd3786"
             ],
             [
              0.5555555555555556,
              "#d8576b"
             ],
             [
              0.6666666666666666,
              "#ed7953"
             ],
             [
              0.7777777777777778,
              "#fb9f3a"
             ],
             [
              0.8888888888888888,
              "#fdca26"
             ],
             [
              1,
              "#f0f921"
             ]
            ],
            "type": "heatmap"
           }
          ],
          "heatmapgl": [
           {
            "colorbar": {
             "outlinewidth": 0,
             "ticks": ""
            },
            "colorscale": [
             [
              0,
              "#0d0887"
             ],
             [
              0.1111111111111111,
              "#46039f"
             ],
             [
              0.2222222222222222,
              "#7201a8"
             ],
             [
              0.3333333333333333,
              "#9c179e"
             ],
             [
              0.4444444444444444,
              "#bd3786"
             ],
             [
              0.5555555555555556,
              "#d8576b"
             ],
             [
              0.6666666666666666,
              "#ed7953"
             ],
             [
              0.7777777777777778,
              "#fb9f3a"
             ],
             [
              0.8888888888888888,
              "#fdca26"
             ],
             [
              1,
              "#f0f921"
             ]
            ],
            "type": "heatmapgl"
           }
          ],
          "histogram": [
           {
            "marker": {
             "colorbar": {
              "outlinewidth": 0,
              "ticks": ""
             }
            },
            "type": "histogram"
           }
          ],
          "histogram2d": [
           {
            "colorbar": {
             "outlinewidth": 0,
             "ticks": ""
            },
            "colorscale": [
             [
              0,
              "#0d0887"
             ],
             [
              0.1111111111111111,
              "#46039f"
             ],
             [
              0.2222222222222222,
              "#7201a8"
             ],
             [
              0.3333333333333333,
              "#9c179e"
             ],
             [
              0.4444444444444444,
              "#bd3786"
             ],
             [
              0.5555555555555556,
              "#d8576b"
             ],
             [
              0.6666666666666666,
              "#ed7953"
             ],
             [
              0.7777777777777778,
              "#fb9f3a"
             ],
             [
              0.8888888888888888,
              "#fdca26"
             ],
             [
              1,
              "#f0f921"
             ]
            ],
            "type": "histogram2d"
           }
          ],
          "histogram2dcontour": [
           {
            "colorbar": {
             "outlinewidth": 0,
             "ticks": ""
            },
            "colorscale": [
             [
              0,
              "#0d0887"
             ],
             [
              0.1111111111111111,
              "#46039f"
             ],
             [
              0.2222222222222222,
              "#7201a8"
             ],
             [
              0.3333333333333333,
              "#9c179e"
             ],
             [
              0.4444444444444444,
              "#bd3786"
             ],
             [
              0.5555555555555556,
              "#d8576b"
             ],
             [
              0.6666666666666666,
              "#ed7953"
             ],
             [
              0.7777777777777778,
              "#fb9f3a"
             ],
             [
              0.8888888888888888,
              "#fdca26"
             ],
             [
              1,
              "#f0f921"
             ]
            ],
            "type": "histogram2dcontour"
           }
          ],
          "mesh3d": [
           {
            "colorbar": {
             "outlinewidth": 0,
             "ticks": ""
            },
            "type": "mesh3d"
           }
          ],
          "parcoords": [
           {
            "line": {
             "colorbar": {
              "outlinewidth": 0,
              "ticks": ""
             }
            },
            "type": "parcoords"
           }
          ],
          "pie": [
           {
            "automargin": true,
            "type": "pie"
           }
          ],
          "scatter": [
           {
            "marker": {
             "colorbar": {
              "outlinewidth": 0,
              "ticks": ""
             }
            },
            "type": "scatter"
           }
          ],
          "scatter3d": [
           {
            "line": {
             "colorbar": {
              "outlinewidth": 0,
              "ticks": ""
             }
            },
            "marker": {
             "colorbar": {
              "outlinewidth": 0,
              "ticks": ""
             }
            },
            "type": "scatter3d"
           }
          ],
          "scattercarpet": [
           {
            "marker": {
             "colorbar": {
              "outlinewidth": 0,
              "ticks": ""
             }
            },
            "type": "scattercarpet"
           }
          ],
          "scattergeo": [
           {
            "marker": {
             "colorbar": {
              "outlinewidth": 0,
              "ticks": ""
             }
            },
            "type": "scattergeo"
           }
          ],
          "scattergl": [
           {
            "marker": {
             "colorbar": {
              "outlinewidth": 0,
              "ticks": ""
             }
            },
            "type": "scattergl"
           }
          ],
          "scattermapbox": [
           {
            "marker": {
             "colorbar": {
              "outlinewidth": 0,
              "ticks": ""
             }
            },
            "type": "scattermapbox"
           }
          ],
          "scatterpolar": [
           {
            "marker": {
             "colorbar": {
              "outlinewidth": 0,
              "ticks": ""
             }
            },
            "type": "scatterpolar"
           }
          ],
          "scatterpolargl": [
           {
            "marker": {
             "colorbar": {
              "outlinewidth": 0,
              "ticks": ""
             }
            },
            "type": "scatterpolargl"
           }
          ],
          "scatterternary": [
           {
            "marker": {
             "colorbar": {
              "outlinewidth": 0,
              "ticks": ""
             }
            },
            "type": "scatterternary"
           }
          ],
          "surface": [
           {
            "colorbar": {
             "outlinewidth": 0,
             "ticks": ""
            },
            "colorscale": [
             [
              0,
              "#0d0887"
             ],
             [
              0.1111111111111111,
              "#46039f"
             ],
             [
              0.2222222222222222,
              "#7201a8"
             ],
             [
              0.3333333333333333,
              "#9c179e"
             ],
             [
              0.4444444444444444,
              "#bd3786"
             ],
             [
              0.5555555555555556,
              "#d8576b"
             ],
             [
              0.6666666666666666,
              "#ed7953"
             ],
             [
              0.7777777777777778,
              "#fb9f3a"
             ],
             [
              0.8888888888888888,
              "#fdca26"
             ],
             [
              1,
              "#f0f921"
             ]
            ],
            "type": "surface"
           }
          ],
          "table": [
           {
            "cells": {
             "fill": {
              "color": "#EBF0F8"
             },
             "line": {
              "color": "white"
             }
            },
            "header": {
             "fill": {
              "color": "#C8D4E3"
             },
             "line": {
              "color": "white"
             }
            },
            "type": "table"
           }
          ]
         },
         "layout": {
          "annotationdefaults": {
           "arrowcolor": "#2a3f5f",
           "arrowhead": 0,
           "arrowwidth": 1
          },
          "autotypenumbers": "strict",
          "coloraxis": {
           "colorbar": {
            "outlinewidth": 0,
            "ticks": ""
           }
          },
          "colorscale": {
           "diverging": [
            [
             0,
             "#8e0152"
            ],
            [
             0.1,
             "#c51b7d"
            ],
            [
             0.2,
             "#de77ae"
            ],
            [
             0.3,
             "#f1b6da"
            ],
            [
             0.4,
             "#fde0ef"
            ],
            [
             0.5,
             "#f7f7f7"
            ],
            [
             0.6,
             "#e6f5d0"
            ],
            [
             0.7,
             "#b8e186"
            ],
            [
             0.8,
             "#7fbc41"
            ],
            [
             0.9,
             "#4d9221"
            ],
            [
             1,
             "#276419"
            ]
           ],
           "sequential": [
            [
             0,
             "#0d0887"
            ],
            [
             0.1111111111111111,
             "#46039f"
            ],
            [
             0.2222222222222222,
             "#7201a8"
            ],
            [
             0.3333333333333333,
             "#9c179e"
            ],
            [
             0.4444444444444444,
             "#bd3786"
            ],
            [
             0.5555555555555556,
             "#d8576b"
            ],
            [
             0.6666666666666666,
             "#ed7953"
            ],
            [
             0.7777777777777778,
             "#fb9f3a"
            ],
            [
             0.8888888888888888,
             "#fdca26"
            ],
            [
             1,
             "#f0f921"
            ]
           ],
           "sequentialminus": [
            [
             0,
             "#0d0887"
            ],
            [
             0.1111111111111111,
             "#46039f"
            ],
            [
             0.2222222222222222,
             "#7201a8"
            ],
            [
             0.3333333333333333,
             "#9c179e"
            ],
            [
             0.4444444444444444,
             "#bd3786"
            ],
            [
             0.5555555555555556,
             "#d8576b"
            ],
            [
             0.6666666666666666,
             "#ed7953"
            ],
            [
             0.7777777777777778,
             "#fb9f3a"
            ],
            [
             0.8888888888888888,
             "#fdca26"
            ],
            [
             1,
             "#f0f921"
            ]
           ]
          },
          "colorway": [
           "#636efa",
           "#EF553B",
           "#00cc96",
           "#ab63fa",
           "#FFA15A",
           "#19d3f3",
           "#FF6692",
           "#B6E880",
           "#FF97FF",
           "#FECB52"
          ],
          "font": {
           "color": "#2a3f5f"
          },
          "geo": {
           "bgcolor": "white",
           "lakecolor": "white",
           "landcolor": "#E5ECF6",
           "showlakes": true,
           "showland": true,
           "subunitcolor": "white"
          },
          "hoverlabel": {
           "align": "left"
          },
          "hovermode": "closest",
          "mapbox": {
           "style": "light"
          },
          "paper_bgcolor": "white",
          "plot_bgcolor": "#E5ECF6",
          "polar": {
           "angularaxis": {
            "gridcolor": "white",
            "linecolor": "white",
            "ticks": ""
           },
           "bgcolor": "#E5ECF6",
           "radialaxis": {
            "gridcolor": "white",
            "linecolor": "white",
            "ticks": ""
           }
          },
          "scene": {
           "xaxis": {
            "backgroundcolor": "#E5ECF6",
            "gridcolor": "white",
            "gridwidth": 2,
            "linecolor": "white",
            "showbackground": true,
            "ticks": "",
            "zerolinecolor": "white"
           },
           "yaxis": {
            "backgroundcolor": "#E5ECF6",
            "gridcolor": "white",
            "gridwidth": 2,
            "linecolor": "white",
            "showbackground": true,
            "ticks": "",
            "zerolinecolor": "white"
           },
           "zaxis": {
            "backgroundcolor": "#E5ECF6",
            "gridcolor": "white",
            "gridwidth": 2,
            "linecolor": "white",
            "showbackground": true,
            "ticks": "",
            "zerolinecolor": "white"
           }
          },
          "shapedefaults": {
           "line": {
            "color": "#2a3f5f"
           }
          },
          "ternary": {
           "aaxis": {
            "gridcolor": "white",
            "linecolor": "white",
            "ticks": ""
           },
           "baxis": {
            "gridcolor": "white",
            "linecolor": "white",
            "ticks": ""
           },
           "bgcolor": "#E5ECF6",
           "caxis": {
            "gridcolor": "white",
            "linecolor": "white",
            "ticks": ""
           }
          },
          "title": {
           "x": 0.05
          },
          "xaxis": {
           "automargin": true,
           "gridcolor": "white",
           "linecolor": "white",
           "ticks": "",
           "title": {
            "standoff": 15
           },
           "zerolinecolor": "white",
           "zerolinewidth": 2
          },
          "yaxis": {
           "automargin": true,
           "gridcolor": "white",
           "linecolor": "white",
           "ticks": "",
           "title": {
            "standoff": 15
           },
           "zerolinecolor": "white",
           "zerolinewidth": 2
          }
         }
        },
        "width": 1080
       }
      }
     },
     "metadata": {}
    }
   ],
   "source": [
    "\n",
    "fig = px.treemap(\n",
    "    kospi_info,\n",
    "    path = ['Market','L1', 'L2', 'Name'],\n",
    "    values = 'sqrtMarCap',\n",
    "    color = 'Change',\n",
    "    color_continuous_scale= [[0, '#14029e'], [0.5, '#424242'], [1, '#8c0618']],\n",
    "    color_continuous_midpoint = 0,\n",
    "    range_color = [-3,3],\n",
    "    branchvalues = 'total',\n",
    "    custom_data = ['Change'],\n",
    "    maxdepth=5\n",
    ")\n",
    "\n",
    "fig.update_traces(\n",
    "    textposition = 'middle center',\n",
    "    marker_line_width= 0.2,\n",
    "    hovertemplate = '<b>%{label}</b>',\n",
    "    texttemplate = '%{label}<br><br>%{customdata[0]:.2f}%'\n",
    "    )\n",
    "\n",
    "fig.update_layout(\n",
    "    autosize = False,\n",
    "    width = 1080,\n",
    "    height = 640,\n",
    "    margin = dict(l=0, r=0, t=0, b=0),\n",
    "    coloraxis_showscale = False\n",
    ")\n"
   ]
  },
  {
   "cell_type": "code",
   "execution_count": 6,
   "metadata": {},
   "outputs": [],
   "source": [
    "# 코스피 종목 정보 불러오기\n",
    "kosdaq_list = fdr.StockListing('KOSDAQ')\n",
    "    # 우선주, 투자신탁 제거\n",
    "kosdaq_list = kosdaq_list.dropna(axis=0).reset_index(drop=True)\n",
    "    # 코스피 종목 정보 추리기\n",
    "kosdaq_info= pd.DataFrame(kosdaq_list, columns = ['Symbol', 'Name', 'Sector'])\n",
    "\n",
    "\n",
    "# 상위 산업 추가하기\n",
    "\n",
    "# 띄워쓰기가 다른 경우가 있음 -> 띄워쓰기 전부 제거\n",
    "# 특수 문자 모두 제거\n",
    "\n",
    "for idx, row in classification.iterrows():\n",
    "    no_space = row['L3'].replace(' ', '')\n",
    "    row['L3'] = no_space\n",
    "\n",
    "    no_specials = re.sub('[-=+,#/\\?:^$.@*\\\"※~&%ㆍ!』\\\\‘|\\(\\)\\[\\]\\<\\>`\\'…》]', '', row['L3'])\n",
    "    row['L3'] = no_specials\n",
    "\n",
    "# 코스피 상위 산업 추가하기\n",
    "\n",
    "kosdaq_info['L2'] = None\n",
    "kosdaq_info['L1'] = None\n",
    "\n",
    "for idx, row in kosdaq_info.iterrows():\n",
    "    \n",
    "    sector = row['Sector'].replace(' ', '') # 코스피의 섹터도 동일하게 띄워쓰기 제거\n",
    "    sector = re.sub('[-=+,#/·\\?:^$.@*\\\"※~&%ㆍ!』\\\\‘|\\(\\)\\[\\]\\<\\>`\\'…》]', '', sector) # 모든 특수문자 제거\n",
    "\n",
    "    L1 = list(classification[classification['L3'] == sector]['L1'])\n",
    "    L2 = list(classification[classification['L3']== sector]['L2'])\n",
    "    \n",
    "    if len(L1) > 0:\n",
    "        kosdaq_info['L1'][idx] = L1[0]\n",
    "        kosdaq_info['L2'][idx] = L2[0]\n",
    "    else:\n",
    "        print(sector)\n",
    "\n",
    "# 컬럼명 바꾸기\n",
    "kosdaq_info = kosdaq_info.rename(columns={'Symbol':'Ticker', 'Sector': 'L3'})\n",
    "\n",
    "kosdaq_ohlcv_pre = stock.get_market_ohlcv_by_ticker(previous, \"KOSDAQ\").reset_index(drop=False)\n",
    "kosdaq_ohlcv_pre = kosdaq_ohlcv_pre.rename(\n",
    "    columns = {\n",
    "        '티커':'Ticker',\n",
    "        '종목명':'Name',\n",
    "        '시가': 'Open',\n",
    "        '고가': 'High',\n",
    "        '저가': 'Low',\n",
    "        '종가': 'Close',\n",
    "        '거래량': 'Volume',\n",
    "        '거래대금': 'Transaction Volume'\n",
    "         }\n",
    "    )\n",
    "\n",
    "kosdaq_ohlcv_today = stock.get_market_ohlcv_by_ticker(today, \"KOSDAQ\").reset_index(drop=False)\n",
    "kosdaq_ohlcv_today = kosdaq_ohlcv_today.rename(\n",
    "    columns = {\n",
    "        '티커':'Ticker',\n",
    "        '종목명':'Name',\n",
    "        '시가': 'Open',\n",
    "        '고가': 'High',\n",
    "        '저가': 'Low',\n",
    "        '종가': 'Close',\n",
    "        '거래량': 'Volume',\n",
    "        '거래대금': 'Transaction Volume'\n",
    "         }\n",
    "    )\n",
    "\n",
    "\n",
    "market_cap_pre = stock.get_market_cap_by_ticker(previous, \"KOSDAQ\").reset_index(drop=False)\n",
    "\n",
    "market_cap_pre = market_cap_pre.rename(\n",
    "    columns = {\n",
    "        '티커':'Ticker',\n",
    "        '종가': 'Close',\n",
    "        '거래량': 'Volume',\n",
    "        '거래대금': 'Transaction Volume',\n",
    "        '시가총액': 'Market Cap',\n",
    "        '상장주식수': 'Share Outstanding'\n",
    "         }\n",
    "    )\n",
    "\n",
    "\n",
    "market_cap_today = stock.get_market_cap_by_ticker(today, \"KOSDAQ\").reset_index(drop=False)\n",
    "\n",
    "market_cap_today = market_cap_today.rename(\n",
    "    columns = {\n",
    "        '티커':'Ticker',\n",
    "        '종가': 'Close',\n",
    "        '거래량': 'Volume',\n",
    "        '거래대금': 'Transaction Volume',\n",
    "        '시가총액': 'Market Cap',\n",
    "        '상장주식수': 'Share Outstanding'\n",
    "         }\n",
    "    )\n",
    "\n",
    "\n",
    "\n",
    "# 코스피 데이터 병합\n",
    "kosdaq_info['Open'] = None\n",
    "kosdaq_info['Close'] = None\n",
    "kosdaq_info['Pr_Change'] = None\n",
    "kosdaq_info['Change'] = None\n",
    "kosdaq_info['MarCap_pre'] = None\n",
    "kosdaq_info['MarCap_today'] = None\n",
    "kosdaq_info['sqrtMarCap'] = None\n",
    "kosdaq_info['Status'] = None\n",
    "\n",
    "for idx, row in kosdaq_info.iterrows():\n",
    "    ticker = row['Ticker']\n",
    "    \n",
    "    stock_ohlcv_today = kosdaq_ohlcv_today[kosdaq_ohlcv_today['Ticker'] == ticker]\n",
    "\n",
    "    mcap_td = market_cap_today[market_cap_today[\"Ticker\"] == ticker]['Market Cap'].iloc[0]  \n",
    "    row['MarCap_today'] = int(mcap_td)\n",
    "\n",
    "    mcap_pr = market_cap_pre[market_cap_pre[\"Ticker\"] == ticker]['Market Cap'].iloc[0] \n",
    "    row['MarCap_pre'] = int(mcap_pr)\n",
    "       \n",
    "    if stock_ohlcv_today['Open'].iloc[0] != 0: # 거래정지가 아닌 경우\n",
    "        row['Open'] = stock_ohlcv_today['Open'].iloc[0]\n",
    "        row['Close'] = stock_ohlcv_today['Close'].iloc[0]\n",
    "        \n",
    "        # 전일 대비 가격 변동\n",
    "        pre_close = kosdaq_ohlcv_pre[kosdaq_ohlcv_pre['Ticker'] == ticker]['Close'].iloc[0]\n",
    "        ch = row['Close'] - pre_close\n",
    "        row['Pr_Change'] = ch\n",
    "        pch = round((row['Close'] - pre_close) / pre_close * 100, 2)\n",
    "        row['Change'] = pch\n",
    "        \n",
    "        row['sqrtMarCap'] = np.sqrt(int(mcap_td))\n",
    "        row['Status'] = 'Active'\n",
    "\n",
    "    else: # 거래정지\n",
    "        row['Open'] = stock_ohlcv_today['Close'].iloc[0]\n",
    "        row['Close'] = stock_ohlcv_today['Close'].iloc[0]\n",
    "        row['Change'] = 0\n",
    "        \n",
    "        row['sqrtMarCap'] = np.sqrt(int(mcap_td))\n",
    "        row['Status'] = 'Suspend'\n",
    "\n",
    "kosdaq_info['Market'] = 'KOSDAQ'\n",
    "kosdaq_info['Open'] = kosdaq_info['Open'].astype(float)\n",
    "kosdaq_info['Close'] = kosdaq_info['Close'].astype(float)\n",
    "kosdaq_info['Change'] = kosdaq_info['Change'].astype(float)\n",
    "kosdaq_info['MarCap_pre'] = kosdaq_info['MarCap_pre'].astype(float)\n",
    "kosdaq_info['MarCap_today'] = kosdaq_info['MarCap_today'].astype(float)\n",
    "kosdaq_info['sqrtMarCap'] = kosdaq_info['sqrtMarCap'].astype(float)\n",
    "\n",
    "fig = px.treemap(\n",
    "    kosdaq_info,\n",
    "    path = ['Market','L1', 'L2', 'Name'],\n",
    "    values = 'MarCap_today',\n",
    "    color = 'Change',\n",
    "    color_continuous_scale= [[0, '#14029e'], [0.5, '#424242'], [1, '#8c0618']],\n",
    "    color_continuous_midpoint = 0,\n",
    "    range_color = [-3,3],\n",
    "    branchvalues = 'total',\n",
    "    custom_data = ['Change'],\n",
    "    maxdepth=5\n",
    ")\n",
    "\n",
    "fig.update_traces(\n",
    "    textposition = 'middle center',\n",
    "    marker_line_width= 0.2,\n",
    "    hovertemplate = '<b>%{label}</b>',\n",
    "    texttemplate = '%{label}<br><br>%{customdata[0]:.2f}%'\n",
    "    )\n",
    "\n",
    "fig.update_layout(\n",
    "    autosize = False,\n",
    "    width = 1080,\n",
    "    height = 640,\n",
    "    margin = dict(l=0, r=0, t=0, b=0),\n",
    "    coloraxis_showscale = False\n",
    ")\n",
    "\n",
    "\n"
   ]
  }
 ],
 "metadata": {
  "hide_input": false,
  "kernelspec": {
   "display_name": "Python 3",
   "language": "python",
   "name": "python3"
  },
  "language_info": {
   "codemirror_mode": {
    "name": "ipython",
    "version": 3
   },
   "file_extension": ".py",
   "mimetype": "text/x-python",
   "name": "python",
   "nbconvert_exporter": "python",
   "pygments_lexer": "ipython3",
   "version": "3.8.5-final"
  },
  "toc": {
   "base_numbering": 1,
   "nav_menu": {},
   "number_sections": true,
   "sideBar": true,
   "skip_h1_title": false,
   "title_cell": "Table of Contents",
   "title_sidebar": "Contents",
   "toc_cell": false,
   "toc_position": {},
   "toc_section_display": true,
   "toc_window_display": false
  }
 },
 "nbformat": 4,
 "nbformat_minor": 2
}